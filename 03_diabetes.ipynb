{
 "cells": [
  {
   "cell_type": "code",
   "execution_count": 1,
   "id": "668b6156-7fed-4856-afea-0111b61733e8",
   "metadata": {
    "tags": []
   },
   "outputs": [
    {
     "name": "stderr",
     "output_type": "stream",
     "text": [
      "2022-11-13 17:17:54.759546: I tensorflow/core/platform/cpu_feature_guard.cc:193] This TensorFlow binary is optimized with oneAPI Deep Neural Network Library (oneDNN) to use the following CPU instructions in performance-critical operations:  AVX2 FMA\n",
      "To enable them in other operations, rebuild TensorFlow with the appropriate compiler flags.\n"
     ]
    },
    {
     "data": {
      "text/plain": [
       "TabularModel(\n",
       "  (lin1): Linear(in_features=13, out_features=200, bias=True)\n",
       "  (lin2): Linear(in_features=200, out_features=50, bias=True)\n",
       "  (lin3): Linear(in_features=50, out_features=2, bias=True)\n",
       "  (bn1): BatchNorm1d(9, eps=1e-05, momentum=0.1, affine=True, track_running_stats=True)\n",
       "  (drops): Dropout(p=0.3, inplace=False)\n",
       ")"
      ]
     },
     "execution_count": 1,
     "metadata": {},
     "output_type": "execute_result"
    }
   ],
   "source": [
    "from util import *\n",
    "\n",
    "from src.dataset import load_diabetes\n",
    "from src.counterfactual import get_baseline_counterfactuals\n",
    "\n",
    "import joblib\n",
    "import time\n",
    "\n",
    "import warnings\n",
    "warnings.filterwarnings('ignore')\n",
    "                        \n",
    "# Get a model\n",
    "model, encoder, scaler = joblib.load('models/diabetes.gz') # Model should have the BlackBox interface\n",
    "model"
   ]
  },
  {
   "cell_type": "code",
   "execution_count": 2,
   "id": "4330d911-2504-49de-8566-6c99ffa21469",
   "metadata": {},
   "outputs": [
    {
     "name": "stdout",
     "output_type": "stream",
     "text": [
      "Weight Fitting Epoch: 2000/10000 ; Error: 27.5 ; Regulator: 44.4 ; Reg Factor: 1\n",
      "Weight Fitting Epoch: 4000/10000 ; Error: 18.9 ; Regulator: 7.95 ; Reg Factor: 1\n",
      "Weight Fitting Epoch: 6000/10000 ; Error: 17.2 ; Regulator: 2.27 ; Reg Factor: 1\n",
      "Weight Fitting Epoch: 8000/10000 ; Error: 16.8 ; Regulator: 0.763 ; Reg Factor: 1\n",
      "Weight Fitting Epoch: 10000/10000 ; Error: 16.6 ; Regulator: 0.281 ; Reg Factor: 1\n"
     ]
    }
   ],
   "source": [
    "loader = iter(load_diabetes(100, train=False))\n",
    "X_corpus, _ = next(loader)\n",
    "X_test, _ = next(loader)\n",
    "\n",
    "simplex = get_simplex(model, X_corpus, X_test, verbose = True)"
   ]
  },
  {
   "cell_type": "code",
   "execution_count": 3,
   "id": "8d91357d-2011-47df-ba10-8043e40864ba",
   "metadata": {},
   "outputs": [
    {
     "name": "stdout",
     "output_type": "stream",
     "text": [
      "CPU times: user 697 ms, sys: 13 ms, total: 710 ms\n",
      "Wall time: 89.8 ms\n"
     ]
    }
   ],
   "source": [
    "%%time\n",
    "test_id = 10\n",
    "\n",
    "cfs, x, desired_class = get_simplex_cf_tabular(simplex, model, test_id, encoder)"
   ]
  },
  {
   "cell_type": "code",
   "execution_count": 5,
   "id": "a41943a9-0547-4b62-afc1-9830b8a748ab",
   "metadata": {},
   "outputs": [
    {
     "name": "stdout",
     "output_type": "stream",
     "text": [
      "Original: \n"
     ]
    },
    {
     "data": {
      "text/html": [
       "<div>\n",
       "<style scoped>\n",
       "    .dataframe tbody tr th:only-of-type {\n",
       "        vertical-align: middle;\n",
       "    }\n",
       "\n",
       "    .dataframe tbody tr th {\n",
       "        vertical-align: top;\n",
       "    }\n",
       "\n",
       "    .dataframe thead th {\n",
       "        text-align: right;\n",
       "    }\n",
       "</style>\n",
       "<table border=\"1\" class=\"dataframe\">\n",
       "  <thead>\n",
       "    <tr style=\"text-align: right;\">\n",
       "      <th></th>\n",
       "      <th>GenHlth</th>\n",
       "      <th>Age</th>\n",
       "      <th>Education</th>\n",
       "      <th>Income</th>\n",
       "      <th>HighBP</th>\n",
       "      <th>BMI</th>\n",
       "      <th>HighChol</th>\n",
       "      <th>DiffWalk</th>\n",
       "      <th>HeartDiseaseorAttack</th>\n",
       "      <th>PhysHlth</th>\n",
       "      <th>HvyAlcoholConsump</th>\n",
       "      <th>Sex</th>\n",
       "      <th>CholCheck</th>\n",
       "    </tr>\n",
       "  </thead>\n",
       "  <tbody>\n",
       "    <tr>\n",
       "      <th>0</th>\n",
       "      <td>category_2</td>\n",
       "      <td>category_8</td>\n",
       "      <td>category_6</td>\n",
       "      <td>category_8</td>\n",
       "      <td>1</td>\n",
       "      <td>29</td>\n",
       "      <td>1</td>\n",
       "      <td>0</td>\n",
       "      <td>0</td>\n",
       "      <td>0</td>\n",
       "      <td>0</td>\n",
       "      <td>1</td>\n",
       "      <td>1</td>\n",
       "    </tr>\n",
       "  </tbody>\n",
       "</table>\n",
       "</div>"
      ],
      "text/plain": [
       "      GenHlth         Age   Education      Income  HighBP  BMI  HighChol  \\\n",
       "0  category_2  category_8  category_6  category_8       1   29         1   \n",
       "\n",
       "   DiffWalk  HeartDiseaseorAttack  PhysHlth  HvyAlcoholConsump  Sex  CholCheck  \n",
       "0         0                     0         0                  0    1          1  "
      ]
     },
     "metadata": {},
     "output_type": "display_data"
    },
    {
     "name": "stdout",
     "output_type": "stream",
     "text": [
      "\n",
      "Kept counterfactual generation: \n"
     ]
    },
    {
     "data": {
      "text/html": [
       "<style type=\"text/css\">\n",
       "#T_182ec_row0_col0, #T_182ec_row0_col1, #T_182ec_row0_col2, #T_182ec_row0_col3, #T_182ec_row0_col5, #T_182ec_row0_col6, #T_182ec_row0_col7, #T_182ec_row0_col8, #T_182ec_row0_col9, #T_182ec_row0_col10, #T_182ec_row0_col11, #T_182ec_row0_col12 {\n",
       "  background-color: ;\n",
       "}\n",
       "#T_182ec_row0_col4 {\n",
       "  background-color: green;\n",
       "}\n",
       "</style>\n",
       "<table id=\"T_182ec\">\n",
       "  <thead>\n",
       "    <tr>\n",
       "      <th class=\"blank level0\" >&nbsp;</th>\n",
       "      <th id=\"T_182ec_level0_col0\" class=\"col_heading level0 col0\" >GenHlth</th>\n",
       "      <th id=\"T_182ec_level0_col1\" class=\"col_heading level0 col1\" >Age</th>\n",
       "      <th id=\"T_182ec_level0_col2\" class=\"col_heading level0 col2\" >Education</th>\n",
       "      <th id=\"T_182ec_level0_col3\" class=\"col_heading level0 col3\" >Income</th>\n",
       "      <th id=\"T_182ec_level0_col4\" class=\"col_heading level0 col4\" >HighBP</th>\n",
       "      <th id=\"T_182ec_level0_col5\" class=\"col_heading level0 col5\" >BMI</th>\n",
       "      <th id=\"T_182ec_level0_col6\" class=\"col_heading level0 col6\" >HighChol</th>\n",
       "      <th id=\"T_182ec_level0_col7\" class=\"col_heading level0 col7\" >DiffWalk</th>\n",
       "      <th id=\"T_182ec_level0_col8\" class=\"col_heading level0 col8\" >HeartDiseaseorAttack</th>\n",
       "      <th id=\"T_182ec_level0_col9\" class=\"col_heading level0 col9\" >PhysHlth</th>\n",
       "      <th id=\"T_182ec_level0_col10\" class=\"col_heading level0 col10\" >HvyAlcoholConsump</th>\n",
       "      <th id=\"T_182ec_level0_col11\" class=\"col_heading level0 col11\" >Sex</th>\n",
       "      <th id=\"T_182ec_level0_col12\" class=\"col_heading level0 col12\" >CholCheck</th>\n",
       "    </tr>\n",
       "  </thead>\n",
       "  <tbody>\n",
       "    <tr>\n",
       "      <th id=\"T_182ec_level0_row0\" class=\"row_heading level0 row0\" >0</th>\n",
       "      <td id=\"T_182ec_row0_col0\" class=\"data row0 col0\" >category_2</td>\n",
       "      <td id=\"T_182ec_row0_col1\" class=\"data row0 col1\" >category_8</td>\n",
       "      <td id=\"T_182ec_row0_col2\" class=\"data row0 col2\" >category_6</td>\n",
       "      <td id=\"T_182ec_row0_col3\" class=\"data row0 col3\" >category_8</td>\n",
       "      <td id=\"T_182ec_row0_col4\" class=\"data row0 col4\" >0</td>\n",
       "      <td id=\"T_182ec_row0_col5\" class=\"data row0 col5\" >29</td>\n",
       "      <td id=\"T_182ec_row0_col6\" class=\"data row0 col6\" >1</td>\n",
       "      <td id=\"T_182ec_row0_col7\" class=\"data row0 col7\" >0</td>\n",
       "      <td id=\"T_182ec_row0_col8\" class=\"data row0 col8\" >0</td>\n",
       "      <td id=\"T_182ec_row0_col9\" class=\"data row0 col9\" >0</td>\n",
       "      <td id=\"T_182ec_row0_col10\" class=\"data row0 col10\" >0</td>\n",
       "      <td id=\"T_182ec_row0_col11\" class=\"data row0 col11\" >1</td>\n",
       "      <td id=\"T_182ec_row0_col12\" class=\"data row0 col12\" >1</td>\n",
       "    </tr>\n",
       "  </tbody>\n",
       "</table>\n"
      ],
      "text/plain": [
       "<pandas.io.formats.style.Styler at 0x7fc5b03bb4c0>"
      ]
     },
     "metadata": {},
     "output_type": "display_data"
    },
    {
     "name": "stdout",
     "output_type": "stream",
     "text": [
      "\n",
      "Predicted:  tensor(0)  ||  Desired:  tensor(0)  ||  Orginal:  tensor(1)\n",
      "************************************************************************************************************************\n",
      "Kept counterfactual generation: \n"
     ]
    },
    {
     "data": {
      "text/html": [
       "<style type=\"text/css\">\n",
       "#T_5adc8_row0_col0, #T_5adc8_row0_col1, #T_5adc8_row0_col2, #T_5adc8_row0_col3, #T_5adc8_row0_col5, #T_5adc8_row0_col6, #T_5adc8_row0_col7, #T_5adc8_row0_col8, #T_5adc8_row0_col9, #T_5adc8_row0_col10, #T_5adc8_row0_col11, #T_5adc8_row0_col12 {\n",
       "  background-color: ;\n",
       "}\n",
       "#T_5adc8_row0_col4 {\n",
       "  background-color: green;\n",
       "}\n",
       "</style>\n",
       "<table id=\"T_5adc8\">\n",
       "  <thead>\n",
       "    <tr>\n",
       "      <th class=\"blank level0\" >&nbsp;</th>\n",
       "      <th id=\"T_5adc8_level0_col0\" class=\"col_heading level0 col0\" >GenHlth</th>\n",
       "      <th id=\"T_5adc8_level0_col1\" class=\"col_heading level0 col1\" >Age</th>\n",
       "      <th id=\"T_5adc8_level0_col2\" class=\"col_heading level0 col2\" >Education</th>\n",
       "      <th id=\"T_5adc8_level0_col3\" class=\"col_heading level0 col3\" >Income</th>\n",
       "      <th id=\"T_5adc8_level0_col4\" class=\"col_heading level0 col4\" >HighBP</th>\n",
       "      <th id=\"T_5adc8_level0_col5\" class=\"col_heading level0 col5\" >BMI</th>\n",
       "      <th id=\"T_5adc8_level0_col6\" class=\"col_heading level0 col6\" >HighChol</th>\n",
       "      <th id=\"T_5adc8_level0_col7\" class=\"col_heading level0 col7\" >DiffWalk</th>\n",
       "      <th id=\"T_5adc8_level0_col8\" class=\"col_heading level0 col8\" >HeartDiseaseorAttack</th>\n",
       "      <th id=\"T_5adc8_level0_col9\" class=\"col_heading level0 col9\" >PhysHlth</th>\n",
       "      <th id=\"T_5adc8_level0_col10\" class=\"col_heading level0 col10\" >HvyAlcoholConsump</th>\n",
       "      <th id=\"T_5adc8_level0_col11\" class=\"col_heading level0 col11\" >Sex</th>\n",
       "      <th id=\"T_5adc8_level0_col12\" class=\"col_heading level0 col12\" >CholCheck</th>\n",
       "    </tr>\n",
       "  </thead>\n",
       "  <tbody>\n",
       "    <tr>\n",
       "      <th id=\"T_5adc8_level0_row0\" class=\"row_heading level0 row0\" >0</th>\n",
       "      <td id=\"T_5adc8_row0_col0\" class=\"data row0 col0\" >category_2</td>\n",
       "      <td id=\"T_5adc8_row0_col1\" class=\"data row0 col1\" >category_8</td>\n",
       "      <td id=\"T_5adc8_row0_col2\" class=\"data row0 col2\" >category_6</td>\n",
       "      <td id=\"T_5adc8_row0_col3\" class=\"data row0 col3\" >category_8</td>\n",
       "      <td id=\"T_5adc8_row0_col4\" class=\"data row0 col4\" >0</td>\n",
       "      <td id=\"T_5adc8_row0_col5\" class=\"data row0 col5\" >29</td>\n",
       "      <td id=\"T_5adc8_row0_col6\" class=\"data row0 col6\" >1</td>\n",
       "      <td id=\"T_5adc8_row0_col7\" class=\"data row0 col7\" >0</td>\n",
       "      <td id=\"T_5adc8_row0_col8\" class=\"data row0 col8\" >0</td>\n",
       "      <td id=\"T_5adc8_row0_col9\" class=\"data row0 col9\" >0</td>\n",
       "      <td id=\"T_5adc8_row0_col10\" class=\"data row0 col10\" >0</td>\n",
       "      <td id=\"T_5adc8_row0_col11\" class=\"data row0 col11\" >1</td>\n",
       "      <td id=\"T_5adc8_row0_col12\" class=\"data row0 col12\" >1</td>\n",
       "    </tr>\n",
       "  </tbody>\n",
       "</table>\n"
      ],
      "text/plain": [
       "<pandas.io.formats.style.Styler at 0x7fc5b03bb430>"
      ]
     },
     "metadata": {},
     "output_type": "display_data"
    },
    {
     "name": "stdout",
     "output_type": "stream",
     "text": [
      "\n",
      "Predicted:  tensor(0)  ||  Desired:  tensor(0)  ||  Orginal:  tensor(1)\n",
      "************************************************************************************************************************\n",
      "Kept counterfactual generation: \n"
     ]
    },
    {
     "data": {
      "text/html": [
       "<style type=\"text/css\">\n",
       "#T_d1bfe_row0_col0, #T_d1bfe_row0_col1, #T_d1bfe_row0_col2, #T_d1bfe_row0_col3, #T_d1bfe_row0_col5, #T_d1bfe_row0_col6, #T_d1bfe_row0_col7, #T_d1bfe_row0_col8, #T_d1bfe_row0_col9, #T_d1bfe_row0_col10, #T_d1bfe_row0_col11, #T_d1bfe_row0_col12 {\n",
       "  background-color: ;\n",
       "}\n",
       "#T_d1bfe_row0_col4 {\n",
       "  background-color: green;\n",
       "}\n",
       "</style>\n",
       "<table id=\"T_d1bfe\">\n",
       "  <thead>\n",
       "    <tr>\n",
       "      <th class=\"blank level0\" >&nbsp;</th>\n",
       "      <th id=\"T_d1bfe_level0_col0\" class=\"col_heading level0 col0\" >GenHlth</th>\n",
       "      <th id=\"T_d1bfe_level0_col1\" class=\"col_heading level0 col1\" >Age</th>\n",
       "      <th id=\"T_d1bfe_level0_col2\" class=\"col_heading level0 col2\" >Education</th>\n",
       "      <th id=\"T_d1bfe_level0_col3\" class=\"col_heading level0 col3\" >Income</th>\n",
       "      <th id=\"T_d1bfe_level0_col4\" class=\"col_heading level0 col4\" >HighBP</th>\n",
       "      <th id=\"T_d1bfe_level0_col5\" class=\"col_heading level0 col5\" >BMI</th>\n",
       "      <th id=\"T_d1bfe_level0_col6\" class=\"col_heading level0 col6\" >HighChol</th>\n",
       "      <th id=\"T_d1bfe_level0_col7\" class=\"col_heading level0 col7\" >DiffWalk</th>\n",
       "      <th id=\"T_d1bfe_level0_col8\" class=\"col_heading level0 col8\" >HeartDiseaseorAttack</th>\n",
       "      <th id=\"T_d1bfe_level0_col9\" class=\"col_heading level0 col9\" >PhysHlth</th>\n",
       "      <th id=\"T_d1bfe_level0_col10\" class=\"col_heading level0 col10\" >HvyAlcoholConsump</th>\n",
       "      <th id=\"T_d1bfe_level0_col11\" class=\"col_heading level0 col11\" >Sex</th>\n",
       "      <th id=\"T_d1bfe_level0_col12\" class=\"col_heading level0 col12\" >CholCheck</th>\n",
       "    </tr>\n",
       "  </thead>\n",
       "  <tbody>\n",
       "    <tr>\n",
       "      <th id=\"T_d1bfe_level0_row0\" class=\"row_heading level0 row0\" >0</th>\n",
       "      <td id=\"T_d1bfe_row0_col0\" class=\"data row0 col0\" >category_2</td>\n",
       "      <td id=\"T_d1bfe_row0_col1\" class=\"data row0 col1\" >category_8</td>\n",
       "      <td id=\"T_d1bfe_row0_col2\" class=\"data row0 col2\" >category_6</td>\n",
       "      <td id=\"T_d1bfe_row0_col3\" class=\"data row0 col3\" >category_8</td>\n",
       "      <td id=\"T_d1bfe_row0_col4\" class=\"data row0 col4\" >0</td>\n",
       "      <td id=\"T_d1bfe_row0_col5\" class=\"data row0 col5\" >29</td>\n",
       "      <td id=\"T_d1bfe_row0_col6\" class=\"data row0 col6\" >1</td>\n",
       "      <td id=\"T_d1bfe_row0_col7\" class=\"data row0 col7\" >0</td>\n",
       "      <td id=\"T_d1bfe_row0_col8\" class=\"data row0 col8\" >0</td>\n",
       "      <td id=\"T_d1bfe_row0_col9\" class=\"data row0 col9\" >0</td>\n",
       "      <td id=\"T_d1bfe_row0_col10\" class=\"data row0 col10\" >0</td>\n",
       "      <td id=\"T_d1bfe_row0_col11\" class=\"data row0 col11\" >1</td>\n",
       "      <td id=\"T_d1bfe_row0_col12\" class=\"data row0 col12\" >1</td>\n",
       "    </tr>\n",
       "  </tbody>\n",
       "</table>\n"
      ],
      "text/plain": [
       "<pandas.io.formats.style.Styler at 0x7fc5a14997b0>"
      ]
     },
     "metadata": {},
     "output_type": "display_data"
    },
    {
     "name": "stdout",
     "output_type": "stream",
     "text": [
      "\n",
      "Predicted:  tensor(0)  ||  Desired:  tensor(0)  ||  Orginal:  tensor(1)\n",
      "************************************************************************************************************************\n",
      "Kept counterfactual generation: \n"
     ]
    },
    {
     "data": {
      "text/html": [
       "<style type=\"text/css\">\n",
       "#T_f6829_row0_col0, #T_f6829_row0_col1, #T_f6829_row0_col2, #T_f6829_row0_col3, #T_f6829_row0_col4, #T_f6829_row0_col6, #T_f6829_row0_col7, #T_f6829_row0_col8, #T_f6829_row0_col9, #T_f6829_row0_col10, #T_f6829_row0_col11, #T_f6829_row0_col12 {\n",
       "  background-color: ;\n",
       "}\n",
       "#T_f6829_row0_col5 {\n",
       "  background-color: green;\n",
       "}\n",
       "</style>\n",
       "<table id=\"T_f6829\">\n",
       "  <thead>\n",
       "    <tr>\n",
       "      <th class=\"blank level0\" >&nbsp;</th>\n",
       "      <th id=\"T_f6829_level0_col0\" class=\"col_heading level0 col0\" >GenHlth</th>\n",
       "      <th id=\"T_f6829_level0_col1\" class=\"col_heading level0 col1\" >Age</th>\n",
       "      <th id=\"T_f6829_level0_col2\" class=\"col_heading level0 col2\" >Education</th>\n",
       "      <th id=\"T_f6829_level0_col3\" class=\"col_heading level0 col3\" >Income</th>\n",
       "      <th id=\"T_f6829_level0_col4\" class=\"col_heading level0 col4\" >HighBP</th>\n",
       "      <th id=\"T_f6829_level0_col5\" class=\"col_heading level0 col5\" >BMI</th>\n",
       "      <th id=\"T_f6829_level0_col6\" class=\"col_heading level0 col6\" >HighChol</th>\n",
       "      <th id=\"T_f6829_level0_col7\" class=\"col_heading level0 col7\" >DiffWalk</th>\n",
       "      <th id=\"T_f6829_level0_col8\" class=\"col_heading level0 col8\" >HeartDiseaseorAttack</th>\n",
       "      <th id=\"T_f6829_level0_col9\" class=\"col_heading level0 col9\" >PhysHlth</th>\n",
       "      <th id=\"T_f6829_level0_col10\" class=\"col_heading level0 col10\" >HvyAlcoholConsump</th>\n",
       "      <th id=\"T_f6829_level0_col11\" class=\"col_heading level0 col11\" >Sex</th>\n",
       "      <th id=\"T_f6829_level0_col12\" class=\"col_heading level0 col12\" >CholCheck</th>\n",
       "    </tr>\n",
       "  </thead>\n",
       "  <tbody>\n",
       "    <tr>\n",
       "      <th id=\"T_f6829_level0_row0\" class=\"row_heading level0 row0\" >0</th>\n",
       "      <td id=\"T_f6829_row0_col0\" class=\"data row0 col0\" >category_2</td>\n",
       "      <td id=\"T_f6829_row0_col1\" class=\"data row0 col1\" >category_8</td>\n",
       "      <td id=\"T_f6829_row0_col2\" class=\"data row0 col2\" >category_6</td>\n",
       "      <td id=\"T_f6829_row0_col3\" class=\"data row0 col3\" >category_8</td>\n",
       "      <td id=\"T_f6829_row0_col4\" class=\"data row0 col4\" >1</td>\n",
       "      <td id=\"T_f6829_row0_col5\" class=\"data row0 col5\" >20</td>\n",
       "      <td id=\"T_f6829_row0_col6\" class=\"data row0 col6\" >1</td>\n",
       "      <td id=\"T_f6829_row0_col7\" class=\"data row0 col7\" >0</td>\n",
       "      <td id=\"T_f6829_row0_col8\" class=\"data row0 col8\" >0</td>\n",
       "      <td id=\"T_f6829_row0_col9\" class=\"data row0 col9\" >0</td>\n",
       "      <td id=\"T_f6829_row0_col10\" class=\"data row0 col10\" >0</td>\n",
       "      <td id=\"T_f6829_row0_col11\" class=\"data row0 col11\" >1</td>\n",
       "      <td id=\"T_f6829_row0_col12\" class=\"data row0 col12\" >1</td>\n",
       "    </tr>\n",
       "  </tbody>\n",
       "</table>\n"
      ],
      "text/plain": [
       "<pandas.io.formats.style.Styler at 0x7fc5b03bb4c0>"
      ]
     },
     "metadata": {},
     "output_type": "display_data"
    },
    {
     "name": "stdout",
     "output_type": "stream",
     "text": [
      "\n",
      "Predicted:  tensor(0)  ||  Desired:  tensor(0)  ||  Orginal:  tensor(1)\n",
      "************************************************************************************************************************\n",
      "Kept counterfactual generation: \n"
     ]
    },
    {
     "data": {
      "text/html": [
       "<style type=\"text/css\">\n",
       "#T_4c0b8_row0_col0, #T_4c0b8_row0_col1, #T_4c0b8_row0_col2, #T_4c0b8_row0_col3, #T_4c0b8_row0_col4, #T_4c0b8_row0_col6, #T_4c0b8_row0_col7, #T_4c0b8_row0_col8, #T_4c0b8_row0_col9, #T_4c0b8_row0_col10, #T_4c0b8_row0_col11, #T_4c0b8_row0_col12 {\n",
       "  background-color: ;\n",
       "}\n",
       "#T_4c0b8_row0_col5 {\n",
       "  background-color: green;\n",
       "}\n",
       "</style>\n",
       "<table id=\"T_4c0b8\">\n",
       "  <thead>\n",
       "    <tr>\n",
       "      <th class=\"blank level0\" >&nbsp;</th>\n",
       "      <th id=\"T_4c0b8_level0_col0\" class=\"col_heading level0 col0\" >GenHlth</th>\n",
       "      <th id=\"T_4c0b8_level0_col1\" class=\"col_heading level0 col1\" >Age</th>\n",
       "      <th id=\"T_4c0b8_level0_col2\" class=\"col_heading level0 col2\" >Education</th>\n",
       "      <th id=\"T_4c0b8_level0_col3\" class=\"col_heading level0 col3\" >Income</th>\n",
       "      <th id=\"T_4c0b8_level0_col4\" class=\"col_heading level0 col4\" >HighBP</th>\n",
       "      <th id=\"T_4c0b8_level0_col5\" class=\"col_heading level0 col5\" >BMI</th>\n",
       "      <th id=\"T_4c0b8_level0_col6\" class=\"col_heading level0 col6\" >HighChol</th>\n",
       "      <th id=\"T_4c0b8_level0_col7\" class=\"col_heading level0 col7\" >DiffWalk</th>\n",
       "      <th id=\"T_4c0b8_level0_col8\" class=\"col_heading level0 col8\" >HeartDiseaseorAttack</th>\n",
       "      <th id=\"T_4c0b8_level0_col9\" class=\"col_heading level0 col9\" >PhysHlth</th>\n",
       "      <th id=\"T_4c0b8_level0_col10\" class=\"col_heading level0 col10\" >HvyAlcoholConsump</th>\n",
       "      <th id=\"T_4c0b8_level0_col11\" class=\"col_heading level0 col11\" >Sex</th>\n",
       "      <th id=\"T_4c0b8_level0_col12\" class=\"col_heading level0 col12\" >CholCheck</th>\n",
       "    </tr>\n",
       "  </thead>\n",
       "  <tbody>\n",
       "    <tr>\n",
       "      <th id=\"T_4c0b8_level0_row0\" class=\"row_heading level0 row0\" >0</th>\n",
       "      <td id=\"T_4c0b8_row0_col0\" class=\"data row0 col0\" >category_2</td>\n",
       "      <td id=\"T_4c0b8_row0_col1\" class=\"data row0 col1\" >category_8</td>\n",
       "      <td id=\"T_4c0b8_row0_col2\" class=\"data row0 col2\" >category_6</td>\n",
       "      <td id=\"T_4c0b8_row0_col3\" class=\"data row0 col3\" >category_8</td>\n",
       "      <td id=\"T_4c0b8_row0_col4\" class=\"data row0 col4\" >1</td>\n",
       "      <td id=\"T_4c0b8_row0_col5\" class=\"data row0 col5\" >21</td>\n",
       "      <td id=\"T_4c0b8_row0_col6\" class=\"data row0 col6\" >1</td>\n",
       "      <td id=\"T_4c0b8_row0_col7\" class=\"data row0 col7\" >0</td>\n",
       "      <td id=\"T_4c0b8_row0_col8\" class=\"data row0 col8\" >0</td>\n",
       "      <td id=\"T_4c0b8_row0_col9\" class=\"data row0 col9\" >0</td>\n",
       "      <td id=\"T_4c0b8_row0_col10\" class=\"data row0 col10\" >0</td>\n",
       "      <td id=\"T_4c0b8_row0_col11\" class=\"data row0 col11\" >1</td>\n",
       "      <td id=\"T_4c0b8_row0_col12\" class=\"data row0 col12\" >1</td>\n",
       "    </tr>\n",
       "  </tbody>\n",
       "</table>\n"
      ],
      "text/plain": [
       "<pandas.io.formats.style.Styler at 0x7fc592133d60>"
      ]
     },
     "metadata": {},
     "output_type": "display_data"
    },
    {
     "name": "stdout",
     "output_type": "stream",
     "text": [
      "\n",
      "Predicted:  tensor(0)  ||  Desired:  tensor(0)  ||  Orginal:  tensor(1)\n",
      "************************************************************************************************************************\n"
     ]
    }
   ],
   "source": [
    "cols = ['GenHlth', 'Age', 'Education', 'Income', \\\n",
    "        'HighBP','BMI','HighChol','DiffWalk',\\\n",
    "        'HeartDiseaseorAttack','PhysHlth',\\\n",
    "        'HvyAlcoholConsump','Sex','CholCheck']\n",
    "\n",
    "x = simplex.test_examples[test_id:test_id+1]\n",
    "display_tabular_cfs(cfs, model, x, desired_class, scaler, encoder, cols)"
   ]
  },
  {
   "cell_type": "code",
   "execution_count": null,
   "id": "dd0f75a0-c992-4490-be33-f81c0c493981",
   "metadata": {},
   "outputs": [],
   "source": []
  },
  {
   "cell_type": "code",
   "execution_count": 6,
   "id": "ef85de68-7df4-4b6e-9e2d-8151cea3ad9c",
   "metadata": {},
   "outputs": [
    {
     "name": "stdout",
     "output_type": "stream",
     "text": [
      "Original: \n"
     ]
    },
    {
     "data": {
      "text/html": [
       "<div>\n",
       "<style scoped>\n",
       "    .dataframe tbody tr th:only-of-type {\n",
       "        vertical-align: middle;\n",
       "    }\n",
       "\n",
       "    .dataframe tbody tr th {\n",
       "        vertical-align: top;\n",
       "    }\n",
       "\n",
       "    .dataframe thead th {\n",
       "        text-align: right;\n",
       "    }\n",
       "</style>\n",
       "<table border=\"1\" class=\"dataframe\">\n",
       "  <thead>\n",
       "    <tr style=\"text-align: right;\">\n",
       "      <th></th>\n",
       "      <th>GenHlth</th>\n",
       "      <th>Age</th>\n",
       "      <th>Education</th>\n",
       "      <th>Income</th>\n",
       "      <th>HighBP</th>\n",
       "      <th>BMI</th>\n",
       "      <th>HighChol</th>\n",
       "      <th>DiffWalk</th>\n",
       "      <th>HeartDiseaseorAttack</th>\n",
       "      <th>PhysHlth</th>\n",
       "      <th>HvyAlcoholConsump</th>\n",
       "      <th>Sex</th>\n",
       "      <th>CholCheck</th>\n",
       "    </tr>\n",
       "  </thead>\n",
       "  <tbody>\n",
       "    <tr>\n",
       "      <th>0</th>\n",
       "      <td>category_2</td>\n",
       "      <td>category_8</td>\n",
       "      <td>category_6</td>\n",
       "      <td>category_8</td>\n",
       "      <td>1</td>\n",
       "      <td>29</td>\n",
       "      <td>1</td>\n",
       "      <td>0</td>\n",
       "      <td>0</td>\n",
       "      <td>0</td>\n",
       "      <td>0</td>\n",
       "      <td>1</td>\n",
       "      <td>1</td>\n",
       "    </tr>\n",
       "  </tbody>\n",
       "</table>\n",
       "</div>"
      ],
      "text/plain": [
       "      GenHlth         Age   Education      Income  HighBP  BMI  HighChol  \\\n",
       "0  category_2  category_8  category_6  category_8       1   29         1   \n",
       "\n",
       "   DiffWalk  HeartDiseaseorAttack  PhysHlth  HvyAlcoholConsump  Sex  CholCheck  \n",
       "0         0                     0         0                  0    1          1  "
      ]
     },
     "metadata": {},
     "output_type": "display_data"
    },
    {
     "name": "stdout",
     "output_type": "stream",
     "text": [
      "\n",
      "Kept counterfactual generation: \n"
     ]
    },
    {
     "data": {
      "text/html": [
       "<style type=\"text/css\">\n",
       "#T_cf042_row0_col0, #T_cf042_row0_col3, #T_cf042_row0_col4, #T_cf042_row0_col5, #T_cf042_row0_col6, #T_cf042_row0_col9, #T_cf042_row0_col11 {\n",
       "  background-color: green;\n",
       "}\n",
       "#T_cf042_row0_col1, #T_cf042_row0_col2, #T_cf042_row0_col7, #T_cf042_row0_col8, #T_cf042_row0_col10, #T_cf042_row0_col12 {\n",
       "  background-color: ;\n",
       "}\n",
       "</style>\n",
       "<table id=\"T_cf042\">\n",
       "  <thead>\n",
       "    <tr>\n",
       "      <th class=\"blank level0\" >&nbsp;</th>\n",
       "      <th id=\"T_cf042_level0_col0\" class=\"col_heading level0 col0\" >GenHlth</th>\n",
       "      <th id=\"T_cf042_level0_col1\" class=\"col_heading level0 col1\" >Age</th>\n",
       "      <th id=\"T_cf042_level0_col2\" class=\"col_heading level0 col2\" >Education</th>\n",
       "      <th id=\"T_cf042_level0_col3\" class=\"col_heading level0 col3\" >Income</th>\n",
       "      <th id=\"T_cf042_level0_col4\" class=\"col_heading level0 col4\" >HighBP</th>\n",
       "      <th id=\"T_cf042_level0_col5\" class=\"col_heading level0 col5\" >BMI</th>\n",
       "      <th id=\"T_cf042_level0_col6\" class=\"col_heading level0 col6\" >HighChol</th>\n",
       "      <th id=\"T_cf042_level0_col7\" class=\"col_heading level0 col7\" >DiffWalk</th>\n",
       "      <th id=\"T_cf042_level0_col8\" class=\"col_heading level0 col8\" >HeartDiseaseorAttack</th>\n",
       "      <th id=\"T_cf042_level0_col9\" class=\"col_heading level0 col9\" >PhysHlth</th>\n",
       "      <th id=\"T_cf042_level0_col10\" class=\"col_heading level0 col10\" >HvyAlcoholConsump</th>\n",
       "      <th id=\"T_cf042_level0_col11\" class=\"col_heading level0 col11\" >Sex</th>\n",
       "      <th id=\"T_cf042_level0_col12\" class=\"col_heading level0 col12\" >CholCheck</th>\n",
       "    </tr>\n",
       "  </thead>\n",
       "  <tbody>\n",
       "    <tr>\n",
       "      <th id=\"T_cf042_level0_row0\" class=\"row_heading level0 row0\" >0</th>\n",
       "      <td id=\"T_cf042_row0_col0\" class=\"data row0 col0\" >category_3</td>\n",
       "      <td id=\"T_cf042_row0_col1\" class=\"data row0 col1\" >category_8</td>\n",
       "      <td id=\"T_cf042_row0_col2\" class=\"data row0 col2\" >category_6</td>\n",
       "      <td id=\"T_cf042_row0_col3\" class=\"data row0 col3\" >category_7</td>\n",
       "      <td id=\"T_cf042_row0_col4\" class=\"data row0 col4\" >0</td>\n",
       "      <td id=\"T_cf042_row0_col5\" class=\"data row0 col5\" >28</td>\n",
       "      <td id=\"T_cf042_row0_col6\" class=\"data row0 col6\" >0</td>\n",
       "      <td id=\"T_cf042_row0_col7\" class=\"data row0 col7\" >0</td>\n",
       "      <td id=\"T_cf042_row0_col8\" class=\"data row0 col8\" >0</td>\n",
       "      <td id=\"T_cf042_row0_col9\" class=\"data row0 col9\" >2</td>\n",
       "      <td id=\"T_cf042_row0_col10\" class=\"data row0 col10\" >0</td>\n",
       "      <td id=\"T_cf042_row0_col11\" class=\"data row0 col11\" >0</td>\n",
       "      <td id=\"T_cf042_row0_col12\" class=\"data row0 col12\" >1</td>\n",
       "    </tr>\n",
       "  </tbody>\n",
       "</table>\n"
      ],
      "text/plain": [
       "<pandas.io.formats.style.Styler at 0x7fc585e39720>"
      ]
     },
     "metadata": {},
     "output_type": "display_data"
    },
    {
     "name": "stdout",
     "output_type": "stream",
     "text": [
      "\n",
      "Predicted:  tensor(0)  ||  Desired:  tensor(0)  ||  Orginal:  tensor(1)\n",
      "************************************************************************************************************************\n"
     ]
    }
   ],
   "source": [
    "baseline_cfs = get_baseline_counterfactuals(model = model, target = desired_class, test = x, \\\n",
    "                                            corpus = X_corpus)\n",
    "\n",
    "display_tabular_cfs(baseline_cfs, model, x, desired_class, scaler, encoder, cols)"
   ]
  },
  {
   "cell_type": "code",
   "execution_count": null,
   "id": "7f055942-2c70-48d2-a436-eeba54a92d19",
   "metadata": {},
   "outputs": [],
   "source": []
  },
  {
   "cell_type": "code",
   "execution_count": 7,
   "id": "7eadbd38-2f11-42d5-b42e-5f4ab5e5ee77",
   "metadata": {},
   "outputs": [
    {
     "name": "stdout",
     "output_type": "stream",
     "text": [
      "WARNING:tensorflow:From /Users/adebayooshingbesan/opt/anaconda3/envs/molformer/lib/python3.10/site-packages/alibi/explainers/cfproto.py:123: The name tf.keras.backend.get_session is deprecated. Please use tf.compat.v1.keras.backend.get_session instead.\n",
      "\n"
     ]
    },
    {
     "name": "stderr",
     "output_type": "stream",
     "text": [
      "2022-11-13 17:26:47.576730: I tensorflow/core/platform/cpu_feature_guard.cc:193] This TensorFlow binary is optimized with oneAPI Deep Neural Network Library (oneDNN) to use the following CPU instructions in performance-critical operations:  AVX2 FMA\n",
      "To enable them in other operations, rebuild TensorFlow with the appropriate compiler flags.\n",
      "No encoder specified. Using k-d trees to represent class prototypes.\n",
      "2022-11-13 17:26:47.714687: I tensorflow/compiler/mlir/mlir_graph_optimization_pass.cc:354] MLIR V1 optimization pass is not enabled\n"
     ]
    },
    {
     "name": "stdout",
     "output_type": "stream",
     "text": [
      "Original: \n"
     ]
    },
    {
     "data": {
      "text/html": [
       "<div>\n",
       "<style scoped>\n",
       "    .dataframe tbody tr th:only-of-type {\n",
       "        vertical-align: middle;\n",
       "    }\n",
       "\n",
       "    .dataframe tbody tr th {\n",
       "        vertical-align: top;\n",
       "    }\n",
       "\n",
       "    .dataframe thead th {\n",
       "        text-align: right;\n",
       "    }\n",
       "</style>\n",
       "<table border=\"1\" class=\"dataframe\">\n",
       "  <thead>\n",
       "    <tr style=\"text-align: right;\">\n",
       "      <th></th>\n",
       "      <th>GenHlth</th>\n",
       "      <th>Age</th>\n",
       "      <th>Education</th>\n",
       "      <th>Income</th>\n",
       "      <th>HighBP</th>\n",
       "      <th>BMI</th>\n",
       "      <th>HighChol</th>\n",
       "      <th>DiffWalk</th>\n",
       "      <th>HeartDiseaseorAttack</th>\n",
       "      <th>PhysHlth</th>\n",
       "      <th>HvyAlcoholConsump</th>\n",
       "      <th>Sex</th>\n",
       "      <th>CholCheck</th>\n",
       "    </tr>\n",
       "  </thead>\n",
       "  <tbody>\n",
       "    <tr>\n",
       "      <th>0</th>\n",
       "      <td>category_2</td>\n",
       "      <td>category_8</td>\n",
       "      <td>category_6</td>\n",
       "      <td>category_8</td>\n",
       "      <td>1</td>\n",
       "      <td>29</td>\n",
       "      <td>1</td>\n",
       "      <td>0</td>\n",
       "      <td>0</td>\n",
       "      <td>0</td>\n",
       "      <td>0</td>\n",
       "      <td>1</td>\n",
       "      <td>1</td>\n",
       "    </tr>\n",
       "  </tbody>\n",
       "</table>\n",
       "</div>"
      ],
      "text/plain": [
       "      GenHlth         Age   Education      Income  HighBP  BMI  HighChol  \\\n",
       "0  category_2  category_8  category_6  category_8       1   29         1   \n",
       "\n",
       "   DiffWalk  HeartDiseaseorAttack  PhysHlth  HvyAlcoholConsump  Sex  CholCheck  \n",
       "0         0                     0         0                  0    1          1  "
      ]
     },
     "metadata": {},
     "output_type": "display_data"
    },
    {
     "name": "stdout",
     "output_type": "stream",
     "text": [
      "\n",
      "Kept counterfactual generation: \n"
     ]
    },
    {
     "data": {
      "text/html": [
       "<style type=\"text/css\">\n",
       "#T_fd33b_row0_col0, #T_fd33b_row0_col1, #T_fd33b_row0_col2, #T_fd33b_row0_col3, #T_fd33b_row0_col4, #T_fd33b_row0_col6, #T_fd33b_row0_col7, #T_fd33b_row0_col8, #T_fd33b_row0_col9, #T_fd33b_row0_col10, #T_fd33b_row0_col11, #T_fd33b_row0_col12 {\n",
       "  background-color: ;\n",
       "}\n",
       "#T_fd33b_row0_col5 {\n",
       "  background-color: green;\n",
       "}\n",
       "</style>\n",
       "<table id=\"T_fd33b\">\n",
       "  <thead>\n",
       "    <tr>\n",
       "      <th class=\"blank level0\" >&nbsp;</th>\n",
       "      <th id=\"T_fd33b_level0_col0\" class=\"col_heading level0 col0\" >GenHlth</th>\n",
       "      <th id=\"T_fd33b_level0_col1\" class=\"col_heading level0 col1\" >Age</th>\n",
       "      <th id=\"T_fd33b_level0_col2\" class=\"col_heading level0 col2\" >Education</th>\n",
       "      <th id=\"T_fd33b_level0_col3\" class=\"col_heading level0 col3\" >Income</th>\n",
       "      <th id=\"T_fd33b_level0_col4\" class=\"col_heading level0 col4\" >HighBP</th>\n",
       "      <th id=\"T_fd33b_level0_col5\" class=\"col_heading level0 col5\" >BMI</th>\n",
       "      <th id=\"T_fd33b_level0_col6\" class=\"col_heading level0 col6\" >HighChol</th>\n",
       "      <th id=\"T_fd33b_level0_col7\" class=\"col_heading level0 col7\" >DiffWalk</th>\n",
       "      <th id=\"T_fd33b_level0_col8\" class=\"col_heading level0 col8\" >HeartDiseaseorAttack</th>\n",
       "      <th id=\"T_fd33b_level0_col9\" class=\"col_heading level0 col9\" >PhysHlth</th>\n",
       "      <th id=\"T_fd33b_level0_col10\" class=\"col_heading level0 col10\" >HvyAlcoholConsump</th>\n",
       "      <th id=\"T_fd33b_level0_col11\" class=\"col_heading level0 col11\" >Sex</th>\n",
       "      <th id=\"T_fd33b_level0_col12\" class=\"col_heading level0 col12\" >CholCheck</th>\n",
       "    </tr>\n",
       "  </thead>\n",
       "  <tbody>\n",
       "    <tr>\n",
       "      <th id=\"T_fd33b_level0_row0\" class=\"row_heading level0 row0\" >0</th>\n",
       "      <td id=\"T_fd33b_row0_col0\" class=\"data row0 col0\" >category_2</td>\n",
       "      <td id=\"T_fd33b_row0_col1\" class=\"data row0 col1\" >category_8</td>\n",
       "      <td id=\"T_fd33b_row0_col2\" class=\"data row0 col2\" >category_6</td>\n",
       "      <td id=\"T_fd33b_row0_col3\" class=\"data row0 col3\" >category_8</td>\n",
       "      <td id=\"T_fd33b_row0_col4\" class=\"data row0 col4\" >1</td>\n",
       "      <td id=\"T_fd33b_row0_col5\" class=\"data row0 col5\" >26</td>\n",
       "      <td id=\"T_fd33b_row0_col6\" class=\"data row0 col6\" >1</td>\n",
       "      <td id=\"T_fd33b_row0_col7\" class=\"data row0 col7\" >0</td>\n",
       "      <td id=\"T_fd33b_row0_col8\" class=\"data row0 col8\" >0</td>\n",
       "      <td id=\"T_fd33b_row0_col9\" class=\"data row0 col9\" >0</td>\n",
       "      <td id=\"T_fd33b_row0_col10\" class=\"data row0 col10\" >0</td>\n",
       "      <td id=\"T_fd33b_row0_col11\" class=\"data row0 col11\" >1</td>\n",
       "      <td id=\"T_fd33b_row0_col12\" class=\"data row0 col12\" >1</td>\n",
       "    </tr>\n",
       "  </tbody>\n",
       "</table>\n"
      ],
      "text/plain": [
       "<pandas.io.formats.style.Styler at 0x7fc570fdd9f0>"
      ]
     },
     "metadata": {},
     "output_type": "display_data"
    },
    {
     "name": "stdout",
     "output_type": "stream",
     "text": [
      "\n",
      "Predicted:  tensor(0)  ||  Desired:  tensor(0)  ||  Orginal:  tensor(1)\n",
      "************************************************************************************************************************\n",
      "CPU times: user 4min 54s, sys: 9.28 s, total: 5min 3s\n",
      "Wall time: 38.1 s\n"
     ]
    }
   ],
   "source": [
    "%%time\n",
    "cf_proto_cf = get_cfproto_cf(X_corpus, model, x)\n",
    "display_tabular_cfs(cf_proto_cf, model, x, desired_class, scaler, encoder, cols)"
   ]
  },
  {
   "cell_type": "code",
   "execution_count": null,
   "id": "5aa68cfb-a41b-4f11-a4c1-5a6be90dd8b4",
   "metadata": {},
   "outputs": [],
   "source": []
  },
  {
   "cell_type": "markdown",
   "id": "dcb3d996-c737-493f-b0ba-b222b76a108c",
   "metadata": {},
   "source": [
    "# Comparison"
   ]
  },
  {
   "cell_type": "code",
   "execution_count": 8,
   "id": "c8fac489-8c83-4f27-9614-d00d9388d939",
   "metadata": {},
   "outputs": [
    {
     "name": "stderr",
     "output_type": "stream",
     "text": [
      "  0%|                                                    | 0/20 [00:00<?, ?it/s]No encoder specified. Using k-d trees to represent class prototypes.\n",
      "  5%|██▏                                         | 1/20 [00:37<11:43, 37.05s/it]No encoder specified. Using k-d trees to represent class prototypes.\n",
      " 10%|████▍                                       | 2/20 [01:12<10:50, 36.15s/it]No encoder specified. Using k-d trees to represent class prototypes.\n",
      " 15%|██████▌                                     | 3/20 [01:49<10:21, 36.53s/it]No encoder specified. Using k-d trees to represent class prototypes.\n",
      " 20%|████████▊                                   | 4/20 [02:26<09:47, 36.72s/it]No encoder specified. Using k-d trees to represent class prototypes.\n",
      " 25%|███████████                                 | 5/20 [03:04<09:16, 37.09s/it]No encoder specified. Using k-d trees to represent class prototypes.\n",
      " 30%|█████████████▏                              | 6/20 [03:41<08:39, 37.10s/it]No encoder specified. Using k-d trees to represent class prototypes.\n",
      " 35%|███████████████▍                            | 7/20 [04:19<08:05, 37.37s/it]No encoder specified. Using k-d trees to represent class prototypes.\n",
      " 40%|█████████████████▌                          | 8/20 [04:57<07:31, 37.62s/it]No encoder specified. Using k-d trees to represent class prototypes.\n",
      " 45%|███████████████████▊                        | 9/20 [05:35<06:54, 37.66s/it]No encoder specified. Using k-d trees to represent class prototypes.\n",
      " 50%|█████████████████████▌                     | 10/20 [06:12<06:15, 37.53s/it]No encoder specified. Using k-d trees to represent class prototypes.\n",
      " 55%|███████████████████████▋                   | 11/20 [06:49<05:36, 37.43s/it]No encoder specified. Using k-d trees to represent class prototypes.\n",
      " 60%|█████████████████████████▊                 | 12/20 [07:26<04:57, 37.17s/it]No encoder specified. Using k-d trees to represent class prototypes.\n",
      " 65%|███████████████████████████▉               | 13/20 [08:04<04:22, 37.51s/it]No encoder specified. Using k-d trees to represent class prototypes.\n",
      " 70%|██████████████████████████████             | 14/20 [08:43<03:47, 37.88s/it]No encoder specified. Using k-d trees to represent class prototypes.\n",
      " 75%|████████████████████████████████▎          | 15/20 [09:22<03:11, 38.32s/it]No encoder specified. Using k-d trees to represent class prototypes.\n",
      " 80%|██████████████████████████████████▍        | 16/20 [10:01<02:34, 38.62s/it]No encoder specified. Using k-d trees to represent class prototypes.\n",
      " 85%|████████████████████████████████████▌      | 17/20 [10:41<01:56, 38.90s/it]No encoder specified. Using k-d trees to represent class prototypes.\n",
      " 90%|██████████████████████████████████████▋    | 18/20 [11:21<01:18, 39.35s/it]No encoder specified. Using k-d trees to represent class prototypes.\n",
      " 95%|████████████████████████████████████████▊  | 19/20 [12:02<00:39, 39.60s/it]No encoder specified. Using k-d trees to represent class prototypes.\n",
      "100%|███████████████████████████████████████████| 20/20 [12:43<00:00, 38.15s/it]\n"
     ]
    }
   ],
   "source": [
    "from tqdm import tqdm \n",
    "\n",
    "times = []\n",
    "sparsity = []\n",
    "\n",
    "for test_id in tqdm(range(20)):\n",
    "    start = time.time()\n",
    "    cfs, x, desired_class = get_simplex_cf_tabular(simplex, model, test_id, encoder)\n",
    "    end = time.time()\n",
    "    \n",
    "    start_b = time.time()\n",
    "    baseline_cfs = get_baseline_counterfactuals(model = model, target = desired_class, test = x, \\\n",
    "                                            corpus = X_corpus)\n",
    "    end_b = time.time()\n",
    "    \n",
    "    start_c = time.time()\n",
    "    cf_proto_cf = get_cfproto_cf(X_corpus, model, x)\n",
    "    end_c = time.time()\n",
    "    \n",
    "    times.append([end - start, end_b - start_b, end_c - start_c])\n",
    "    sparsity.append([(cfs[0] != x).sum(), (baseline_cfs[0] != x).sum(), (cf_proto_cf[0] != x).sum()])"
   ]
  },
  {
   "cell_type": "code",
   "execution_count": 9,
   "id": "9a96010a-f51c-4159-8a7c-f9280ae42da3",
   "metadata": {},
   "outputs": [],
   "source": [
    "pd.DataFrame(times, columns  = ['simplex', 'nn', 'cfproto']).describe().to_csv('results/diabetes_times.csv')"
   ]
  },
  {
   "cell_type": "code",
   "execution_count": 10,
   "id": "e80a105d-865c-412b-bff8-e6e68e8f90cd",
   "metadata": {},
   "outputs": [],
   "source": [
    "pd.DataFrame(sparsity, columns  = ['simplex', 'nn', 'cfproto']).applymap(int).describe().to_csv('results/diabetes_sparsity.csv')"
   ]
  },
  {
   "cell_type": "code",
   "execution_count": null,
   "id": "c7122179-465c-4456-9a6d-db7e5afd4d89",
   "metadata": {},
   "outputs": [],
   "source": []
  }
 ],
 "metadata": {
  "kernelspec": {
   "display_name": "molformer",
   "language": "python",
   "name": "molformer"
  },
  "language_info": {
   "codemirror_mode": {
    "name": "ipython",
    "version": 3
   },
   "file_extension": ".py",
   "mimetype": "text/x-python",
   "name": "python",
   "nbconvert_exporter": "python",
   "pygments_lexer": "ipython3",
   "version": "3.10.6"
  }
 },
 "nbformat": 4,
 "nbformat_minor": 5
}
