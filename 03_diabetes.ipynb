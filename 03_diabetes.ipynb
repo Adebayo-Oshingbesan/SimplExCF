{
 "cells": [
  {
   "cell_type": "code",
   "execution_count": 1,
   "id": "668b6156-7fed-4856-afea-0111b61733e8",
   "metadata": {},
   "outputs": [
    {
     "data": {
      "text/plain": [
       "TabularModel(\n",
       "  (lin1): Linear(in_features=13, out_features=200, bias=True)\n",
       "  (lin2): Linear(in_features=200, out_features=50, bias=True)\n",
       "  (lin3): Linear(in_features=50, out_features=2, bias=True)\n",
       "  (bn1): BatchNorm1d(9, eps=1e-05, momentum=0.1, affine=True, track_running_stats=True)\n",
       "  (drops): Dropout(p=0.3, inplace=False)\n",
       ")"
      ]
     },
     "execution_count": 1,
     "metadata": {},
     "output_type": "execute_result"
    }
   ],
   "source": [
    "from util import *\n",
    "\n",
    "from src.dataset import load_diabetes\n",
    "from src.counterfactual import get_baseline_counterfactuals\n",
    "import joblib\n",
    "\n",
    "import warnings\n",
    "warnings.filterwarnings('ignore')\n",
    "                        \n",
    "# Get a model\n",
    "model, encoder, scaler = joblib.load('models/diabetes.gz') # Model should have the BlackBox interface\n",
    "model"
   ]
  },
  {
   "cell_type": "code",
   "execution_count": 2,
   "id": "4330d911-2504-49de-8566-6c99ffa21469",
   "metadata": {},
   "outputs": [
    {
     "name": "stdout",
     "output_type": "stream",
     "text": [
      "Weight Fitting Epoch: 2000/10000 ; Error: 27.5 ; Regulator: 44.4 ; Reg Factor: 1\n",
      "Weight Fitting Epoch: 4000/10000 ; Error: 18.9 ; Regulator: 7.95 ; Reg Factor: 1\n",
      "Weight Fitting Epoch: 6000/10000 ; Error: 17.2 ; Regulator: 2.27 ; Reg Factor: 1\n",
      "Weight Fitting Epoch: 8000/10000 ; Error: 16.8 ; Regulator: 0.763 ; Reg Factor: 1\n",
      "Weight Fitting Epoch: 10000/10000 ; Error: 16.6 ; Regulator: 0.281 ; Reg Factor: 1\n"
     ]
    }
   ],
   "source": [
    "loader = iter(load_diabetes(100, train=False))\n",
    "X_corpus, _ = next(loader)\n",
    "X_test, _ = next(loader)\n",
    "\n",
    "simplex = get_simplex(model, X_corpus, X_test, verbose = True)"
   ]
  },
  {
   "cell_type": "code",
   "execution_count": 4,
   "id": "8d91357d-2011-47df-ba10-8043e40864ba",
   "metadata": {},
   "outputs": [
    {
     "name": "stderr",
     "output_type": "stream",
     "text": [
      " 10%|████                                     | 10/100 [00:00<00:00, 262.41it/s]\n"
     ]
    }
   ],
   "source": [
    "i = 40\n",
    "n_cfs = 5\n",
    "\n",
    "x = simplex.test_examples[i:i+1]\n",
    "desired_class = model(x).topk(2).indices[0,1]\n",
    "cat_indices = list(range(len(encoder.cols)))\n",
    "\n",
    "baseline_cfs = get_baseline_counterfactuals(model = model, target = desired_class, test = x, \\\n",
    "                                            corpus = X_corpus, n_counterfactuals = n_cfs)\n",
    "\n",
    "cfs = simplex.get_counterfactuals(test_id = i, model = model, n_counterfactuals = n_cfs, cat_indices = cat_indices)"
   ]
  },
  {
   "cell_type": "code",
   "execution_count": 5,
   "id": "a41943a9-0547-4b62-afc1-9830b8a748ab",
   "metadata": {},
   "outputs": [
    {
     "name": "stdout",
     "output_type": "stream",
     "text": [
      "Original: \n"
     ]
    },
    {
     "data": {
      "text/html": [
       "<div>\n",
       "<style scoped>\n",
       "    .dataframe tbody tr th:only-of-type {\n",
       "        vertical-align: middle;\n",
       "    }\n",
       "\n",
       "    .dataframe tbody tr th {\n",
       "        vertical-align: top;\n",
       "    }\n",
       "\n",
       "    .dataframe thead th {\n",
       "        text-align: right;\n",
       "    }\n",
       "</style>\n",
       "<table border=\"1\" class=\"dataframe\">\n",
       "  <thead>\n",
       "    <tr style=\"text-align: right;\">\n",
       "      <th></th>\n",
       "      <th>GenHlth</th>\n",
       "      <th>Age</th>\n",
       "      <th>Education</th>\n",
       "      <th>Income</th>\n",
       "      <th>HighBP</th>\n",
       "      <th>BMI</th>\n",
       "      <th>HighChol</th>\n",
       "      <th>DiffWalk</th>\n",
       "      <th>HeartDiseaseorAttack</th>\n",
       "      <th>PhysHlth</th>\n",
       "      <th>HvyAlcoholConsump</th>\n",
       "      <th>Sex</th>\n",
       "      <th>CholCheck</th>\n",
       "    </tr>\n",
       "  </thead>\n",
       "  <tbody>\n",
       "    <tr>\n",
       "      <th>0</th>\n",
       "      <td>category_2</td>\n",
       "      <td>category_7</td>\n",
       "      <td>category_5</td>\n",
       "      <td>category_7</td>\n",
       "      <td>0</td>\n",
       "      <td>27</td>\n",
       "      <td>0</td>\n",
       "      <td>0</td>\n",
       "      <td>0</td>\n",
       "      <td>0</td>\n",
       "      <td>1</td>\n",
       "      <td>1</td>\n",
       "      <td>1</td>\n",
       "    </tr>\n",
       "  </tbody>\n",
       "</table>\n",
       "</div>"
      ],
      "text/plain": [
       "      GenHlth         Age   Education      Income  HighBP  BMI  HighChol  \\\n",
       "0  category_2  category_7  category_5  category_7       0   27         0   \n",
       "\n",
       "   DiffWalk  HeartDiseaseorAttack  PhysHlth  HvyAlcoholConsump  Sex  CholCheck  \n",
       "0         0                     0         0                  1    1          1  "
      ]
     },
     "metadata": {},
     "output_type": "display_data"
    },
    {
     "name": "stdout",
     "output_type": "stream",
     "text": [
      "\n",
      "Kept counterfactual generation: \n"
     ]
    },
    {
     "data": {
      "text/html": [
       "<style type=\"text/css\">\n",
       "#T_2c0c9_row0_col0, #T_2c0c9_row0_col1, #T_2c0c9_row0_col2, #T_2c0c9_row0_col3, #T_2c0c9_row0_col4, #T_2c0c9_row0_col6, #T_2c0c9_row0_col7, #T_2c0c9_row0_col8, #T_2c0c9_row0_col9, #T_2c0c9_row0_col10, #T_2c0c9_row0_col11, #T_2c0c9_row0_col12 {\n",
       "  background-color: ;\n",
       "}\n",
       "#T_2c0c9_row0_col5 {\n",
       "  background-color: green;\n",
       "}\n",
       "</style>\n",
       "<table id=\"T_2c0c9\">\n",
       "  <thead>\n",
       "    <tr>\n",
       "      <th class=\"blank level0\" >&nbsp;</th>\n",
       "      <th id=\"T_2c0c9_level0_col0\" class=\"col_heading level0 col0\" >GenHlth</th>\n",
       "      <th id=\"T_2c0c9_level0_col1\" class=\"col_heading level0 col1\" >Age</th>\n",
       "      <th id=\"T_2c0c9_level0_col2\" class=\"col_heading level0 col2\" >Education</th>\n",
       "      <th id=\"T_2c0c9_level0_col3\" class=\"col_heading level0 col3\" >Income</th>\n",
       "      <th id=\"T_2c0c9_level0_col4\" class=\"col_heading level0 col4\" >HighBP</th>\n",
       "      <th id=\"T_2c0c9_level0_col5\" class=\"col_heading level0 col5\" >BMI</th>\n",
       "      <th id=\"T_2c0c9_level0_col6\" class=\"col_heading level0 col6\" >HighChol</th>\n",
       "      <th id=\"T_2c0c9_level0_col7\" class=\"col_heading level0 col7\" >DiffWalk</th>\n",
       "      <th id=\"T_2c0c9_level0_col8\" class=\"col_heading level0 col8\" >HeartDiseaseorAttack</th>\n",
       "      <th id=\"T_2c0c9_level0_col9\" class=\"col_heading level0 col9\" >PhysHlth</th>\n",
       "      <th id=\"T_2c0c9_level0_col10\" class=\"col_heading level0 col10\" >HvyAlcoholConsump</th>\n",
       "      <th id=\"T_2c0c9_level0_col11\" class=\"col_heading level0 col11\" >Sex</th>\n",
       "      <th id=\"T_2c0c9_level0_col12\" class=\"col_heading level0 col12\" >CholCheck</th>\n",
       "    </tr>\n",
       "  </thead>\n",
       "  <tbody>\n",
       "    <tr>\n",
       "      <th id=\"T_2c0c9_level0_row0\" class=\"row_heading level0 row0\" >0</th>\n",
       "      <td id=\"T_2c0c9_row0_col0\" class=\"data row0 col0\" >category_2</td>\n",
       "      <td id=\"T_2c0c9_row0_col1\" class=\"data row0 col1\" >category_7</td>\n",
       "      <td id=\"T_2c0c9_row0_col2\" class=\"data row0 col2\" >category_5</td>\n",
       "      <td id=\"T_2c0c9_row0_col3\" class=\"data row0 col3\" >category_7</td>\n",
       "      <td id=\"T_2c0c9_row0_col4\" class=\"data row0 col4\" >0</td>\n",
       "      <td id=\"T_2c0c9_row0_col5\" class=\"data row0 col5\" >55</td>\n",
       "      <td id=\"T_2c0c9_row0_col6\" class=\"data row0 col6\" >0</td>\n",
       "      <td id=\"T_2c0c9_row0_col7\" class=\"data row0 col7\" >0</td>\n",
       "      <td id=\"T_2c0c9_row0_col8\" class=\"data row0 col8\" >0</td>\n",
       "      <td id=\"T_2c0c9_row0_col9\" class=\"data row0 col9\" >0</td>\n",
       "      <td id=\"T_2c0c9_row0_col10\" class=\"data row0 col10\" >1</td>\n",
       "      <td id=\"T_2c0c9_row0_col11\" class=\"data row0 col11\" >1</td>\n",
       "      <td id=\"T_2c0c9_row0_col12\" class=\"data row0 col12\" >1</td>\n",
       "    </tr>\n",
       "  </tbody>\n",
       "</table>\n"
      ],
      "text/plain": [
       "<pandas.io.formats.style.Styler at 0x7fefd012feb0>"
      ]
     },
     "metadata": {},
     "output_type": "display_data"
    },
    {
     "name": "stdout",
     "output_type": "stream",
     "text": [
      "\n",
      "Predicted:  tensor(1)  ||  Desired:  tensor(1)  ||  Orginal:  tensor(0)\n",
      "************************************************************************************************************************\n",
      "Kept counterfactual generation: \n"
     ]
    },
    {
     "data": {
      "text/html": [
       "<style type=\"text/css\">\n",
       "#T_81748_row0_col0, #T_81748_row0_col2, #T_81748_row0_col3, #T_81748_row0_col5, #T_81748_row0_col7, #T_81748_row0_col8, #T_81748_row0_col9, #T_81748_row0_col10, #T_81748_row0_col11, #T_81748_row0_col12 {\n",
       "  background-color: ;\n",
       "}\n",
       "#T_81748_row0_col1, #T_81748_row0_col4, #T_81748_row0_col6 {\n",
       "  background-color: green;\n",
       "}\n",
       "</style>\n",
       "<table id=\"T_81748\">\n",
       "  <thead>\n",
       "    <tr>\n",
       "      <th class=\"blank level0\" >&nbsp;</th>\n",
       "      <th id=\"T_81748_level0_col0\" class=\"col_heading level0 col0\" >GenHlth</th>\n",
       "      <th id=\"T_81748_level0_col1\" class=\"col_heading level0 col1\" >Age</th>\n",
       "      <th id=\"T_81748_level0_col2\" class=\"col_heading level0 col2\" >Education</th>\n",
       "      <th id=\"T_81748_level0_col3\" class=\"col_heading level0 col3\" >Income</th>\n",
       "      <th id=\"T_81748_level0_col4\" class=\"col_heading level0 col4\" >HighBP</th>\n",
       "      <th id=\"T_81748_level0_col5\" class=\"col_heading level0 col5\" >BMI</th>\n",
       "      <th id=\"T_81748_level0_col6\" class=\"col_heading level0 col6\" >HighChol</th>\n",
       "      <th id=\"T_81748_level0_col7\" class=\"col_heading level0 col7\" >DiffWalk</th>\n",
       "      <th id=\"T_81748_level0_col8\" class=\"col_heading level0 col8\" >HeartDiseaseorAttack</th>\n",
       "      <th id=\"T_81748_level0_col9\" class=\"col_heading level0 col9\" >PhysHlth</th>\n",
       "      <th id=\"T_81748_level0_col10\" class=\"col_heading level0 col10\" >HvyAlcoholConsump</th>\n",
       "      <th id=\"T_81748_level0_col11\" class=\"col_heading level0 col11\" >Sex</th>\n",
       "      <th id=\"T_81748_level0_col12\" class=\"col_heading level0 col12\" >CholCheck</th>\n",
       "    </tr>\n",
       "  </thead>\n",
       "  <tbody>\n",
       "    <tr>\n",
       "      <th id=\"T_81748_level0_row0\" class=\"row_heading level0 row0\" >0</th>\n",
       "      <td id=\"T_81748_row0_col0\" class=\"data row0 col0\" >category_2</td>\n",
       "      <td id=\"T_81748_row0_col1\" class=\"data row0 col1\" >category_11</td>\n",
       "      <td id=\"T_81748_row0_col2\" class=\"data row0 col2\" >category_5</td>\n",
       "      <td id=\"T_81748_row0_col3\" class=\"data row0 col3\" >category_7</td>\n",
       "      <td id=\"T_81748_row0_col4\" class=\"data row0 col4\" >1</td>\n",
       "      <td id=\"T_81748_row0_col5\" class=\"data row0 col5\" >27</td>\n",
       "      <td id=\"T_81748_row0_col6\" class=\"data row0 col6\" >1</td>\n",
       "      <td id=\"T_81748_row0_col7\" class=\"data row0 col7\" >0</td>\n",
       "      <td id=\"T_81748_row0_col8\" class=\"data row0 col8\" >0</td>\n",
       "      <td id=\"T_81748_row0_col9\" class=\"data row0 col9\" >0</td>\n",
       "      <td id=\"T_81748_row0_col10\" class=\"data row0 col10\" >1</td>\n",
       "      <td id=\"T_81748_row0_col11\" class=\"data row0 col11\" >1</td>\n",
       "      <td id=\"T_81748_row0_col12\" class=\"data row0 col12\" >1</td>\n",
       "    </tr>\n",
       "  </tbody>\n",
       "</table>\n"
      ],
      "text/plain": [
       "<pandas.io.formats.style.Styler at 0x7ff010bfb580>"
      ]
     },
     "metadata": {},
     "output_type": "display_data"
    },
    {
     "name": "stdout",
     "output_type": "stream",
     "text": [
      "\n",
      "Predicted:  tensor(1)  ||  Desired:  tensor(1)  ||  Orginal:  tensor(0)\n",
      "************************************************************************************************************************\n",
      "Kept counterfactual generation: \n"
     ]
    },
    {
     "data": {
      "text/html": [
       "<style type=\"text/css\">\n",
       "#T_ba4f9_row0_col0, #T_ba4f9_row0_col1, #T_ba4f9_row0_col2, #T_ba4f9_row0_col3, #T_ba4f9_row0_col7, #T_ba4f9_row0_col8, #T_ba4f9_row0_col9, #T_ba4f9_row0_col10, #T_ba4f9_row0_col11, #T_ba4f9_row0_col12 {\n",
       "  background-color: ;\n",
       "}\n",
       "#T_ba4f9_row0_col4, #T_ba4f9_row0_col5, #T_ba4f9_row0_col6 {\n",
       "  background-color: green;\n",
       "}\n",
       "</style>\n",
       "<table id=\"T_ba4f9\">\n",
       "  <thead>\n",
       "    <tr>\n",
       "      <th class=\"blank level0\" >&nbsp;</th>\n",
       "      <th id=\"T_ba4f9_level0_col0\" class=\"col_heading level0 col0\" >GenHlth</th>\n",
       "      <th id=\"T_ba4f9_level0_col1\" class=\"col_heading level0 col1\" >Age</th>\n",
       "      <th id=\"T_ba4f9_level0_col2\" class=\"col_heading level0 col2\" >Education</th>\n",
       "      <th id=\"T_ba4f9_level0_col3\" class=\"col_heading level0 col3\" >Income</th>\n",
       "      <th id=\"T_ba4f9_level0_col4\" class=\"col_heading level0 col4\" >HighBP</th>\n",
       "      <th id=\"T_ba4f9_level0_col5\" class=\"col_heading level0 col5\" >BMI</th>\n",
       "      <th id=\"T_ba4f9_level0_col6\" class=\"col_heading level0 col6\" >HighChol</th>\n",
       "      <th id=\"T_ba4f9_level0_col7\" class=\"col_heading level0 col7\" >DiffWalk</th>\n",
       "      <th id=\"T_ba4f9_level0_col8\" class=\"col_heading level0 col8\" >HeartDiseaseorAttack</th>\n",
       "      <th id=\"T_ba4f9_level0_col9\" class=\"col_heading level0 col9\" >PhysHlth</th>\n",
       "      <th id=\"T_ba4f9_level0_col10\" class=\"col_heading level0 col10\" >HvyAlcoholConsump</th>\n",
       "      <th id=\"T_ba4f9_level0_col11\" class=\"col_heading level0 col11\" >Sex</th>\n",
       "      <th id=\"T_ba4f9_level0_col12\" class=\"col_heading level0 col12\" >CholCheck</th>\n",
       "    </tr>\n",
       "  </thead>\n",
       "  <tbody>\n",
       "    <tr>\n",
       "      <th id=\"T_ba4f9_level0_row0\" class=\"row_heading level0 row0\" >0</th>\n",
       "      <td id=\"T_ba4f9_row0_col0\" class=\"data row0 col0\" >category_2</td>\n",
       "      <td id=\"T_ba4f9_row0_col1\" class=\"data row0 col1\" >category_7</td>\n",
       "      <td id=\"T_ba4f9_row0_col2\" class=\"data row0 col2\" >category_5</td>\n",
       "      <td id=\"T_ba4f9_row0_col3\" class=\"data row0 col3\" >category_7</td>\n",
       "      <td id=\"T_ba4f9_row0_col4\" class=\"data row0 col4\" >1</td>\n",
       "      <td id=\"T_ba4f9_row0_col5\" class=\"data row0 col5\" >34</td>\n",
       "      <td id=\"T_ba4f9_row0_col6\" class=\"data row0 col6\" >1</td>\n",
       "      <td id=\"T_ba4f9_row0_col7\" class=\"data row0 col7\" >0</td>\n",
       "      <td id=\"T_ba4f9_row0_col8\" class=\"data row0 col8\" >0</td>\n",
       "      <td id=\"T_ba4f9_row0_col9\" class=\"data row0 col9\" >0</td>\n",
       "      <td id=\"T_ba4f9_row0_col10\" class=\"data row0 col10\" >1</td>\n",
       "      <td id=\"T_ba4f9_row0_col11\" class=\"data row0 col11\" >1</td>\n",
       "      <td id=\"T_ba4f9_row0_col12\" class=\"data row0 col12\" >1</td>\n",
       "    </tr>\n",
       "  </tbody>\n",
       "</table>\n"
      ],
      "text/plain": [
       "<pandas.io.formats.style.Styler at 0x7fefd012feb0>"
      ]
     },
     "metadata": {},
     "output_type": "display_data"
    },
    {
     "name": "stdout",
     "output_type": "stream",
     "text": [
      "\n",
      "Predicted:  tensor(1)  ||  Desired:  tensor(1)  ||  Orginal:  tensor(0)\n",
      "************************************************************************************************************************\n",
      "Kept counterfactual generation: \n"
     ]
    },
    {
     "data": {
      "text/html": [
       "<style type=\"text/css\">\n",
       "#T_8f295_row0_col0, #T_8f295_row0_col1, #T_8f295_row0_col2, #T_8f295_row0_col3, #T_8f295_row0_col5, #T_8f295_row0_col7, #T_8f295_row0_col8, #T_8f295_row0_col10, #T_8f295_row0_col11, #T_8f295_row0_col12 {\n",
       "  background-color: ;\n",
       "}\n",
       "#T_8f295_row0_col4, #T_8f295_row0_col6, #T_8f295_row0_col9 {\n",
       "  background-color: green;\n",
       "}\n",
       "</style>\n",
       "<table id=\"T_8f295\">\n",
       "  <thead>\n",
       "    <tr>\n",
       "      <th class=\"blank level0\" >&nbsp;</th>\n",
       "      <th id=\"T_8f295_level0_col0\" class=\"col_heading level0 col0\" >GenHlth</th>\n",
       "      <th id=\"T_8f295_level0_col1\" class=\"col_heading level0 col1\" >Age</th>\n",
       "      <th id=\"T_8f295_level0_col2\" class=\"col_heading level0 col2\" >Education</th>\n",
       "      <th id=\"T_8f295_level0_col3\" class=\"col_heading level0 col3\" >Income</th>\n",
       "      <th id=\"T_8f295_level0_col4\" class=\"col_heading level0 col4\" >HighBP</th>\n",
       "      <th id=\"T_8f295_level0_col5\" class=\"col_heading level0 col5\" >BMI</th>\n",
       "      <th id=\"T_8f295_level0_col6\" class=\"col_heading level0 col6\" >HighChol</th>\n",
       "      <th id=\"T_8f295_level0_col7\" class=\"col_heading level0 col7\" >DiffWalk</th>\n",
       "      <th id=\"T_8f295_level0_col8\" class=\"col_heading level0 col8\" >HeartDiseaseorAttack</th>\n",
       "      <th id=\"T_8f295_level0_col9\" class=\"col_heading level0 col9\" >PhysHlth</th>\n",
       "      <th id=\"T_8f295_level0_col10\" class=\"col_heading level0 col10\" >HvyAlcoholConsump</th>\n",
       "      <th id=\"T_8f295_level0_col11\" class=\"col_heading level0 col11\" >Sex</th>\n",
       "      <th id=\"T_8f295_level0_col12\" class=\"col_heading level0 col12\" >CholCheck</th>\n",
       "    </tr>\n",
       "  </thead>\n",
       "  <tbody>\n",
       "    <tr>\n",
       "      <th id=\"T_8f295_level0_row0\" class=\"row_heading level0 row0\" >0</th>\n",
       "      <td id=\"T_8f295_row0_col0\" class=\"data row0 col0\" >category_2</td>\n",
       "      <td id=\"T_8f295_row0_col1\" class=\"data row0 col1\" >category_7</td>\n",
       "      <td id=\"T_8f295_row0_col2\" class=\"data row0 col2\" >category_5</td>\n",
       "      <td id=\"T_8f295_row0_col3\" class=\"data row0 col3\" >category_7</td>\n",
       "      <td id=\"T_8f295_row0_col4\" class=\"data row0 col4\" >1</td>\n",
       "      <td id=\"T_8f295_row0_col5\" class=\"data row0 col5\" >27</td>\n",
       "      <td id=\"T_8f295_row0_col6\" class=\"data row0 col6\" >1</td>\n",
       "      <td id=\"T_8f295_row0_col7\" class=\"data row0 col7\" >0</td>\n",
       "      <td id=\"T_8f295_row0_col8\" class=\"data row0 col8\" >0</td>\n",
       "      <td id=\"T_8f295_row0_col9\" class=\"data row0 col9\" >21</td>\n",
       "      <td id=\"T_8f295_row0_col10\" class=\"data row0 col10\" >1</td>\n",
       "      <td id=\"T_8f295_row0_col11\" class=\"data row0 col11\" >1</td>\n",
       "      <td id=\"T_8f295_row0_col12\" class=\"data row0 col12\" >1</td>\n",
       "    </tr>\n",
       "  </tbody>\n",
       "</table>\n"
      ],
      "text/plain": [
       "<pandas.io.formats.style.Styler at 0x7fefd0178280>"
      ]
     },
     "metadata": {},
     "output_type": "display_data"
    },
    {
     "name": "stdout",
     "output_type": "stream",
     "text": [
      "\n",
      "Predicted:  tensor(1)  ||  Desired:  tensor(1)  ||  Orginal:  tensor(0)\n",
      "************************************************************************************************************************\n",
      "Kept counterfactual generation: \n"
     ]
    },
    {
     "data": {
      "text/html": [
       "<style type=\"text/css\">\n",
       "#T_f0fa8_row0_col0, #T_f0fa8_row0_col2, #T_f0fa8_row0_col4, #T_f0fa8_row0_col7, #T_f0fa8_row0_col8, #T_f0fa8_row0_col10, #T_f0fa8_row0_col11, #T_f0fa8_row0_col12 {\n",
       "  background-color: ;\n",
       "}\n",
       "#T_f0fa8_row0_col1, #T_f0fa8_row0_col3, #T_f0fa8_row0_col5, #T_f0fa8_row0_col6, #T_f0fa8_row0_col9 {\n",
       "  background-color: green;\n",
       "}\n",
       "</style>\n",
       "<table id=\"T_f0fa8\">\n",
       "  <thead>\n",
       "    <tr>\n",
       "      <th class=\"blank level0\" >&nbsp;</th>\n",
       "      <th id=\"T_f0fa8_level0_col0\" class=\"col_heading level0 col0\" >GenHlth</th>\n",
       "      <th id=\"T_f0fa8_level0_col1\" class=\"col_heading level0 col1\" >Age</th>\n",
       "      <th id=\"T_f0fa8_level0_col2\" class=\"col_heading level0 col2\" >Education</th>\n",
       "      <th id=\"T_f0fa8_level0_col3\" class=\"col_heading level0 col3\" >Income</th>\n",
       "      <th id=\"T_f0fa8_level0_col4\" class=\"col_heading level0 col4\" >HighBP</th>\n",
       "      <th id=\"T_f0fa8_level0_col5\" class=\"col_heading level0 col5\" >BMI</th>\n",
       "      <th id=\"T_f0fa8_level0_col6\" class=\"col_heading level0 col6\" >HighChol</th>\n",
       "      <th id=\"T_f0fa8_level0_col7\" class=\"col_heading level0 col7\" >DiffWalk</th>\n",
       "      <th id=\"T_f0fa8_level0_col8\" class=\"col_heading level0 col8\" >HeartDiseaseorAttack</th>\n",
       "      <th id=\"T_f0fa8_level0_col9\" class=\"col_heading level0 col9\" >PhysHlth</th>\n",
       "      <th id=\"T_f0fa8_level0_col10\" class=\"col_heading level0 col10\" >HvyAlcoholConsump</th>\n",
       "      <th id=\"T_f0fa8_level0_col11\" class=\"col_heading level0 col11\" >Sex</th>\n",
       "      <th id=\"T_f0fa8_level0_col12\" class=\"col_heading level0 col12\" >CholCheck</th>\n",
       "    </tr>\n",
       "  </thead>\n",
       "  <tbody>\n",
       "    <tr>\n",
       "      <th id=\"T_f0fa8_level0_row0\" class=\"row_heading level0 row0\" >0</th>\n",
       "      <td id=\"T_f0fa8_row0_col0\" class=\"data row0 col0\" >category_2</td>\n",
       "      <td id=\"T_f0fa8_row0_col1\" class=\"data row0 col1\" >category_8</td>\n",
       "      <td id=\"T_f0fa8_row0_col2\" class=\"data row0 col2\" >category_5</td>\n",
       "      <td id=\"T_f0fa8_row0_col3\" class=\"data row0 col3\" >category_6</td>\n",
       "      <td id=\"T_f0fa8_row0_col4\" class=\"data row0 col4\" >0</td>\n",
       "      <td id=\"T_f0fa8_row0_col5\" class=\"data row0 col5\" >30</td>\n",
       "      <td id=\"T_f0fa8_row0_col6\" class=\"data row0 col6\" >1</td>\n",
       "      <td id=\"T_f0fa8_row0_col7\" class=\"data row0 col7\" >0</td>\n",
       "      <td id=\"T_f0fa8_row0_col8\" class=\"data row0 col8\" >0</td>\n",
       "      <td id=\"T_f0fa8_row0_col9\" class=\"data row0 col9\" >30</td>\n",
       "      <td id=\"T_f0fa8_row0_col10\" class=\"data row0 col10\" >1</td>\n",
       "      <td id=\"T_f0fa8_row0_col11\" class=\"data row0 col11\" >1</td>\n",
       "      <td id=\"T_f0fa8_row0_col12\" class=\"data row0 col12\" >1</td>\n",
       "    </tr>\n",
       "  </tbody>\n",
       "</table>\n"
      ],
      "text/plain": [
       "<pandas.io.formats.style.Styler at 0x7fefd012feb0>"
      ]
     },
     "metadata": {},
     "output_type": "display_data"
    },
    {
     "name": "stdout",
     "output_type": "stream",
     "text": [
      "\n",
      "Predicted:  tensor(1)  ||  Desired:  tensor(1)  ||  Orginal:  tensor(0)\n",
      "************************************************************************************************************************\n"
     ]
    }
   ],
   "source": [
    "cols = ['GenHlth', 'Age', 'Education', 'Income', \\\n",
    "        'HighBP','BMI','HighChol','DiffWalk',\\\n",
    "        'HeartDiseaseorAttack','PhysHlth',\\\n",
    "        'HvyAlcoholConsump','Sex','CholCheck']\n",
    "\n",
    "display_tabular_cfs(cfs, model, x, desired_class, scaler, encoder, cols)"
   ]
  },
  {
   "cell_type": "code",
   "execution_count": null,
   "id": "dbd70339-2a62-4d1d-b3ae-e48bb3af5463",
   "metadata": {},
   "outputs": [],
   "source": []
  },
  {
   "cell_type": "code",
   "execution_count": 6,
   "id": "ef85de68-7df4-4b6e-9e2d-8151cea3ad9c",
   "metadata": {},
   "outputs": [
    {
     "name": "stdout",
     "output_type": "stream",
     "text": [
      "Original: \n"
     ]
    },
    {
     "data": {
      "text/html": [
       "<div>\n",
       "<style scoped>\n",
       "    .dataframe tbody tr th:only-of-type {\n",
       "        vertical-align: middle;\n",
       "    }\n",
       "\n",
       "    .dataframe tbody tr th {\n",
       "        vertical-align: top;\n",
       "    }\n",
       "\n",
       "    .dataframe thead th {\n",
       "        text-align: right;\n",
       "    }\n",
       "</style>\n",
       "<table border=\"1\" class=\"dataframe\">\n",
       "  <thead>\n",
       "    <tr style=\"text-align: right;\">\n",
       "      <th></th>\n",
       "      <th>GenHlth</th>\n",
       "      <th>Age</th>\n",
       "      <th>Education</th>\n",
       "      <th>Income</th>\n",
       "      <th>HighBP</th>\n",
       "      <th>BMI</th>\n",
       "      <th>HighChol</th>\n",
       "      <th>DiffWalk</th>\n",
       "      <th>HeartDiseaseorAttack</th>\n",
       "      <th>PhysHlth</th>\n",
       "      <th>HvyAlcoholConsump</th>\n",
       "      <th>Sex</th>\n",
       "      <th>CholCheck</th>\n",
       "    </tr>\n",
       "  </thead>\n",
       "  <tbody>\n",
       "    <tr>\n",
       "      <th>0</th>\n",
       "      <td>category_2</td>\n",
       "      <td>category_7</td>\n",
       "      <td>category_5</td>\n",
       "      <td>category_7</td>\n",
       "      <td>0</td>\n",
       "      <td>27</td>\n",
       "      <td>0</td>\n",
       "      <td>0</td>\n",
       "      <td>0</td>\n",
       "      <td>0</td>\n",
       "      <td>1</td>\n",
       "      <td>1</td>\n",
       "      <td>1</td>\n",
       "    </tr>\n",
       "  </tbody>\n",
       "</table>\n",
       "</div>"
      ],
      "text/plain": [
       "      GenHlth         Age   Education      Income  HighBP  BMI  HighChol  \\\n",
       "0  category_2  category_7  category_5  category_7       0   27         0   \n",
       "\n",
       "   DiffWalk  HeartDiseaseorAttack  PhysHlth  HvyAlcoholConsump  Sex  CholCheck  \n",
       "0         0                     0         0                  1    1          1  "
      ]
     },
     "metadata": {},
     "output_type": "display_data"
    },
    {
     "name": "stdout",
     "output_type": "stream",
     "text": [
      "\n",
      "Kept counterfactual generation: \n"
     ]
    },
    {
     "data": {
      "text/html": [
       "<style type=\"text/css\">\n",
       "#T_5878f_row0_col0, #T_5878f_row0_col1, #T_5878f_row0_col2, #T_5878f_row0_col3, #T_5878f_row0_col4, #T_5878f_row0_col5, #T_5878f_row0_col6, #T_5878f_row0_col9, #T_5878f_row0_col10, #T_5878f_row0_col11 {\n",
       "  background-color: green;\n",
       "}\n",
       "#T_5878f_row0_col7, #T_5878f_row0_col8, #T_5878f_row0_col12 {\n",
       "  background-color: ;\n",
       "}\n",
       "</style>\n",
       "<table id=\"T_5878f\">\n",
       "  <thead>\n",
       "    <tr>\n",
       "      <th class=\"blank level0\" >&nbsp;</th>\n",
       "      <th id=\"T_5878f_level0_col0\" class=\"col_heading level0 col0\" >GenHlth</th>\n",
       "      <th id=\"T_5878f_level0_col1\" class=\"col_heading level0 col1\" >Age</th>\n",
       "      <th id=\"T_5878f_level0_col2\" class=\"col_heading level0 col2\" >Education</th>\n",
       "      <th id=\"T_5878f_level0_col3\" class=\"col_heading level0 col3\" >Income</th>\n",
       "      <th id=\"T_5878f_level0_col4\" class=\"col_heading level0 col4\" >HighBP</th>\n",
       "      <th id=\"T_5878f_level0_col5\" class=\"col_heading level0 col5\" >BMI</th>\n",
       "      <th id=\"T_5878f_level0_col6\" class=\"col_heading level0 col6\" >HighChol</th>\n",
       "      <th id=\"T_5878f_level0_col7\" class=\"col_heading level0 col7\" >DiffWalk</th>\n",
       "      <th id=\"T_5878f_level0_col8\" class=\"col_heading level0 col8\" >HeartDiseaseorAttack</th>\n",
       "      <th id=\"T_5878f_level0_col9\" class=\"col_heading level0 col9\" >PhysHlth</th>\n",
       "      <th id=\"T_5878f_level0_col10\" class=\"col_heading level0 col10\" >HvyAlcoholConsump</th>\n",
       "      <th id=\"T_5878f_level0_col11\" class=\"col_heading level0 col11\" >Sex</th>\n",
       "      <th id=\"T_5878f_level0_col12\" class=\"col_heading level0 col12\" >CholCheck</th>\n",
       "    </tr>\n",
       "  </thead>\n",
       "  <tbody>\n",
       "    <tr>\n",
       "      <th id=\"T_5878f_level0_row0\" class=\"row_heading level0 row0\" >0</th>\n",
       "      <td id=\"T_5878f_row0_col0\" class=\"data row0 col0\" >category_3</td>\n",
       "      <td id=\"T_5878f_row0_col1\" class=\"data row0 col1\" >category_11</td>\n",
       "      <td id=\"T_5878f_row0_col2\" class=\"data row0 col2\" >category_4</td>\n",
       "      <td id=\"T_5878f_row0_col3\" class=\"data row0 col3\" >category_3</td>\n",
       "      <td id=\"T_5878f_row0_col4\" class=\"data row0 col4\" >1</td>\n",
       "      <td id=\"T_5878f_row0_col5\" class=\"data row0 col5\" >28</td>\n",
       "      <td id=\"T_5878f_row0_col6\" class=\"data row0 col6\" >1</td>\n",
       "      <td id=\"T_5878f_row0_col7\" class=\"data row0 col7\" >0</td>\n",
       "      <td id=\"T_5878f_row0_col8\" class=\"data row0 col8\" >0</td>\n",
       "      <td id=\"T_5878f_row0_col9\" class=\"data row0 col9\" >20</td>\n",
       "      <td id=\"T_5878f_row0_col10\" class=\"data row0 col10\" >0</td>\n",
       "      <td id=\"T_5878f_row0_col11\" class=\"data row0 col11\" >0</td>\n",
       "      <td id=\"T_5878f_row0_col12\" class=\"data row0 col12\" >1</td>\n",
       "    </tr>\n",
       "  </tbody>\n",
       "</table>\n"
      ],
      "text/plain": [
       "<pandas.io.formats.style.Styler at 0x7feff1262e00>"
      ]
     },
     "metadata": {},
     "output_type": "display_data"
    },
    {
     "name": "stdout",
     "output_type": "stream",
     "text": [
      "\n",
      "Predicted:  tensor(1)  ||  Desired:  tensor(1)  ||  Orginal:  tensor(0)\n",
      "************************************************************************************************************************\n"
     ]
    }
   ],
   "source": [
    "display_tabular_cfs(baseline_cfs, model, x, desired_class, scaler, encoder, cols)"
   ]
  },
  {
   "cell_type": "code",
   "execution_count": null,
   "id": "b61612a7-fb1f-48b3-aef0-a4a9eb743fad",
   "metadata": {},
   "outputs": [],
   "source": []
  }
 ],
 "metadata": {
  "kernelspec": {
   "display_name": "molformer",
   "language": "python",
   "name": "molformer"
  },
  "language_info": {
   "codemirror_mode": {
    "name": "ipython",
    "version": 3
   },
   "file_extension": ".py",
   "mimetype": "text/x-python",
   "name": "python",
   "nbconvert_exporter": "python",
   "pygments_lexer": "ipython3",
   "version": "3.10.6"
  }
 },
 "nbformat": 4,
 "nbformat_minor": 5
}
