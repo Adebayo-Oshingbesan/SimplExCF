{
 "cells": [
  {
   "cell_type": "code",
   "execution_count": 1,
   "id": "668b6156-7fed-4856-afea-0111b61733e8",
   "metadata": {
    "tags": []
   },
   "outputs": [
    {
     "name": "stderr",
     "output_type": "stream",
     "text": [
      "2023-01-30 22:44:56.484708: I tensorflow/core/platform/cpu_feature_guard.cc:193] This TensorFlow binary is optimized with oneAPI Deep Neural Network Library (oneDNN) to use the following CPU instructions in performance-critical operations:  AVX2 FMA\n",
      "To enable them in other operations, rebuild TensorFlow with the appropriate compiler flags.\n"
     ]
    }
   ],
   "source": [
    "from util import *\n",
    "\n",
    "from src.dataset import load_diabetes\n",
    "from src.counterfactual import get_baseline_counterfactuals\n",
    "\n",
    "import joblib\n",
    "import time\n",
    "\n",
    "import warnings\n",
    "warnings.filterwarnings('ignore')\n",
    "                        \n",
    "# Get a model\n",
    "dataset = 'diabetes'\n",
    "model, encoder, scaler = joblib.load(f'models/{dataset}.gz') # Model should have the BlackBox interface\n",
    "cols = load_columns(dataset)"
   ]
  },
  {
   "cell_type": "code",
   "execution_count": 2,
   "id": "4330d911-2504-49de-8566-6c99ffa21469",
   "metadata": {},
   "outputs": [
    {
     "name": "stdout",
     "output_type": "stream",
     "text": [
      "Weight Fitting Epoch: 2000/10000 ; Error: 126 ; Regulator: 422 ; Reg Factor: 1\n",
      "Weight Fitting Epoch: 4000/10000 ; Error: 78.4 ; Regulator: 92.9 ; Reg Factor: 1\n",
      "Weight Fitting Epoch: 6000/10000 ; Error: 64.7 ; Regulator: 21.9 ; Reg Factor: 1\n",
      "Weight Fitting Epoch: 8000/10000 ; Error: 62 ; Regulator: 7.34 ; Reg Factor: 1\n",
      "Weight Fitting Epoch: 10000/10000 ; Error: 60.7 ; Regulator: 2.52 ; Reg Factor: 1\n"
     ]
    }
   ],
   "source": [
    "loader = get_loader(dataset)\n",
    "X_corpus, _ = next(loader)\n",
    "X_test, _ = next(loader)\n",
    "\n",
    "simplex = get_simplex(model, X_corpus, X_test, verbose = True)"
   ]
  },
  {
   "cell_type": "code",
   "execution_count": 3,
   "id": "f47ec698",
   "metadata": {},
   "outputs": [
    {
     "name": "stdout",
     "output_type": "stream",
     "text": [
      "WARNING:tensorflow:From /Users/adebayooshingbesan/opt/anaconda3/envs/molformer/lib/python3.10/site-packages/alibi/explainers/cfproto.py:123: The name tf.keras.backend.get_session is deprecated. Please use tf.compat.v1.keras.backend.get_session instead.\n",
      "\n"
     ]
    },
    {
     "name": "stderr",
     "output_type": "stream",
     "text": [
      "2023-01-30 22:46:08.935885: I tensorflow/core/platform/cpu_feature_guard.cc:193] This TensorFlow binary is optimized with oneAPI Deep Neural Network Library (oneDNN) to use the following CPU instructions in performance-critical operations:  AVX2 FMA\n",
      "To enable them in other operations, rebuild TensorFlow with the appropriate compiler flags.\n",
      "No encoder specified. Using k-d trees to represent class prototypes.\n",
      "2023-01-30 22:46:09.213467: I tensorflow/compiler/mlir/mlir_graph_optimization_pass.cc:354] MLIR V1 optimization pass is not enabled\n"
     ]
    },
    {
     "name": "stdout",
     "output_type": "stream",
     "text": [
      "CPU times: user 5min 43s, sys: 43.7 s, total: 6min 26s\n",
      "Wall time: 58 s\n"
     ]
    }
   ],
   "source": [
    "%%time\n",
    "test_id = 1\n",
    "\n",
    "cfs, x, desired_class = get_simplex_cf_tabular(simplex, model, test_id, encoder)\n",
    "\n",
    "baseline_cfs = get_baseline_counterfactuals(model = model, target = desired_class, test = x, \\\n",
    "                                            corpus = X_corpus)\n",
    "\n",
    "cf_proto_cf = get_cfproto_cf(X_corpus, model, x)"
   ]
  },
  {
   "cell_type": "code",
   "execution_count": 4,
   "id": "46e681c0",
   "metadata": {},
   "outputs": [
    {
     "data": {
      "text/html": [
       "<style type=\"text/css\">\n",
       "#T_0555e_row0_col0, #T_0555e_row0_col1, #T_0555e_row0_col2, #T_0555e_row0_col3, #T_0555e_row0_col5, #T_0555e_row1_col0, #T_0555e_row1_col1, #T_0555e_row1_col2, #T_0555e_row1_col5, #T_0555e_row2_col0, #T_0555e_row2_col1, #T_0555e_row2_col2, #T_0555e_row2_col3, #T_0555e_row2_col5, #T_0555e_row3_col0, #T_0555e_row3_col1, #T_0555e_row3_col2, #T_0555e_row3_col3, #T_0555e_row3_col5, #T_0555e_row4_col0, #T_0555e_row4_col1, #T_0555e_row4_col3, #T_0555e_row4_col5, #T_0555e_row5_col0, #T_0555e_row5_col1, #T_0555e_row5_col2, #T_0555e_row6_col0, #T_0555e_row6_col1, #T_0555e_row6_col2, #T_0555e_row6_col3, #T_0555e_row6_col4, #T_0555e_row6_col5, #T_0555e_row7_col0, #T_0555e_row7_col1, #T_0555e_row7_col2, #T_0555e_row7_col3, #T_0555e_row7_col4, #T_0555e_row7_col5, #T_0555e_row8_col0, #T_0555e_row8_col1, #T_0555e_row8_col2, #T_0555e_row8_col3, #T_0555e_row8_col4, #T_0555e_row8_col5, #T_0555e_row9_col0, #T_0555e_row9_col2, #T_0555e_row9_col3, #T_0555e_row9_col5, #T_0555e_row10_col0, #T_0555e_row10_col1, #T_0555e_row10_col2, #T_0555e_row10_col3, #T_0555e_row10_col4, #T_0555e_row10_col5, #T_0555e_row11_col0, #T_0555e_row11_col1, #T_0555e_row11_col2, #T_0555e_row11_col3, #T_0555e_row11_col5, #T_0555e_row12_col0, #T_0555e_row12_col1, #T_0555e_row12_col2, #T_0555e_row12_col3, #T_0555e_row12_col4, #T_0555e_row12_col5, #T_0555e_row13_col0 {\n",
       "  color: ;\n",
       "}\n",
       "#T_0555e_row0_col4, #T_0555e_row1_col3, #T_0555e_row1_col4, #T_0555e_row2_col4, #T_0555e_row3_col4, #T_0555e_row4_col2, #T_0555e_row4_col4, #T_0555e_row5_col3, #T_0555e_row5_col4, #T_0555e_row5_col5, #T_0555e_row9_col1, #T_0555e_row9_col4, #T_0555e_row11_col4, #T_0555e_row13_col1, #T_0555e_row13_col2, #T_0555e_row13_col3, #T_0555e_row13_col4, #T_0555e_row13_col5 {\n",
       "  color: red;\n",
       "}\n",
       "</style>\n",
       "<table id=\"T_0555e\">\n",
       "  <thead>\n",
       "    <tr>\n",
       "      <th class=\"blank level0\" >&nbsp;</th>\n",
       "      <th id=\"T_0555e_level0_col0\" class=\"col_heading level0 col0\" >original</th>\n",
       "      <th id=\"T_0555e_level0_col1\" class=\"col_heading level0 col1\" >SimplexCF_counterfactual_1</th>\n",
       "      <th id=\"T_0555e_level0_col2\" class=\"col_heading level0 col2\" >SimplexCF_counterfactual_2</th>\n",
       "      <th id=\"T_0555e_level0_col3\" class=\"col_heading level0 col3\" >SimplexCF_counterfactual_3</th>\n",
       "      <th id=\"T_0555e_level0_col4\" class=\"col_heading level0 col4\" >NN_counterfactual_1</th>\n",
       "      <th id=\"T_0555e_level0_col5\" class=\"col_heading level0 col5\" >CFProto_counterfactual_1</th>\n",
       "    </tr>\n",
       "  </thead>\n",
       "  <tbody>\n",
       "    <tr>\n",
       "      <th id=\"T_0555e_level0_row0\" class=\"row_heading level0 row0\" >GenHlth</th>\n",
       "      <td id=\"T_0555e_row0_col0\" class=\"data row0 col0\" >category_2</td>\n",
       "      <td id=\"T_0555e_row0_col1\" class=\"data row0 col1\" >category_2</td>\n",
       "      <td id=\"T_0555e_row0_col2\" class=\"data row0 col2\" >category_2</td>\n",
       "      <td id=\"T_0555e_row0_col3\" class=\"data row0 col3\" >category_2</td>\n",
       "      <td id=\"T_0555e_row0_col4\" class=\"data row0 col4\" >category_3</td>\n",
       "      <td id=\"T_0555e_row0_col5\" class=\"data row0 col5\" >category_2</td>\n",
       "    </tr>\n",
       "    <tr>\n",
       "      <th id=\"T_0555e_level0_row1\" class=\"row_heading level0 row1\" >Age</th>\n",
       "      <td id=\"T_0555e_row1_col0\" class=\"data row1 col0\" >category_13</td>\n",
       "      <td id=\"T_0555e_row1_col1\" class=\"data row1 col1\" >category_13</td>\n",
       "      <td id=\"T_0555e_row1_col2\" class=\"data row1 col2\" >category_13</td>\n",
       "      <td id=\"T_0555e_row1_col3\" class=\"data row1 col3\" >category_6</td>\n",
       "      <td id=\"T_0555e_row1_col4\" class=\"data row1 col4\" >category_11</td>\n",
       "      <td id=\"T_0555e_row1_col5\" class=\"data row1 col5\" >category_13</td>\n",
       "    </tr>\n",
       "    <tr>\n",
       "      <th id=\"T_0555e_level0_row2\" class=\"row_heading level0 row2\" >Education</th>\n",
       "      <td id=\"T_0555e_row2_col0\" class=\"data row2 col0\" >category_5</td>\n",
       "      <td id=\"T_0555e_row2_col1\" class=\"data row2 col1\" >category_5</td>\n",
       "      <td id=\"T_0555e_row2_col2\" class=\"data row2 col2\" >category_5</td>\n",
       "      <td id=\"T_0555e_row2_col3\" class=\"data row2 col3\" >category_5</td>\n",
       "      <td id=\"T_0555e_row2_col4\" class=\"data row2 col4\" >category_4</td>\n",
       "      <td id=\"T_0555e_row2_col5\" class=\"data row2 col5\" >category_5</td>\n",
       "    </tr>\n",
       "    <tr>\n",
       "      <th id=\"T_0555e_level0_row3\" class=\"row_heading level0 row3\" >Income</th>\n",
       "      <td id=\"T_0555e_row3_col0\" class=\"data row3 col0\" >category_6</td>\n",
       "      <td id=\"T_0555e_row3_col1\" class=\"data row3 col1\" >category_6</td>\n",
       "      <td id=\"T_0555e_row3_col2\" class=\"data row3 col2\" >category_6</td>\n",
       "      <td id=\"T_0555e_row3_col3\" class=\"data row3 col3\" >category_6</td>\n",
       "      <td id=\"T_0555e_row3_col4\" class=\"data row3 col4\" >category_3</td>\n",
       "      <td id=\"T_0555e_row3_col5\" class=\"data row3 col5\" >category_6</td>\n",
       "    </tr>\n",
       "    <tr>\n",
       "      <th id=\"T_0555e_level0_row4\" class=\"row_heading level0 row4\" >HighBP</th>\n",
       "      <td id=\"T_0555e_row4_col0\" class=\"data row4 col0\" >0</td>\n",
       "      <td id=\"T_0555e_row4_col1\" class=\"data row4 col1\" >0</td>\n",
       "      <td id=\"T_0555e_row4_col2\" class=\"data row4 col2\" >1</td>\n",
       "      <td id=\"T_0555e_row4_col3\" class=\"data row4 col3\" >0</td>\n",
       "      <td id=\"T_0555e_row4_col4\" class=\"data row4 col4\" >1</td>\n",
       "      <td id=\"T_0555e_row4_col5\" class=\"data row4 col5\" >0</td>\n",
       "    </tr>\n",
       "    <tr>\n",
       "      <th id=\"T_0555e_level0_row5\" class=\"row_heading level0 row5\" >BMI</th>\n",
       "      <td id=\"T_0555e_row5_col0\" class=\"data row5 col0\" >25</td>\n",
       "      <td id=\"T_0555e_row5_col1\" class=\"data row5 col1\" >25</td>\n",
       "      <td id=\"T_0555e_row5_col2\" class=\"data row5 col2\" >25</td>\n",
       "      <td id=\"T_0555e_row5_col3\" class=\"data row5 col3\" >31</td>\n",
       "      <td id=\"T_0555e_row5_col4\" class=\"data row5 col4\" >28</td>\n",
       "      <td id=\"T_0555e_row5_col5\" class=\"data row5 col5\" >28</td>\n",
       "    </tr>\n",
       "    <tr>\n",
       "      <th id=\"T_0555e_level0_row6\" class=\"row_heading level0 row6\" >HighChol</th>\n",
       "      <td id=\"T_0555e_row6_col0\" class=\"data row6 col0\" >1</td>\n",
       "      <td id=\"T_0555e_row6_col1\" class=\"data row6 col1\" >1</td>\n",
       "      <td id=\"T_0555e_row6_col2\" class=\"data row6 col2\" >1</td>\n",
       "      <td id=\"T_0555e_row6_col3\" class=\"data row6 col3\" >1</td>\n",
       "      <td id=\"T_0555e_row6_col4\" class=\"data row6 col4\" >1</td>\n",
       "      <td id=\"T_0555e_row6_col5\" class=\"data row6 col5\" >1</td>\n",
       "    </tr>\n",
       "    <tr>\n",
       "      <th id=\"T_0555e_level0_row7\" class=\"row_heading level0 row7\" >DiffWalk</th>\n",
       "      <td id=\"T_0555e_row7_col0\" class=\"data row7 col0\" >0</td>\n",
       "      <td id=\"T_0555e_row7_col1\" class=\"data row7 col1\" >0</td>\n",
       "      <td id=\"T_0555e_row7_col2\" class=\"data row7 col2\" >0</td>\n",
       "      <td id=\"T_0555e_row7_col3\" class=\"data row7 col3\" >0</td>\n",
       "      <td id=\"T_0555e_row7_col4\" class=\"data row7 col4\" >0</td>\n",
       "      <td id=\"T_0555e_row7_col5\" class=\"data row7 col5\" >0</td>\n",
       "    </tr>\n",
       "    <tr>\n",
       "      <th id=\"T_0555e_level0_row8\" class=\"row_heading level0 row8\" >HeartDiseaseorAttack</th>\n",
       "      <td id=\"T_0555e_row8_col0\" class=\"data row8 col0\" >0</td>\n",
       "      <td id=\"T_0555e_row8_col1\" class=\"data row8 col1\" >0</td>\n",
       "      <td id=\"T_0555e_row8_col2\" class=\"data row8 col2\" >0</td>\n",
       "      <td id=\"T_0555e_row8_col3\" class=\"data row8 col3\" >0</td>\n",
       "      <td id=\"T_0555e_row8_col4\" class=\"data row8 col4\" >0</td>\n",
       "      <td id=\"T_0555e_row8_col5\" class=\"data row8 col5\" >0</td>\n",
       "    </tr>\n",
       "    <tr>\n",
       "      <th id=\"T_0555e_level0_row9\" class=\"row_heading level0 row9\" >PhysHlth</th>\n",
       "      <td id=\"T_0555e_row9_col0\" class=\"data row9 col0\" >0</td>\n",
       "      <td id=\"T_0555e_row9_col1\" class=\"data row9 col1\" >30</td>\n",
       "      <td id=\"T_0555e_row9_col2\" class=\"data row9 col2\" >0</td>\n",
       "      <td id=\"T_0555e_row9_col3\" class=\"data row9 col3\" >0</td>\n",
       "      <td id=\"T_0555e_row9_col4\" class=\"data row9 col4\" >20</td>\n",
       "      <td id=\"T_0555e_row9_col5\" class=\"data row9 col5\" >0</td>\n",
       "    </tr>\n",
       "    <tr>\n",
       "      <th id=\"T_0555e_level0_row10\" class=\"row_heading level0 row10\" >HvyAlcoholConsump</th>\n",
       "      <td id=\"T_0555e_row10_col0\" class=\"data row10 col0\" >0</td>\n",
       "      <td id=\"T_0555e_row10_col1\" class=\"data row10 col1\" >0</td>\n",
       "      <td id=\"T_0555e_row10_col2\" class=\"data row10 col2\" >0</td>\n",
       "      <td id=\"T_0555e_row10_col3\" class=\"data row10 col3\" >0</td>\n",
       "      <td id=\"T_0555e_row10_col4\" class=\"data row10 col4\" >0</td>\n",
       "      <td id=\"T_0555e_row10_col5\" class=\"data row10 col5\" >0</td>\n",
       "    </tr>\n",
       "    <tr>\n",
       "      <th id=\"T_0555e_level0_row11\" class=\"row_heading level0 row11\" >Sex</th>\n",
       "      <td id=\"T_0555e_row11_col0\" class=\"data row11 col0\" >1</td>\n",
       "      <td id=\"T_0555e_row11_col1\" class=\"data row11 col1\" >1</td>\n",
       "      <td id=\"T_0555e_row11_col2\" class=\"data row11 col2\" >1</td>\n",
       "      <td id=\"T_0555e_row11_col3\" class=\"data row11 col3\" >1</td>\n",
       "      <td id=\"T_0555e_row11_col4\" class=\"data row11 col4\" >0</td>\n",
       "      <td id=\"T_0555e_row11_col5\" class=\"data row11 col5\" >1</td>\n",
       "    </tr>\n",
       "    <tr>\n",
       "      <th id=\"T_0555e_level0_row12\" class=\"row_heading level0 row12\" >CholCheck</th>\n",
       "      <td id=\"T_0555e_row12_col0\" class=\"data row12 col0\" >1</td>\n",
       "      <td id=\"T_0555e_row12_col1\" class=\"data row12 col1\" >1</td>\n",
       "      <td id=\"T_0555e_row12_col2\" class=\"data row12 col2\" >1</td>\n",
       "      <td id=\"T_0555e_row12_col3\" class=\"data row12 col3\" >1</td>\n",
       "      <td id=\"T_0555e_row12_col4\" class=\"data row12 col4\" >1</td>\n",
       "      <td id=\"T_0555e_row12_col5\" class=\"data row12 col5\" >1</td>\n",
       "    </tr>\n",
       "    <tr>\n",
       "      <th id=\"T_0555e_level0_row13\" class=\"row_heading level0 row13\" >label</th>\n",
       "      <td id=\"T_0555e_row13_col0\" class=\"data row13 col0\" >0</td>\n",
       "      <td id=\"T_0555e_row13_col1\" class=\"data row13 col1\" >1</td>\n",
       "      <td id=\"T_0555e_row13_col2\" class=\"data row13 col2\" >1</td>\n",
       "      <td id=\"T_0555e_row13_col3\" class=\"data row13 col3\" >1</td>\n",
       "      <td id=\"T_0555e_row13_col4\" class=\"data row13 col4\" >1</td>\n",
       "      <td id=\"T_0555e_row13_col5\" class=\"data row13 col5\" >1</td>\n",
       "    </tr>\n",
       "  </tbody>\n",
       "</table>\n"
      ],
      "text/plain": [
       "<pandas.io.formats.style.Styler at 0x7fbbf0214490>"
      ]
     },
     "metadata": {},
     "output_type": "display_data"
    }
   ],
   "source": [
    "display_tabular_cfs([cfs, baseline_cfs, cf_proto_cf], model, x, scaler, encoder, cols, f'results/{dataset}_sample')"
   ]
  },
  {
   "cell_type": "markdown",
   "id": "dcb3d996-c737-493f-b0ba-b222b76a108c",
   "metadata": {},
   "source": [
    "# Comparison"
   ]
  },
  {
   "cell_type": "code",
   "execution_count": 5,
   "id": "c8fac489-8c83-4f27-9614-d00d9388d939",
   "metadata": {},
   "outputs": [
    {
     "name": "stderr",
     "output_type": "stream",
     "text": [
      "  0%|          | 0/50 [00:00<?, ?it/s]No encoder specified. Using k-d trees to represent class prototypes.\n",
      "  2%|▏         | 1/50 [00:54<44:16, 54.22s/it]No encoder specified. Using k-d trees to represent class prototypes.\n",
      "  4%|▍         | 2/50 [01:49<43:51, 54.82s/it]No encoder specified. Using k-d trees to represent class prototypes.\n",
      "  6%|▌         | 3/50 [02:42<42:15, 53.95s/it]No encoder specified. Using k-d trees to represent class prototypes.\n",
      "  8%|▊         | 4/50 [03:34<40:57, 53.42s/it]No encoder specified. Using k-d trees to represent class prototypes.\n",
      " 10%|█         | 5/50 [04:27<39:43, 52.97s/it]No encoder specified. Using k-d trees to represent class prototypes.\n",
      " 12%|█▏        | 6/50 [05:21<39:12, 53.48s/it]No encoder specified. Using k-d trees to represent class prototypes.\n",
      " 14%|█▍        | 7/50 [06:10<37:20, 52.11s/it]No encoder specified. Using k-d trees to represent class prototypes.\n",
      " 16%|█▌        | 8/50 [07:03<36:28, 52.12s/it]No encoder specified. Using k-d trees to represent class prototypes.\n",
      " 18%|█▊        | 9/50 [07:53<35:11, 51.50s/it]No encoder specified. Using k-d trees to represent class prototypes.\n",
      " 20%|██        | 10/50 [08:42<33:58, 50.96s/it]No encoder specified. Using k-d trees to represent class prototypes.\n",
      " 22%|██▏       | 11/50 [09:32<32:51, 50.56s/it]No encoder specified. Using k-d trees to represent class prototypes.\n",
      " 24%|██▍       | 12/50 [10:23<32:02, 50.59s/it]No encoder specified. Using k-d trees to represent class prototypes.\n",
      " 26%|██▌       | 13/50 [11:13<31:10, 50.56s/it]No encoder specified. Using k-d trees to represent class prototypes.\n",
      " 28%|██▊       | 14/50 [12:03<30:12, 50.34s/it]No encoder specified. Using k-d trees to represent class prototypes.\n",
      " 30%|███       | 15/50 [12:53<29:19, 50.26s/it]No encoder specified. Using k-d trees to represent class prototypes.\n",
      " 32%|███▏      | 16/50 [13:43<28:29, 50.28s/it]No encoder specified. Using k-d trees to represent class prototypes.\n",
      " 34%|███▍      | 17/50 [14:36<27:57, 50.84s/it]No encoder specified. Using k-d trees to represent class prototypes.\n",
      " 36%|███▌      | 18/50 [15:30<27:36, 51.78s/it]No encoder specified. Using k-d trees to represent class prototypes.\n",
      " 38%|███▊      | 19/50 [16:25<27:23, 53.00s/it]No encoder specified. Using k-d trees to represent class prototypes.\n",
      " 40%|████      | 20/50 [17:18<26:28, 52.95s/it]No encoder specified. Using k-d trees to represent class prototypes.\n",
      " 42%|████▏     | 21/50 [18:04<24:36, 50.91s/it]No encoder specified. Using k-d trees to represent class prototypes.\n",
      " 44%|████▍     | 22/50 [18:44<22:13, 47.63s/it]No encoder specified. Using k-d trees to represent class prototypes.\n",
      " 46%|████▌     | 23/50 [19:24<20:18, 45.12s/it]No encoder specified. Using k-d trees to represent class prototypes.\n",
      " 48%|████▊     | 24/50 [20:05<19:01, 43.89s/it]No encoder specified. Using k-d trees to represent class prototypes.\n",
      " 50%|█████     | 25/50 [20:44<17:41, 42.48s/it]No encoder specified. Using k-d trees to represent class prototypes.\n",
      " 52%|█████▏    | 26/50 [21:50<19:49, 49.55s/it]No encoder specified. Using k-d trees to represent class prototypes.\n",
      " 54%|█████▍    | 27/50 [22:31<18:01, 47.01s/it]No encoder specified. Using k-d trees to represent class prototypes.\n",
      " 56%|█████▌    | 28/50 [23:12<16:31, 45.09s/it]No encoder specified. Using k-d trees to represent class prototypes.\n",
      " 58%|█████▊    | 29/50 [23:51<15:10, 43.37s/it]No encoder specified. Using k-d trees to represent class prototypes.\n",
      " 60%|██████    | 30/50 [24:36<14:38, 43.91s/it]No encoder specified. Using k-d trees to represent class prototypes.\n",
      " 62%|██████▏   | 31/50 [25:26<14:29, 45.77s/it]No encoder specified. Using k-d trees to represent class prototypes.\n",
      " 64%|██████▍   | 32/50 [26:26<14:57, 49.87s/it]No encoder specified. Using k-d trees to represent class prototypes.\n",
      " 66%|██████▌   | 33/50 [27:25<14:54, 52.64s/it]No encoder specified. Using k-d trees to represent class prototypes.\n",
      " 68%|██████▊   | 34/50 [28:23<14:31, 54.46s/it]No encoder specified. Using k-d trees to represent class prototypes.\n",
      " 70%|███████   | 35/50 [29:23<14:01, 56.11s/it]No encoder specified. Using k-d trees to represent class prototypes.\n",
      " 72%|███████▏  | 36/50 [30:26<13:32, 58.02s/it]No encoder specified. Using k-d trees to represent class prototypes.\n",
      " 74%|███████▍  | 37/50 [31:27<12:46, 58.97s/it]No encoder specified. Using k-d trees to represent class prototypes.\n",
      " 76%|███████▌  | 38/50 [32:28<11:54, 59.52s/it]No encoder specified. Using k-d trees to represent class prototypes.\n",
      " 78%|███████▊  | 39/50 [33:27<10:53, 59.45s/it]No encoder specified. Using k-d trees to represent class prototypes.\n",
      " 80%|████████  | 40/50 [34:27<09:55, 59.60s/it]No encoder specified. Using k-d trees to represent class prototypes.\n",
      " 82%|████████▏ | 41/50 [35:28<08:59, 59.92s/it]No encoder specified. Using k-d trees to represent class prototypes.\n",
      " 84%|████████▍ | 42/50 [36:28<07:59, 59.88s/it]No encoder specified. Using k-d trees to represent class prototypes.\n",
      " 86%|████████▌ | 43/50 [37:29<07:02, 60.36s/it]No encoder specified. Using k-d trees to represent class prototypes.\n",
      " 88%|████████▊ | 44/50 [38:29<06:01, 60.24s/it]No encoder specified. Using k-d trees to represent class prototypes.\n",
      " 90%|█████████ | 45/50 [39:31<05:04, 60.86s/it]No encoder specified. Using k-d trees to represent class prototypes.\n",
      " 92%|█████████▏| 46/50 [40:33<04:04, 61.11s/it]No encoder specified. Using k-d trees to represent class prototypes.\n",
      " 94%|█████████▍| 47/50 [41:36<03:04, 61.59s/it]No encoder specified. Using k-d trees to represent class prototypes.\n",
      " 96%|█████████▌| 48/50 [42:37<02:03, 61.61s/it]No encoder specified. Using k-d trees to represent class prototypes.\n",
      " 98%|█████████▊| 49/50 [43:40<01:01, 61.78s/it]No encoder specified. Using k-d trees to represent class prototypes.\n",
      "100%|██████████| 50/50 [44:42<00:00, 53.65s/it]\n"
     ]
    }
   ],
   "source": [
    "from tqdm import tqdm \n",
    "\n",
    "times = []\n",
    "sparsity = []\n",
    "success_rate = []\n",
    "in_distribution = []\n",
    "\n",
    "from sklearn.svm import OneClassSVM\n",
    "ood_detector = OneClassSVM()\n",
    "ood_detector.fit(X_test)\n",
    "\n",
    "for test_id in tqdm(range(50)):\n",
    "    start = time.perf_counter()\n",
    "    cfs, x, desired_class = get_simplex_cf_tabular(simplex, model, test_id, encoder, n_cfs = 1)\n",
    "    end = time.perf_counter()\n",
    "    \n",
    "    start_b = time.perf_counter()\n",
    "    baseline_cfs = get_baseline_counterfactuals(model = model, target = desired_class, test = x, \\\n",
    "                                            corpus = X_corpus)\n",
    "    end_b = time.perf_counter()\n",
    "    \n",
    "    start_c = time.perf_counter()\n",
    "    cf_proto_cf = get_cfproto_cf(X_corpus, model, x)\n",
    "    end_c = time.perf_counter()\n",
    "    \n",
    "    times.append([end - start, end_b - start_b, end_c - start_c])\n",
    "    sparsity.append([(cfs[0] != x).sum(), (baseline_cfs[0] != x).sum(), (cf_proto_cf[0] != x).sum()])\n",
    "    success_rate.append([cfs is not None, baseline_cfs is not None, cf_proto_cf is not None])\n",
    "    in_distribution.append([ood_detector.score_samples(cfs).mean(),ood_detector.score_samples(baseline_cfs).mean(), ood_detector.score_samples(cf_proto_cf).mean()])"
   ]
  },
  {
   "cell_type": "code",
   "execution_count": 6,
   "id": "9a96010a-f51c-4159-8a7c-f9280ae42da3",
   "metadata": {},
   "outputs": [],
   "source": [
    "pd.DataFrame(times, columns  = ['simplex', 'nn', 'cfproto']).describe().to_csv(f'results/{dataset}_times.csv')\n",
    "pd.DataFrame(sparsity, columns  = ['simplex', 'nn', 'cfproto']).applymap(int).describe().to_csv(f'results/{dataset}_sparsity.csv')\n",
    "pd.DataFrame(success_rate, columns  = ['simplex', 'nn', 'cfproto']).applymap(int).describe().to_csv(f'results/{dataset}_success_rate.csv')\n",
    "pd.DataFrame(in_distribution, columns  = ['simplex', 'nn', 'cfproto']).describe().to_csv(f'results/{dataset}_in_distribution.csv')"
   ]
  },
  {
   "cell_type": "markdown",
   "id": "2e45cc13",
   "metadata": {},
   "source": [
    "w_c, x_c, proj_jacobian_c = cfs_results[0][0][0] # i is what counterfactual, j is the results of that counterfactaul, k is the explanation base on corpus in i,j"
   ]
  },
  {
   "cell_type": "code",
   "execution_count": 7,
   "id": "226cf851",
   "metadata": {},
   "outputs": [
    {
     "data": {
      "text/plain": [
       "36.40875911515704"
      ]
     },
     "execution_count": 7,
     "metadata": {},
     "output_type": "execute_result"
    }
   ],
   "source": [
    "ood_detector.score_samples(X_test).mean()"
   ]
  },
  {
   "cell_type": "code",
   "execution_count": null,
   "id": "563b8260",
   "metadata": {},
   "outputs": [],
   "source": []
  }
 ],
 "metadata": {
  "kernelspec": {
   "display_name": "molformer",
   "language": "python",
   "name": "molformer"
  },
  "language_info": {
   "codemirror_mode": {
    "name": "ipython",
    "version": 3
   },
   "file_extension": ".py",
   "mimetype": "text/x-python",
   "name": "python",
   "nbconvert_exporter": "python",
   "pygments_lexer": "ipython3",
   "version": "3.10.6"
  }
 },
 "nbformat": 4,
 "nbformat_minor": 5
}
