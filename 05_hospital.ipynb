{
 "cells": [
  {
   "cell_type": "code",
   "execution_count": 1,
   "id": "668b6156-7fed-4856-afea-0111b61733e8",
   "metadata": {},
   "outputs": [
    {
     "data": {
      "text/plain": [
       "TabularModel(\n",
       "  (lin1): Linear(in_features=10, out_features=200, bias=True)\n",
       "  (lin2): Linear(in_features=200, out_features=50, bias=True)\n",
       "  (lin3): Linear(in_features=50, out_features=2, bias=True)\n",
       "  (bn1): BatchNorm1d(8, eps=1e-05, momentum=0.1, affine=True, track_running_stats=True)\n",
       "  (drops): Dropout(p=0.3, inplace=False)\n",
       ")"
      ]
     },
     "execution_count": 1,
     "metadata": {},
     "output_type": "execute_result"
    }
   ],
   "source": [
    "from util import *\n",
    "\n",
    "from src.dataset import load_hospital\n",
    "from src.counterfactual import get_baseline_counterfactuals\n",
    "import joblib\n",
    "\n",
    "import warnings\n",
    "warnings.filterwarnings('ignore')\n",
    "                        \n",
    "# Get a model\n",
    "model, encoder, scaler = joblib.load('models/hospital.gz') # Model should have the BlackBox interface\n",
    "model"
   ]
  },
  {
   "cell_type": "code",
   "execution_count": 2,
   "id": "4330d911-2504-49de-8566-6c99ffa21469",
   "metadata": {},
   "outputs": [
    {
     "name": "stdout",
     "output_type": "stream",
     "text": [
      "Weight Fitting Epoch: 2000/10000 ; Error: 6.78 ; Regulator: 17.1 ; Reg Factor: 1\n",
      "Weight Fitting Epoch: 4000/10000 ; Error: 1.34 ; Regulator: 2.86 ; Reg Factor: 1\n",
      "Weight Fitting Epoch: 6000/10000 ; Error: 0.621 ; Regulator: 0.828 ; Reg Factor: 1\n",
      "Weight Fitting Epoch: 8000/10000 ; Error: 0.492 ; Regulator: 0.291 ; Reg Factor: 1\n",
      "Weight Fitting Epoch: 10000/10000 ; Error: 0.451 ; Regulator: 0.108 ; Reg Factor: 1\n"
     ]
    }
   ],
   "source": [
    "loader = iter(load_hospital(100, train=False))\n",
    "X_corpus, _ = next(loader)\n",
    "X_test, _ = next(loader)\n",
    "\n",
    "simplex = get_simplex(model, X_corpus, X_test, verbose = True)"
   ]
  },
  {
   "cell_type": "code",
   "execution_count": 3,
   "id": "8d91357d-2011-47df-ba10-8043e40864ba",
   "metadata": {},
   "outputs": [
    {
     "name": "stderr",
     "output_type": "stream",
     "text": [
      " 10%|████                                     | 10/100 [00:00<00:00, 316.85it/s]\n"
     ]
    }
   ],
   "source": [
    "i = 40\n",
    "n_cfs = 5\n",
    "\n",
    "x = simplex.test_examples[i:i+1]\n",
    "desired_class = model(x).topk(2).indices[0,1]\n",
    "cat_indices = list(range(len(encoder.cols)))\n",
    "\n",
    "baseline_cfs = get_baseline_counterfactuals(model = model, target = desired_class, test = x, \\\n",
    "                                            corpus = X_corpus, n_counterfactuals = n_cfs)\n",
    "\n",
    "cfs = simplex.get_counterfactuals(test_id = i, model = model, n_counterfactuals = n_cfs, cat_indices = cat_indices)"
   ]
  },
  {
   "cell_type": "code",
   "execution_count": 4,
   "id": "a41943a9-0547-4b62-afc1-9830b8a748ab",
   "metadata": {},
   "outputs": [
    {
     "name": "stdout",
     "output_type": "stream",
     "text": [
      "Original: \n"
     ]
    },
    {
     "data": {
      "text/html": [
       "<div>\n",
       "<style scoped>\n",
       "    .dataframe tbody tr th:only-of-type {\n",
       "        vertical-align: middle;\n",
       "    }\n",
       "\n",
       "    .dataframe tbody tr th {\n",
       "        vertical-align: top;\n",
       "    }\n",
       "\n",
       "    .dataframe thead th {\n",
       "        text-align: right;\n",
       "    }\n",
       "</style>\n",
       "<table border=\"1\" class=\"dataframe\">\n",
       "  <thead>\n",
       "    <tr style=\"text-align: right;\">\n",
       "      <th></th>\n",
       "      <th>Gender</th>\n",
       "      <th>Neighbourhood</th>\n",
       "      <th>Scholarship</th>\n",
       "      <th>Hipertension</th>\n",
       "      <th>Diabetes</th>\n",
       "      <th>Alcoholism</th>\n",
       "      <th>SMS_received</th>\n",
       "      <th>Handcap</th>\n",
       "      <th>Age</th>\n",
       "      <th>ScheduleDays</th>\n",
       "    </tr>\n",
       "  </thead>\n",
       "  <tbody>\n",
       "    <tr>\n",
       "      <th>0</th>\n",
       "      <td>F</td>\n",
       "      <td>RESISTÊNCIA</td>\n",
       "      <td>0</td>\n",
       "      <td>0</td>\n",
       "      <td>0</td>\n",
       "      <td>0</td>\n",
       "      <td>0</td>\n",
       "      <td>1</td>\n",
       "      <td>17</td>\n",
       "      <td>9</td>\n",
       "    </tr>\n",
       "  </tbody>\n",
       "</table>\n",
       "</div>"
      ],
      "text/plain": [
       "  Gender Neighbourhood  Scholarship  Hipertension  Diabetes  Alcoholism  \\\n",
       "0      F   RESISTÊNCIA            0             0         0           0   \n",
       "\n",
       "   SMS_received  Handcap  Age  ScheduleDays  \n",
       "0             0        1   17             9  "
      ]
     },
     "metadata": {},
     "output_type": "display_data"
    },
    {
     "name": "stdout",
     "output_type": "stream",
     "text": [
      "\n",
      "Kept counterfactual generation: \n"
     ]
    },
    {
     "data": {
      "text/html": [
       "<style type=\"text/css\">\n",
       "#T_676ad_row0_col0, #T_676ad_row0_col1, #T_676ad_row0_col2, #T_676ad_row0_col3, #T_676ad_row0_col4, #T_676ad_row0_col5, #T_676ad_row0_col6, #T_676ad_row0_col8, #T_676ad_row0_col9 {\n",
       "  background-color: ;\n",
       "}\n",
       "#T_676ad_row0_col7 {\n",
       "  background-color: green;\n",
       "}\n",
       "</style>\n",
       "<table id=\"T_676ad\">\n",
       "  <thead>\n",
       "    <tr>\n",
       "      <th class=\"blank level0\" >&nbsp;</th>\n",
       "      <th id=\"T_676ad_level0_col0\" class=\"col_heading level0 col0\" >Gender</th>\n",
       "      <th id=\"T_676ad_level0_col1\" class=\"col_heading level0 col1\" >Neighbourhood</th>\n",
       "      <th id=\"T_676ad_level0_col2\" class=\"col_heading level0 col2\" >Scholarship</th>\n",
       "      <th id=\"T_676ad_level0_col3\" class=\"col_heading level0 col3\" >Hipertension</th>\n",
       "      <th id=\"T_676ad_level0_col4\" class=\"col_heading level0 col4\" >Diabetes</th>\n",
       "      <th id=\"T_676ad_level0_col5\" class=\"col_heading level0 col5\" >Alcoholism</th>\n",
       "      <th id=\"T_676ad_level0_col6\" class=\"col_heading level0 col6\" >SMS_received</th>\n",
       "      <th id=\"T_676ad_level0_col7\" class=\"col_heading level0 col7\" >Handcap</th>\n",
       "      <th id=\"T_676ad_level0_col8\" class=\"col_heading level0 col8\" >Age</th>\n",
       "      <th id=\"T_676ad_level0_col9\" class=\"col_heading level0 col9\" >ScheduleDays</th>\n",
       "    </tr>\n",
       "  </thead>\n",
       "  <tbody>\n",
       "    <tr>\n",
       "      <th id=\"T_676ad_level0_row0\" class=\"row_heading level0 row0\" >0</th>\n",
       "      <td id=\"T_676ad_row0_col0\" class=\"data row0 col0\" >F</td>\n",
       "      <td id=\"T_676ad_row0_col1\" class=\"data row0 col1\" >RESISTÊNCIA</td>\n",
       "      <td id=\"T_676ad_row0_col2\" class=\"data row0 col2\" >0</td>\n",
       "      <td id=\"T_676ad_row0_col3\" class=\"data row0 col3\" >0</td>\n",
       "      <td id=\"T_676ad_row0_col4\" class=\"data row0 col4\" >0</td>\n",
       "      <td id=\"T_676ad_row0_col5\" class=\"data row0 col5\" >0</td>\n",
       "      <td id=\"T_676ad_row0_col6\" class=\"data row0 col6\" >0</td>\n",
       "      <td id=\"T_676ad_row0_col7\" class=\"data row0 col7\" >0</td>\n",
       "      <td id=\"T_676ad_row0_col8\" class=\"data row0 col8\" >17</td>\n",
       "      <td id=\"T_676ad_row0_col9\" class=\"data row0 col9\" >9</td>\n",
       "    </tr>\n",
       "  </tbody>\n",
       "</table>\n"
      ],
      "text/plain": [
       "<pandas.io.formats.style.Styler at 0x7fdbdb85ed40>"
      ]
     },
     "metadata": {},
     "output_type": "display_data"
    },
    {
     "name": "stdout",
     "output_type": "stream",
     "text": [
      "\n",
      "Predicted:  tensor(0)  ||  Desired:  tensor(0)  ||  Orginal:  tensor(1)\n",
      "************************************************************************************************************************\n",
      "Kept counterfactual generation: \n"
     ]
    },
    {
     "data": {
      "text/html": [
       "<style type=\"text/css\">\n",
       "#T_a1f47_row0_col0, #T_a1f47_row0_col1, #T_a1f47_row0_col2, #T_a1f47_row0_col3, #T_a1f47_row0_col4, #T_a1f47_row0_col5, #T_a1f47_row0_col6, #T_a1f47_row0_col8, #T_a1f47_row0_col9 {\n",
       "  background-color: ;\n",
       "}\n",
       "#T_a1f47_row0_col7 {\n",
       "  background-color: green;\n",
       "}\n",
       "</style>\n",
       "<table id=\"T_a1f47\">\n",
       "  <thead>\n",
       "    <tr>\n",
       "      <th class=\"blank level0\" >&nbsp;</th>\n",
       "      <th id=\"T_a1f47_level0_col0\" class=\"col_heading level0 col0\" >Gender</th>\n",
       "      <th id=\"T_a1f47_level0_col1\" class=\"col_heading level0 col1\" >Neighbourhood</th>\n",
       "      <th id=\"T_a1f47_level0_col2\" class=\"col_heading level0 col2\" >Scholarship</th>\n",
       "      <th id=\"T_a1f47_level0_col3\" class=\"col_heading level0 col3\" >Hipertension</th>\n",
       "      <th id=\"T_a1f47_level0_col4\" class=\"col_heading level0 col4\" >Diabetes</th>\n",
       "      <th id=\"T_a1f47_level0_col5\" class=\"col_heading level0 col5\" >Alcoholism</th>\n",
       "      <th id=\"T_a1f47_level0_col6\" class=\"col_heading level0 col6\" >SMS_received</th>\n",
       "      <th id=\"T_a1f47_level0_col7\" class=\"col_heading level0 col7\" >Handcap</th>\n",
       "      <th id=\"T_a1f47_level0_col8\" class=\"col_heading level0 col8\" >Age</th>\n",
       "      <th id=\"T_a1f47_level0_col9\" class=\"col_heading level0 col9\" >ScheduleDays</th>\n",
       "    </tr>\n",
       "  </thead>\n",
       "  <tbody>\n",
       "    <tr>\n",
       "      <th id=\"T_a1f47_level0_row0\" class=\"row_heading level0 row0\" >0</th>\n",
       "      <td id=\"T_a1f47_row0_col0\" class=\"data row0 col0\" >F</td>\n",
       "      <td id=\"T_a1f47_row0_col1\" class=\"data row0 col1\" >RESISTÊNCIA</td>\n",
       "      <td id=\"T_a1f47_row0_col2\" class=\"data row0 col2\" >0</td>\n",
       "      <td id=\"T_a1f47_row0_col3\" class=\"data row0 col3\" >0</td>\n",
       "      <td id=\"T_a1f47_row0_col4\" class=\"data row0 col4\" >0</td>\n",
       "      <td id=\"T_a1f47_row0_col5\" class=\"data row0 col5\" >0</td>\n",
       "      <td id=\"T_a1f47_row0_col6\" class=\"data row0 col6\" >0</td>\n",
       "      <td id=\"T_a1f47_row0_col7\" class=\"data row0 col7\" >0</td>\n",
       "      <td id=\"T_a1f47_row0_col8\" class=\"data row0 col8\" >17</td>\n",
       "      <td id=\"T_a1f47_row0_col9\" class=\"data row0 col9\" >9</td>\n",
       "    </tr>\n",
       "  </tbody>\n",
       "</table>\n"
      ],
      "text/plain": [
       "<pandas.io.formats.style.Styler at 0x7fdb988f7af0>"
      ]
     },
     "metadata": {},
     "output_type": "display_data"
    },
    {
     "name": "stdout",
     "output_type": "stream",
     "text": [
      "\n",
      "Predicted:  tensor(0)  ||  Desired:  tensor(0)  ||  Orginal:  tensor(1)\n",
      "************************************************************************************************************************\n",
      "Kept counterfactual generation: \n"
     ]
    },
    {
     "data": {
      "text/html": [
       "<style type=\"text/css\">\n",
       "#T_d3051_row0_col0, #T_d3051_row0_col2, #T_d3051_row0_col3, #T_d3051_row0_col4, #T_d3051_row0_col5, #T_d3051_row0_col6, #T_d3051_row0_col8, #T_d3051_row0_col9 {\n",
       "  background-color: ;\n",
       "}\n",
       "#T_d3051_row0_col1, #T_d3051_row0_col7 {\n",
       "  background-color: green;\n",
       "}\n",
       "</style>\n",
       "<table id=\"T_d3051\">\n",
       "  <thead>\n",
       "    <tr>\n",
       "      <th class=\"blank level0\" >&nbsp;</th>\n",
       "      <th id=\"T_d3051_level0_col0\" class=\"col_heading level0 col0\" >Gender</th>\n",
       "      <th id=\"T_d3051_level0_col1\" class=\"col_heading level0 col1\" >Neighbourhood</th>\n",
       "      <th id=\"T_d3051_level0_col2\" class=\"col_heading level0 col2\" >Scholarship</th>\n",
       "      <th id=\"T_d3051_level0_col3\" class=\"col_heading level0 col3\" >Hipertension</th>\n",
       "      <th id=\"T_d3051_level0_col4\" class=\"col_heading level0 col4\" >Diabetes</th>\n",
       "      <th id=\"T_d3051_level0_col5\" class=\"col_heading level0 col5\" >Alcoholism</th>\n",
       "      <th id=\"T_d3051_level0_col6\" class=\"col_heading level0 col6\" >SMS_received</th>\n",
       "      <th id=\"T_d3051_level0_col7\" class=\"col_heading level0 col7\" >Handcap</th>\n",
       "      <th id=\"T_d3051_level0_col8\" class=\"col_heading level0 col8\" >Age</th>\n",
       "      <th id=\"T_d3051_level0_col9\" class=\"col_heading level0 col9\" >ScheduleDays</th>\n",
       "    </tr>\n",
       "  </thead>\n",
       "  <tbody>\n",
       "    <tr>\n",
       "      <th id=\"T_d3051_level0_row0\" class=\"row_heading level0 row0\" >0</th>\n",
       "      <td id=\"T_d3051_row0_col0\" class=\"data row0 col0\" >F</td>\n",
       "      <td id=\"T_d3051_row0_col1\" class=\"data row0 col1\" >GRANDE VITÓRIA</td>\n",
       "      <td id=\"T_d3051_row0_col2\" class=\"data row0 col2\" >0</td>\n",
       "      <td id=\"T_d3051_row0_col3\" class=\"data row0 col3\" >0</td>\n",
       "      <td id=\"T_d3051_row0_col4\" class=\"data row0 col4\" >0</td>\n",
       "      <td id=\"T_d3051_row0_col5\" class=\"data row0 col5\" >0</td>\n",
       "      <td id=\"T_d3051_row0_col6\" class=\"data row0 col6\" >0</td>\n",
       "      <td id=\"T_d3051_row0_col7\" class=\"data row0 col7\" >0</td>\n",
       "      <td id=\"T_d3051_row0_col8\" class=\"data row0 col8\" >17</td>\n",
       "      <td id=\"T_d3051_row0_col9\" class=\"data row0 col9\" >9</td>\n",
       "    </tr>\n",
       "  </tbody>\n",
       "</table>\n"
      ],
      "text/plain": [
       "<pandas.io.formats.style.Styler at 0x7fdb88658640>"
      ]
     },
     "metadata": {},
     "output_type": "display_data"
    },
    {
     "name": "stdout",
     "output_type": "stream",
     "text": [
      "\n",
      "Predicted:  tensor(0)  ||  Desired:  tensor(0)  ||  Orginal:  tensor(1)\n",
      "************************************************************************************************************************\n",
      "Kept counterfactual generation: \n"
     ]
    },
    {
     "data": {
      "text/html": [
       "<style type=\"text/css\">\n",
       "#T_f1419_row0_col0, #T_f1419_row0_col2, #T_f1419_row0_col3, #T_f1419_row0_col4, #T_f1419_row0_col5, #T_f1419_row0_col6, #T_f1419_row0_col8, #T_f1419_row0_col9 {\n",
       "  background-color: ;\n",
       "}\n",
       "#T_f1419_row0_col1, #T_f1419_row0_col7 {\n",
       "  background-color: green;\n",
       "}\n",
       "</style>\n",
       "<table id=\"T_f1419\">\n",
       "  <thead>\n",
       "    <tr>\n",
       "      <th class=\"blank level0\" >&nbsp;</th>\n",
       "      <th id=\"T_f1419_level0_col0\" class=\"col_heading level0 col0\" >Gender</th>\n",
       "      <th id=\"T_f1419_level0_col1\" class=\"col_heading level0 col1\" >Neighbourhood</th>\n",
       "      <th id=\"T_f1419_level0_col2\" class=\"col_heading level0 col2\" >Scholarship</th>\n",
       "      <th id=\"T_f1419_level0_col3\" class=\"col_heading level0 col3\" >Hipertension</th>\n",
       "      <th id=\"T_f1419_level0_col4\" class=\"col_heading level0 col4\" >Diabetes</th>\n",
       "      <th id=\"T_f1419_level0_col5\" class=\"col_heading level0 col5\" >Alcoholism</th>\n",
       "      <th id=\"T_f1419_level0_col6\" class=\"col_heading level0 col6\" >SMS_received</th>\n",
       "      <th id=\"T_f1419_level0_col7\" class=\"col_heading level0 col7\" >Handcap</th>\n",
       "      <th id=\"T_f1419_level0_col8\" class=\"col_heading level0 col8\" >Age</th>\n",
       "      <th id=\"T_f1419_level0_col9\" class=\"col_heading level0 col9\" >ScheduleDays</th>\n",
       "    </tr>\n",
       "  </thead>\n",
       "  <tbody>\n",
       "    <tr>\n",
       "      <th id=\"T_f1419_level0_row0\" class=\"row_heading level0 row0\" >0</th>\n",
       "      <td id=\"T_f1419_row0_col0\" class=\"data row0 col0\" >F</td>\n",
       "      <td id=\"T_f1419_row0_col1\" class=\"data row0 col1\" >JUCUTUQUARA</td>\n",
       "      <td id=\"T_f1419_row0_col2\" class=\"data row0 col2\" >0</td>\n",
       "      <td id=\"T_f1419_row0_col3\" class=\"data row0 col3\" >0</td>\n",
       "      <td id=\"T_f1419_row0_col4\" class=\"data row0 col4\" >0</td>\n",
       "      <td id=\"T_f1419_row0_col5\" class=\"data row0 col5\" >0</td>\n",
       "      <td id=\"T_f1419_row0_col6\" class=\"data row0 col6\" >0</td>\n",
       "      <td id=\"T_f1419_row0_col7\" class=\"data row0 col7\" >0</td>\n",
       "      <td id=\"T_f1419_row0_col8\" class=\"data row0 col8\" >17</td>\n",
       "      <td id=\"T_f1419_row0_col9\" class=\"data row0 col9\" >9</td>\n",
       "    </tr>\n",
       "  </tbody>\n",
       "</table>\n"
      ],
      "text/plain": [
       "<pandas.io.formats.style.Styler at 0x7fdb988f7af0>"
      ]
     },
     "metadata": {},
     "output_type": "display_data"
    },
    {
     "name": "stdout",
     "output_type": "stream",
     "text": [
      "\n",
      "Predicted:  tensor(0)  ||  Desired:  tensor(0)  ||  Orginal:  tensor(1)\n",
      "************************************************************************************************************************\n",
      "Kept counterfactual generation: \n"
     ]
    },
    {
     "data": {
      "text/html": [
       "<style type=\"text/css\">\n",
       "#T_430e1_row0_col0, #T_430e1_row0_col2, #T_430e1_row0_col3, #T_430e1_row0_col4, #T_430e1_row0_col5, #T_430e1_row0_col6, #T_430e1_row0_col8, #T_430e1_row0_col9 {\n",
       "  background-color: ;\n",
       "}\n",
       "#T_430e1_row0_col1, #T_430e1_row0_col7 {\n",
       "  background-color: green;\n",
       "}\n",
       "</style>\n",
       "<table id=\"T_430e1\">\n",
       "  <thead>\n",
       "    <tr>\n",
       "      <th class=\"blank level0\" >&nbsp;</th>\n",
       "      <th id=\"T_430e1_level0_col0\" class=\"col_heading level0 col0\" >Gender</th>\n",
       "      <th id=\"T_430e1_level0_col1\" class=\"col_heading level0 col1\" >Neighbourhood</th>\n",
       "      <th id=\"T_430e1_level0_col2\" class=\"col_heading level0 col2\" >Scholarship</th>\n",
       "      <th id=\"T_430e1_level0_col3\" class=\"col_heading level0 col3\" >Hipertension</th>\n",
       "      <th id=\"T_430e1_level0_col4\" class=\"col_heading level0 col4\" >Diabetes</th>\n",
       "      <th id=\"T_430e1_level0_col5\" class=\"col_heading level0 col5\" >Alcoholism</th>\n",
       "      <th id=\"T_430e1_level0_col6\" class=\"col_heading level0 col6\" >SMS_received</th>\n",
       "      <th id=\"T_430e1_level0_col7\" class=\"col_heading level0 col7\" >Handcap</th>\n",
       "      <th id=\"T_430e1_level0_col8\" class=\"col_heading level0 col8\" >Age</th>\n",
       "      <th id=\"T_430e1_level0_col9\" class=\"col_heading level0 col9\" >ScheduleDays</th>\n",
       "    </tr>\n",
       "  </thead>\n",
       "  <tbody>\n",
       "    <tr>\n",
       "      <th id=\"T_430e1_level0_row0\" class=\"row_heading level0 row0\" >0</th>\n",
       "      <td id=\"T_430e1_row0_col0\" class=\"data row0 col0\" >F</td>\n",
       "      <td id=\"T_430e1_row0_col1\" class=\"data row0 col1\" >MÁRIO CYPRESTE</td>\n",
       "      <td id=\"T_430e1_row0_col2\" class=\"data row0 col2\" >0</td>\n",
       "      <td id=\"T_430e1_row0_col3\" class=\"data row0 col3\" >0</td>\n",
       "      <td id=\"T_430e1_row0_col4\" class=\"data row0 col4\" >0</td>\n",
       "      <td id=\"T_430e1_row0_col5\" class=\"data row0 col5\" >0</td>\n",
       "      <td id=\"T_430e1_row0_col6\" class=\"data row0 col6\" >0</td>\n",
       "      <td id=\"T_430e1_row0_col7\" class=\"data row0 col7\" >0</td>\n",
       "      <td id=\"T_430e1_row0_col8\" class=\"data row0 col8\" >17</td>\n",
       "      <td id=\"T_430e1_row0_col9\" class=\"data row0 col9\" >9</td>\n",
       "    </tr>\n",
       "  </tbody>\n",
       "</table>\n"
      ],
      "text/plain": [
       "<pandas.io.formats.style.Styler at 0x7fdb88658640>"
      ]
     },
     "metadata": {},
     "output_type": "display_data"
    },
    {
     "name": "stdout",
     "output_type": "stream",
     "text": [
      "\n",
      "Predicted:  tensor(0)  ||  Desired:  tensor(0)  ||  Orginal:  tensor(1)\n",
      "************************************************************************************************************************\n"
     ]
    }
   ],
   "source": [
    "cols = ['Gender', 'Neighbourhood', 'Scholarship', 'Hipertension', 'Diabetes', \\\n",
    "       'Alcoholism', 'SMS_received', 'Handcap', 'Age', 'ScheduleDays']\n",
    "\n",
    "display_tabular_cfs(cfs, model, x, desired_class, scaler, encoder, cols)"
   ]
  },
  {
   "cell_type": "code",
   "execution_count": null,
   "id": "dbd70339-2a62-4d1d-b3ae-e48bb3af5463",
   "metadata": {},
   "outputs": [],
   "source": []
  },
  {
   "cell_type": "code",
   "execution_count": 5,
   "id": "ef85de68-7df4-4b6e-9e2d-8151cea3ad9c",
   "metadata": {},
   "outputs": [
    {
     "name": "stdout",
     "output_type": "stream",
     "text": [
      "Original: \n"
     ]
    },
    {
     "data": {
      "text/html": [
       "<div>\n",
       "<style scoped>\n",
       "    .dataframe tbody tr th:only-of-type {\n",
       "        vertical-align: middle;\n",
       "    }\n",
       "\n",
       "    .dataframe tbody tr th {\n",
       "        vertical-align: top;\n",
       "    }\n",
       "\n",
       "    .dataframe thead th {\n",
       "        text-align: right;\n",
       "    }\n",
       "</style>\n",
       "<table border=\"1\" class=\"dataframe\">\n",
       "  <thead>\n",
       "    <tr style=\"text-align: right;\">\n",
       "      <th></th>\n",
       "      <th>Gender</th>\n",
       "      <th>Neighbourhood</th>\n",
       "      <th>Scholarship</th>\n",
       "      <th>Hipertension</th>\n",
       "      <th>Diabetes</th>\n",
       "      <th>Alcoholism</th>\n",
       "      <th>SMS_received</th>\n",
       "      <th>Handcap</th>\n",
       "      <th>Age</th>\n",
       "      <th>ScheduleDays</th>\n",
       "    </tr>\n",
       "  </thead>\n",
       "  <tbody>\n",
       "    <tr>\n",
       "      <th>0</th>\n",
       "      <td>F</td>\n",
       "      <td>RESISTÊNCIA</td>\n",
       "      <td>0</td>\n",
       "      <td>0</td>\n",
       "      <td>0</td>\n",
       "      <td>0</td>\n",
       "      <td>0</td>\n",
       "      <td>1</td>\n",
       "      <td>17</td>\n",
       "      <td>9</td>\n",
       "    </tr>\n",
       "  </tbody>\n",
       "</table>\n",
       "</div>"
      ],
      "text/plain": [
       "  Gender Neighbourhood  Scholarship  Hipertension  Diabetes  Alcoholism  \\\n",
       "0      F   RESISTÊNCIA            0             0         0           0   \n",
       "\n",
       "   SMS_received  Handcap  Age  ScheduleDays  \n",
       "0             0        1   17             9  "
      ]
     },
     "metadata": {},
     "output_type": "display_data"
    },
    {
     "name": "stdout",
     "output_type": "stream",
     "text": [
      "\n",
      "Kept counterfactual generation: \n"
     ]
    },
    {
     "data": {
      "text/html": [
       "<style type=\"text/css\">\n",
       "#T_cf017_row0_col0, #T_cf017_row0_col2, #T_cf017_row0_col4, #T_cf017_row0_col5, #T_cf017_row0_col6 {\n",
       "  background-color: ;\n",
       "}\n",
       "#T_cf017_row0_col1, #T_cf017_row0_col3, #T_cf017_row0_col7, #T_cf017_row0_col8, #T_cf017_row0_col9 {\n",
       "  background-color: green;\n",
       "}\n",
       "</style>\n",
       "<table id=\"T_cf017\">\n",
       "  <thead>\n",
       "    <tr>\n",
       "      <th class=\"blank level0\" >&nbsp;</th>\n",
       "      <th id=\"T_cf017_level0_col0\" class=\"col_heading level0 col0\" >Gender</th>\n",
       "      <th id=\"T_cf017_level0_col1\" class=\"col_heading level0 col1\" >Neighbourhood</th>\n",
       "      <th id=\"T_cf017_level0_col2\" class=\"col_heading level0 col2\" >Scholarship</th>\n",
       "      <th id=\"T_cf017_level0_col3\" class=\"col_heading level0 col3\" >Hipertension</th>\n",
       "      <th id=\"T_cf017_level0_col4\" class=\"col_heading level0 col4\" >Diabetes</th>\n",
       "      <th id=\"T_cf017_level0_col5\" class=\"col_heading level0 col5\" >Alcoholism</th>\n",
       "      <th id=\"T_cf017_level0_col6\" class=\"col_heading level0 col6\" >SMS_received</th>\n",
       "      <th id=\"T_cf017_level0_col7\" class=\"col_heading level0 col7\" >Handcap</th>\n",
       "      <th id=\"T_cf017_level0_col8\" class=\"col_heading level0 col8\" >Age</th>\n",
       "      <th id=\"T_cf017_level0_col9\" class=\"col_heading level0 col9\" >ScheduleDays</th>\n",
       "    </tr>\n",
       "  </thead>\n",
       "  <tbody>\n",
       "    <tr>\n",
       "      <th id=\"T_cf017_level0_row0\" class=\"row_heading level0 row0\" >0</th>\n",
       "      <td id=\"T_cf017_row0_col0\" class=\"data row0 col0\" >F</td>\n",
       "      <td id=\"T_cf017_row0_col1\" class=\"data row0 col1\" >MÁRIO CYPRESTE</td>\n",
       "      <td id=\"T_cf017_row0_col2\" class=\"data row0 col2\" >0</td>\n",
       "      <td id=\"T_cf017_row0_col3\" class=\"data row0 col3\" >1</td>\n",
       "      <td id=\"T_cf017_row0_col4\" class=\"data row0 col4\" >0</td>\n",
       "      <td id=\"T_cf017_row0_col5\" class=\"data row0 col5\" >0</td>\n",
       "      <td id=\"T_cf017_row0_col6\" class=\"data row0 col6\" >0</td>\n",
       "      <td id=\"T_cf017_row0_col7\" class=\"data row0 col7\" >0</td>\n",
       "      <td id=\"T_cf017_row0_col8\" class=\"data row0 col8\" >60</td>\n",
       "      <td id=\"T_cf017_row0_col9\" class=\"data row0 col9\" >23</td>\n",
       "    </tr>\n",
       "  </tbody>\n",
       "</table>\n"
      ],
      "text/plain": [
       "<pandas.io.formats.style.Styler at 0x7fdbdb85e440>"
      ]
     },
     "metadata": {},
     "output_type": "display_data"
    },
    {
     "name": "stdout",
     "output_type": "stream",
     "text": [
      "\n",
      "Predicted:  tensor(0)  ||  Desired:  tensor(0)  ||  Orginal:  tensor(1)\n",
      "************************************************************************************************************************\n"
     ]
    }
   ],
   "source": [
    "display_tabular_cfs(baseline_cfs, model, x, desired_class, scaler, encoder, cols)"
   ]
  },
  {
   "cell_type": "code",
   "execution_count": null,
   "id": "b61612a7-fb1f-48b3-aef0-a4a9eb743fad",
   "metadata": {},
   "outputs": [],
   "source": []
  }
 ],
 "metadata": {
  "kernelspec": {
   "display_name": "molformer",
   "language": "python",
   "name": "molformer"
  },
  "language_info": {
   "codemirror_mode": {
    "name": "ipython",
    "version": 3
   },
   "file_extension": ".py",
   "mimetype": "text/x-python",
   "name": "python",
   "nbconvert_exporter": "python",
   "pygments_lexer": "ipython3",
   "version": "3.10.6"
  }
 },
 "nbformat": 4,
 "nbformat_minor": 5
}
