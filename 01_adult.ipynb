{
 "cells": [
  {
   "cell_type": "code",
   "execution_count": 1,
   "id": "668b6156-7fed-4856-afea-0111b61733e8",
   "metadata": {
    "tags": []
   },
   "outputs": [
    {
     "name": "stderr",
     "output_type": "stream",
     "text": [
      "2023-01-30 21:58:00.912321: I tensorflow/core/platform/cpu_feature_guard.cc:193] This TensorFlow binary is optimized with oneAPI Deep Neural Network Library (oneDNN) to use the following CPU instructions in performance-critical operations:  AVX2 FMA\n",
      "To enable them in other operations, rebuild TensorFlow with the appropriate compiler flags.\n"
     ]
    }
   ],
   "source": [
    "from util import *\n",
    "\n",
    "from src.dataset import load_adult\n",
    "from src.counterfactual import get_baseline_counterfactuals\n",
    "\n",
    "import joblib\n",
    "import time\n",
    "\n",
    "import warnings\n",
    "warnings.filterwarnings('ignore')\n",
    "                        \n",
    "# Get a model\n",
    "dataset = 'adult'\n",
    "model, encoder, scaler = joblib.load(f'models/{dataset}.gz') # Model should have the BlackBox interface\n",
    "cols = load_columns(dataset)"
   ]
  },
  {
   "cell_type": "code",
   "execution_count": 2,
   "id": "4330d911-2504-49de-8566-6c99ffa21469",
   "metadata": {},
   "outputs": [
    {
     "name": "stdout",
     "output_type": "stream",
     "text": [
      "Weight Fitting Epoch: 2000/10000 ; Error: 100 ; Regulator: 369 ; Reg Factor: 1\n",
      "Weight Fitting Epoch: 4000/10000 ; Error: 18.7 ; Regulator: 58.4 ; Reg Factor: 1\n",
      "Weight Fitting Epoch: 6000/10000 ; Error: 8.96 ; Regulator: 12.8 ; Reg Factor: 1\n",
      "Weight Fitting Epoch: 8000/10000 ; Error: 6.91 ; Regulator: 4.38 ; Reg Factor: 1\n",
      "Weight Fitting Epoch: 10000/10000 ; Error: 6.01 ; Regulator: 1.67 ; Reg Factor: 1\n"
     ]
    }
   ],
   "source": [
    "loader = get_loader(dataset)\n",
    "X_corpus, _ = next(loader)\n",
    "X_test, _ = next(loader)\n",
    "\n",
    "simplex = get_simplex(model, X_corpus, X_test, verbose = True)"
   ]
  },
  {
   "cell_type": "code",
   "execution_count": 3,
   "id": "f47ec698",
   "metadata": {},
   "outputs": [
    {
     "name": "stdout",
     "output_type": "stream",
     "text": [
      "WARNING:tensorflow:From /Users/adebayooshingbesan/opt/anaconda3/envs/molformer/lib/python3.10/site-packages/alibi/explainers/cfproto.py:123: The name tf.keras.backend.get_session is deprecated. Please use tf.compat.v1.keras.backend.get_session instead.\n",
      "\n"
     ]
    },
    {
     "name": "stderr",
     "output_type": "stream",
     "text": [
      "2023-01-30 21:59:09.720774: I tensorflow/core/platform/cpu_feature_guard.cc:193] This TensorFlow binary is optimized with oneAPI Deep Neural Network Library (oneDNN) to use the following CPU instructions in performance-critical operations:  AVX2 FMA\n",
      "To enable them in other operations, rebuild TensorFlow with the appropriate compiler flags.\n",
      "No encoder specified. Using k-d trees to represent class prototypes.\n",
      "2023-01-30 21:59:09.949868: I tensorflow/compiler/mlir/mlir_graph_optimization_pass.cc:354] MLIR V1 optimization pass is not enabled\n"
     ]
    },
    {
     "name": "stdout",
     "output_type": "stream",
     "text": [
      "CPU times: user 5min, sys: 35 s, total: 5min 35s\n",
      "Wall time: 50.4 s\n"
     ]
    }
   ],
   "source": [
    "%%time\n",
    "test_id = 1\n",
    "\n",
    "cfs, x, desired_class = get_simplex_cf_tabular(simplex, model, test_id, encoder)\n",
    "\n",
    "baseline_cfs = get_baseline_counterfactuals(model = model, target = desired_class, test = x, \\\n",
    "                                            corpus = X_corpus)\n",
    "\n",
    "cf_proto_cf = get_cfproto_cf(X_corpus, model, x)"
   ]
  },
  {
   "cell_type": "code",
   "execution_count": 4,
   "id": "46e681c0",
   "metadata": {},
   "outputs": [
    {
     "data": {
      "text/html": [
       "<style type=\"text/css\">\n",
       "#T_807bc_row0_col0, #T_807bc_row0_col1, #T_807bc_row0_col2, #T_807bc_row0_col3, #T_807bc_row0_col5, #T_807bc_row1_col0, #T_807bc_row1_col1, #T_807bc_row1_col4, #T_807bc_row2_col0, #T_807bc_row2_col1, #T_807bc_row3_col0, #T_807bc_row3_col1, #T_807bc_row3_col2, #T_807bc_row3_col3, #T_807bc_row3_col5, #T_807bc_row4_col0, #T_807bc_row4_col1, #T_807bc_row4_col2, #T_807bc_row4_col3, #T_807bc_row4_col5, #T_807bc_row5_col0, #T_807bc_row5_col1, #T_807bc_row5_col2, #T_807bc_row5_col3, #T_807bc_row5_col4, #T_807bc_row5_col5, #T_807bc_row6_col0, #T_807bc_row6_col1, #T_807bc_row6_col2, #T_807bc_row6_col3, #T_807bc_row6_col4, #T_807bc_row6_col5, #T_807bc_row7_col0, #T_807bc_row7_col1, #T_807bc_row7_col2, #T_807bc_row7_col3, #T_807bc_row7_col4, #T_807bc_row7_col5, #T_807bc_row8_col0, #T_807bc_row8_col2, #T_807bc_row8_col4, #T_807bc_row9_col0, #T_807bc_row9_col1, #T_807bc_row9_col2, #T_807bc_row9_col4, #T_807bc_row9_col5, #T_807bc_row10_col0, #T_807bc_row10_col1, #T_807bc_row10_col3, #T_807bc_row10_col4, #T_807bc_row10_col5, #T_807bc_row11_col0, #T_807bc_row11_col1, #T_807bc_row11_col3, #T_807bc_row11_col5, #T_807bc_row12_col0 {\n",
       "  color: ;\n",
       "}\n",
       "#T_807bc_row0_col4, #T_807bc_row1_col2, #T_807bc_row1_col3, #T_807bc_row1_col5, #T_807bc_row2_col2, #T_807bc_row2_col3, #T_807bc_row2_col4, #T_807bc_row2_col5, #T_807bc_row3_col4, #T_807bc_row4_col4, #T_807bc_row8_col1, #T_807bc_row8_col3, #T_807bc_row8_col5, #T_807bc_row9_col3, #T_807bc_row10_col2, #T_807bc_row11_col2, #T_807bc_row11_col4, #T_807bc_row12_col1, #T_807bc_row12_col2, #T_807bc_row12_col3, #T_807bc_row12_col4, #T_807bc_row12_col5 {\n",
       "  color: red;\n",
       "}\n",
       "</style>\n",
       "<table id=\"T_807bc\">\n",
       "  <thead>\n",
       "    <tr>\n",
       "      <th class=\"blank level0\" >&nbsp;</th>\n",
       "      <th id=\"T_807bc_level0_col0\" class=\"col_heading level0 col0\" >original</th>\n",
       "      <th id=\"T_807bc_level0_col1\" class=\"col_heading level0 col1\" >SimplexCF_counterfactual_1</th>\n",
       "      <th id=\"T_807bc_level0_col2\" class=\"col_heading level0 col2\" >SimplexCF_counterfactual_2</th>\n",
       "      <th id=\"T_807bc_level0_col3\" class=\"col_heading level0 col3\" >SimplexCF_counterfactual_3</th>\n",
       "      <th id=\"T_807bc_level0_col4\" class=\"col_heading level0 col4\" >NN_counterfactual_1</th>\n",
       "      <th id=\"T_807bc_level0_col5\" class=\"col_heading level0 col5\" >CFProto_counterfactual_1</th>\n",
       "    </tr>\n",
       "  </thead>\n",
       "  <tbody>\n",
       "    <tr>\n",
       "      <th id=\"T_807bc_level0_row0\" class=\"row_heading level0 row0\" >workclass</th>\n",
       "      <td id=\"T_807bc_row0_col0\" class=\"data row0 col0\" >State-gov</td>\n",
       "      <td id=\"T_807bc_row0_col1\" class=\"data row0 col1\" >State-gov</td>\n",
       "      <td id=\"T_807bc_row0_col2\" class=\"data row0 col2\" >State-gov</td>\n",
       "      <td id=\"T_807bc_row0_col3\" class=\"data row0 col3\" >State-gov</td>\n",
       "      <td id=\"T_807bc_row0_col4\" class=\"data row0 col4\" >Local-gov</td>\n",
       "      <td id=\"T_807bc_row0_col5\" class=\"data row0 col5\" >State-gov</td>\n",
       "    </tr>\n",
       "    <tr>\n",
       "      <th id=\"T_807bc_level0_row1\" class=\"row_heading level0 row1\" >education</th>\n",
       "      <td id=\"T_807bc_row1_col0\" class=\"data row1 col0\" >Some-college</td>\n",
       "      <td id=\"T_807bc_row1_col1\" class=\"data row1 col1\" >Some-college</td>\n",
       "      <td id=\"T_807bc_row1_col2\" class=\"data row1 col2\" >Bachelors</td>\n",
       "      <td id=\"T_807bc_row1_col3\" class=\"data row1 col3\" >Bachelors</td>\n",
       "      <td id=\"T_807bc_row1_col4\" class=\"data row1 col4\" >Some-college</td>\n",
       "      <td id=\"T_807bc_row1_col5\" class=\"data row1 col5\" >10th</td>\n",
       "    </tr>\n",
       "    <tr>\n",
       "      <th id=\"T_807bc_level0_row2\" class=\"row_heading level0 row2\" >marital-status</th>\n",
       "      <td id=\"T_807bc_row2_col0\" class=\"data row2 col0\" >Divorced</td>\n",
       "      <td id=\"T_807bc_row2_col1\" class=\"data row2 col1\" >Divorced</td>\n",
       "      <td id=\"T_807bc_row2_col2\" class=\"data row2 col2\" >Married-civ-spouse</td>\n",
       "      <td id=\"T_807bc_row2_col3\" class=\"data row2 col3\" >Married-civ-spouse</td>\n",
       "      <td id=\"T_807bc_row2_col4\" class=\"data row2 col4\" >Married-civ-spouse</td>\n",
       "      <td id=\"T_807bc_row2_col5\" class=\"data row2 col5\" >Widowed</td>\n",
       "    </tr>\n",
       "    <tr>\n",
       "      <th id=\"T_807bc_level0_row3\" class=\"row_heading level0 row3\" >occupation</th>\n",
       "      <td id=\"T_807bc_row3_col0\" class=\"data row3 col0\" >Other-service</td>\n",
       "      <td id=\"T_807bc_row3_col1\" class=\"data row3 col1\" >Other-service</td>\n",
       "      <td id=\"T_807bc_row3_col2\" class=\"data row3 col2\" >Other-service</td>\n",
       "      <td id=\"T_807bc_row3_col3\" class=\"data row3 col3\" >Other-service</td>\n",
       "      <td id=\"T_807bc_row3_col4\" class=\"data row3 col4\" >Exec-managerial</td>\n",
       "      <td id=\"T_807bc_row3_col5\" class=\"data row3 col5\" >Other-service</td>\n",
       "    </tr>\n",
       "    <tr>\n",
       "      <th id=\"T_807bc_level0_row4\" class=\"row_heading level0 row4\" >relationship</th>\n",
       "      <td id=\"T_807bc_row4_col0\" class=\"data row4 col0\" >Unmarried</td>\n",
       "      <td id=\"T_807bc_row4_col1\" class=\"data row4 col1\" >Unmarried</td>\n",
       "      <td id=\"T_807bc_row4_col2\" class=\"data row4 col2\" >Unmarried</td>\n",
       "      <td id=\"T_807bc_row4_col3\" class=\"data row4 col3\" >Unmarried</td>\n",
       "      <td id=\"T_807bc_row4_col4\" class=\"data row4 col4\" >Husband</td>\n",
       "      <td id=\"T_807bc_row4_col5\" class=\"data row4 col5\" >Unmarried</td>\n",
       "    </tr>\n",
       "    <tr>\n",
       "      <th id=\"T_807bc_level0_row5\" class=\"row_heading level0 row5\" >race</th>\n",
       "      <td id=\"T_807bc_row5_col0\" class=\"data row5 col0\" >White</td>\n",
       "      <td id=\"T_807bc_row5_col1\" class=\"data row5 col1\" >White</td>\n",
       "      <td id=\"T_807bc_row5_col2\" class=\"data row5 col2\" >White</td>\n",
       "      <td id=\"T_807bc_row5_col3\" class=\"data row5 col3\" >White</td>\n",
       "      <td id=\"T_807bc_row5_col4\" class=\"data row5 col4\" >White</td>\n",
       "      <td id=\"T_807bc_row5_col5\" class=\"data row5 col5\" >White</td>\n",
       "    </tr>\n",
       "    <tr>\n",
       "      <th id=\"T_807bc_level0_row6\" class=\"row_heading level0 row6\" >gender</th>\n",
       "      <td id=\"T_807bc_row6_col0\" class=\"data row6 col0\" >Male</td>\n",
       "      <td id=\"T_807bc_row6_col1\" class=\"data row6 col1\" >Male</td>\n",
       "      <td id=\"T_807bc_row6_col2\" class=\"data row6 col2\" >Male</td>\n",
       "      <td id=\"T_807bc_row6_col3\" class=\"data row6 col3\" >Male</td>\n",
       "      <td id=\"T_807bc_row6_col4\" class=\"data row6 col4\" >Male</td>\n",
       "      <td id=\"T_807bc_row6_col5\" class=\"data row6 col5\" >Male</td>\n",
       "    </tr>\n",
       "    <tr>\n",
       "      <th id=\"T_807bc_level0_row7\" class=\"row_heading level0 row7\" >native-country</th>\n",
       "      <td id=\"T_807bc_row7_col0\" class=\"data row7 col0\" >United-States</td>\n",
       "      <td id=\"T_807bc_row7_col1\" class=\"data row7 col1\" >United-States</td>\n",
       "      <td id=\"T_807bc_row7_col2\" class=\"data row7 col2\" >United-States</td>\n",
       "      <td id=\"T_807bc_row7_col3\" class=\"data row7 col3\" >United-States</td>\n",
       "      <td id=\"T_807bc_row7_col4\" class=\"data row7 col4\" >United-States</td>\n",
       "      <td id=\"T_807bc_row7_col5\" class=\"data row7 col5\" >United-States</td>\n",
       "    </tr>\n",
       "    <tr>\n",
       "      <th id=\"T_807bc_level0_row8\" class=\"row_heading level0 row8\" >capital-gain</th>\n",
       "      <td id=\"T_807bc_row8_col0\" class=\"data row8 col0\" >0</td>\n",
       "      <td id=\"T_807bc_row8_col1\" class=\"data row8 col1\" >15024</td>\n",
       "      <td id=\"T_807bc_row8_col2\" class=\"data row8 col2\" >0</td>\n",
       "      <td id=\"T_807bc_row8_col3\" class=\"data row8 col3\" >2072</td>\n",
       "      <td id=\"T_807bc_row8_col4\" class=\"data row8 col4\" >0</td>\n",
       "      <td id=\"T_807bc_row8_col5\" class=\"data row8 col5\" >4495</td>\n",
       "    </tr>\n",
       "    <tr>\n",
       "      <th id=\"T_807bc_level0_row9\" class=\"row_heading level0 row9\" >capital-loss</th>\n",
       "      <td id=\"T_807bc_row9_col0\" class=\"data row9 col0\" >0</td>\n",
       "      <td id=\"T_807bc_row9_col1\" class=\"data row9 col1\" >0</td>\n",
       "      <td id=\"T_807bc_row9_col2\" class=\"data row9 col2\" >0</td>\n",
       "      <td id=\"T_807bc_row9_col3\" class=\"data row9 col3\" >113</td>\n",
       "      <td id=\"T_807bc_row9_col4\" class=\"data row9 col4\" >0</td>\n",
       "      <td id=\"T_807bc_row9_col5\" class=\"data row9 col5\" >0</td>\n",
       "    </tr>\n",
       "    <tr>\n",
       "      <th id=\"T_807bc_level0_row10\" class=\"row_heading level0 row10\" >hours-per-week</th>\n",
       "      <td id=\"T_807bc_row10_col0\" class=\"data row10 col0\" >40</td>\n",
       "      <td id=\"T_807bc_row10_col1\" class=\"data row10 col1\" >40</td>\n",
       "      <td id=\"T_807bc_row10_col2\" class=\"data row10 col2\" >45</td>\n",
       "      <td id=\"T_807bc_row10_col3\" class=\"data row10 col3\" >40</td>\n",
       "      <td id=\"T_807bc_row10_col4\" class=\"data row10 col4\" >40</td>\n",
       "      <td id=\"T_807bc_row10_col5\" class=\"data row10 col5\" >40</td>\n",
       "    </tr>\n",
       "    <tr>\n",
       "      <th id=\"T_807bc_level0_row11\" class=\"row_heading level0 row11\" >age</th>\n",
       "      <td id=\"T_807bc_row11_col0\" class=\"data row11 col0\" >28</td>\n",
       "      <td id=\"T_807bc_row11_col1\" class=\"data row11 col1\" >28</td>\n",
       "      <td id=\"T_807bc_row11_col2\" class=\"data row11 col2\" >38</td>\n",
       "      <td id=\"T_807bc_row11_col3\" class=\"data row11 col3\" >28</td>\n",
       "      <td id=\"T_807bc_row11_col4\" class=\"data row11 col4\" >52</td>\n",
       "      <td id=\"T_807bc_row11_col5\" class=\"data row11 col5\" >28</td>\n",
       "    </tr>\n",
       "    <tr>\n",
       "      <th id=\"T_807bc_level0_row12\" class=\"row_heading level0 row12\" >label</th>\n",
       "      <td id=\"T_807bc_row12_col0\" class=\"data row12 col0\" >0</td>\n",
       "      <td id=\"T_807bc_row12_col1\" class=\"data row12 col1\" >1</td>\n",
       "      <td id=\"T_807bc_row12_col2\" class=\"data row12 col2\" >1</td>\n",
       "      <td id=\"T_807bc_row12_col3\" class=\"data row12 col3\" >1</td>\n",
       "      <td id=\"T_807bc_row12_col4\" class=\"data row12 col4\" >1</td>\n",
       "      <td id=\"T_807bc_row12_col5\" class=\"data row12 col5\" >1</td>\n",
       "    </tr>\n",
       "  </tbody>\n",
       "</table>\n"
      ],
      "text/plain": [
       "<pandas.io.formats.style.Styler at 0x7f8fbae479a0>"
      ]
     },
     "metadata": {},
     "output_type": "display_data"
    }
   ],
   "source": [
    "display_tabular_cfs([cfs, baseline_cfs, cf_proto_cf], model, x, scaler, encoder, cols, f'results/{dataset}_sample')"
   ]
  },
  {
   "cell_type": "markdown",
   "id": "dcb3d996-c737-493f-b0ba-b222b76a108c",
   "metadata": {},
   "source": [
    "# Comparison"
   ]
  },
  {
   "cell_type": "code",
   "execution_count": 5,
   "id": "c8fac489-8c83-4f27-9614-d00d9388d939",
   "metadata": {},
   "outputs": [
    {
     "name": "stderr",
     "output_type": "stream",
     "text": [
      "  0%|          | 0/50 [00:00<?, ?it/s]No encoder specified. Using k-d trees to represent class prototypes.\n",
      "  2%|▏         | 1/50 [00:53<43:35, 53.39s/it]No encoder specified. Using k-d trees to represent class prototypes.\n",
      "  4%|▍         | 2/50 [01:41<40:17, 50.37s/it]No encoder specified. Using k-d trees to represent class prototypes.\n",
      "  6%|▌         | 3/50 [02:31<39:26, 50.35s/it]No encoder specified. Using k-d trees to represent class prototypes.\n",
      "  8%|▊         | 4/50 [03:10<35:09, 45.87s/it]No encoder specified. Using k-d trees to represent class prototypes.\n",
      " 10%|█         | 5/50 [03:46<31:36, 42.15s/it]No encoder specified. Using k-d trees to represent class prototypes.\n",
      " 12%|█▏        | 6/50 [04:21<29:06, 39.69s/it]No encoder specified. Using k-d trees to represent class prototypes.\n",
      " 14%|█▍        | 7/50 [04:57<27:36, 38.53s/it]No encoder specified. Using k-d trees to represent class prototypes.\n",
      " 16%|█▌        | 8/50 [05:33<26:27, 37.80s/it]No encoder specified. Using k-d trees to represent class prototypes.\n",
      " 18%|█▊        | 9/50 [06:28<29:26, 43.08s/it]No encoder specified. Using k-d trees to represent class prototypes.\n",
      " 20%|██        | 10/50 [07:06<27:45, 41.64s/it]No encoder specified. Using k-d trees to represent class prototypes.\n",
      " 22%|██▏       | 11/50 [07:47<26:51, 41.32s/it]No encoder specified. Using k-d trees to represent class prototypes.\n",
      " 24%|██▍       | 12/50 [08:28<26:04, 41.17s/it]No encoder specified. Using k-d trees to represent class prototypes.\n",
      " 26%|██▌       | 13/50 [09:21<27:41, 44.89s/it]No encoder specified. Using k-d trees to represent class prototypes.\n",
      " 28%|██▊       | 14/50 [10:19<29:17, 48.82s/it]No encoder specified. Using k-d trees to represent class prototypes.\n",
      " 30%|███       | 15/50 [11:06<28:06, 48.20s/it]No encoder specified. Using k-d trees to represent class prototypes.\n",
      " 32%|███▏      | 16/50 [11:47<26:06, 46.07s/it]No encoder specified. Using k-d trees to represent class prototypes.\n",
      " 34%|███▍      | 17/50 [12:40<26:26, 48.07s/it]No encoder specified. Using k-d trees to represent class prototypes.\n",
      " 36%|███▌      | 18/50 [13:34<26:37, 49.93s/it]No encoder specified. Using k-d trees to represent class prototypes.\n",
      " 38%|███▊      | 19/50 [14:22<25:30, 49.39s/it]No encoder specified. Using k-d trees to represent class prototypes.\n",
      " 40%|████      | 20/50 [15:10<24:22, 48.76s/it]No encoder specified. Using k-d trees to represent class prototypes.\n",
      " 42%|████▏     | 21/50 [16:00<23:46, 49.20s/it]No encoder specified. Using k-d trees to represent class prototypes.\n",
      " 44%|████▍     | 22/50 [16:36<21:11, 45.43s/it]No encoder specified. Using k-d trees to represent class prototypes.\n",
      " 46%|████▌     | 23/50 [17:15<19:31, 43.38s/it]No encoder specified. Using k-d trees to represent class prototypes.\n",
      " 48%|████▊     | 24/50 [17:53<18:03, 41.66s/it]No encoder specified. Using k-d trees to represent class prototypes.\n",
      " 50%|█████     | 25/50 [18:33<17:11, 41.27s/it]No encoder specified. Using k-d trees to represent class prototypes.\n",
      " 52%|█████▏    | 26/50 [19:16<16:41, 41.73s/it]No encoder specified. Using k-d trees to represent class prototypes.\n",
      " 54%|█████▍    | 27/50 [19:56<15:46, 41.17s/it]No encoder specified. Using k-d trees to represent class prototypes.\n",
      " 56%|█████▌    | 28/50 [20:46<16:03, 43.81s/it]No encoder specified. Using k-d trees to represent class prototypes.\n",
      " 58%|█████▊    | 29/50 [21:40<16:23, 46.85s/it]No encoder specified. Using k-d trees to represent class prototypes.\n",
      " 60%|██████    | 30/50 [22:27<15:38, 46.94s/it]No encoder specified. Using k-d trees to represent class prototypes.\n",
      " 62%|██████▏   | 31/50 [23:15<15:01, 47.46s/it]No encoder specified. Using k-d trees to represent class prototypes.\n",
      " 64%|██████▍   | 32/50 [24:03<14:15, 47.51s/it]No encoder specified. Using k-d trees to represent class prototypes.\n",
      " 66%|██████▌   | 33/50 [24:49<13:18, 46.97s/it]No encoder specified. Using k-d trees to represent class prototypes.\n",
      " 68%|██████▊   | 34/50 [25:36<12:35, 47.19s/it]No encoder specified. Using k-d trees to represent class prototypes.\n",
      " 70%|███████   | 35/50 [26:23<11:44, 47.00s/it]No encoder specified. Using k-d trees to represent class prototypes.\n",
      " 72%|███████▏  | 36/50 [27:11<11:02, 47.30s/it]No encoder specified. Using k-d trees to represent class prototypes.\n",
      " 74%|███████▍  | 37/50 [27:57<10:11, 47.00s/it]No encoder specified. Using k-d trees to represent class prototypes.\n",
      " 76%|███████▌  | 38/50 [28:44<09:22, 46.90s/it]No encoder specified. Using k-d trees to represent class prototypes.\n",
      " 78%|███████▊  | 39/50 [29:28<08:25, 45.99s/it]No encoder specified. Using k-d trees to represent class prototypes.\n",
      " 80%|████████  | 40/50 [30:15<07:42, 46.26s/it]No encoder specified. Using k-d trees to represent class prototypes.\n",
      " 82%|████████▏ | 41/50 [31:03<07:01, 46.87s/it]No encoder specified. Using k-d trees to represent class prototypes.\n",
      " 84%|████████▍ | 42/50 [31:52<06:20, 47.56s/it]No encoder specified. Using k-d trees to represent class prototypes.\n",
      " 86%|████████▌ | 43/50 [32:38<05:28, 46.99s/it]No encoder specified. Using k-d trees to represent class prototypes.\n",
      " 88%|████████▊ | 44/50 [33:25<04:42, 47.02s/it]No encoder specified. Using k-d trees to represent class prototypes.\n",
      " 90%|█████████ | 45/50 [34:13<03:56, 47.34s/it]No encoder specified. Using k-d trees to represent class prototypes.\n",
      " 92%|█████████▏| 46/50 [35:01<03:09, 47.43s/it]No encoder specified. Using k-d trees to represent class prototypes.\n",
      " 94%|█████████▍| 47/50 [35:48<02:22, 47.41s/it]No encoder specified. Using k-d trees to represent class prototypes.\n",
      " 96%|█████████▌| 48/50 [36:35<01:34, 47.32s/it]No encoder specified. Using k-d trees to represent class prototypes.\n",
      " 98%|█████████▊| 49/50 [37:22<00:47, 47.31s/it]No encoder specified. Using k-d trees to represent class prototypes.\n",
      "100%|██████████| 50/50 [38:09<00:00, 45.80s/it]\n"
     ]
    }
   ],
   "source": [
    "from tqdm import tqdm \n",
    "\n",
    "times = []\n",
    "sparsity = []\n",
    "success_rate = []\n",
    "in_distribution = []\n",
    "\n",
    "from sklearn.svm import OneClassSVM\n",
    "ood_detector = OneClassSVM()\n",
    "ood_detector.fit(X_test)\n",
    "\n",
    "for test_id in tqdm(range(50)):\n",
    "    start = time.perf_counter()\n",
    "    cfs, x, desired_class = get_simplex_cf_tabular(simplex, model, test_id, encoder, n_cfs = 1)\n",
    "    end = time.perf_counter()\n",
    "    \n",
    "    start_b = time.perf_counter()\n",
    "    baseline_cfs = get_baseline_counterfactuals(model = model, target = desired_class, test = x, \\\n",
    "                                            corpus = X_corpus)\n",
    "    end_b = time.perf_counter()\n",
    "    \n",
    "    start_c = time.perf_counter()\n",
    "    cf_proto_cf = get_cfproto_cf(X_corpus, model, x)\n",
    "    end_c = time.perf_counter()\n",
    "    \n",
    "    times.append([end - start, end_b - start_b, end_c - start_c])\n",
    "    sparsity.append([(cfs[0] != x).sum(), (baseline_cfs[0] != x).sum(), (cf_proto_cf[0] != x).sum()])\n",
    "    success_rate.append([cfs is not None, baseline_cfs is not None, cf_proto_cf is not None])\n",
    "    in_distribution.append([ood_detector.score_samples(cfs).mean(),ood_detector.score_samples(baseline_cfs).mean(), ood_detector.score_samples(cf_proto_cf).mean()])"
   ]
  },
  {
   "cell_type": "code",
   "execution_count": 10,
   "id": "9a96010a-f51c-4159-8a7c-f9280ae42da3",
   "metadata": {},
   "outputs": [],
   "source": [
    "pd.DataFrame(times, columns  = ['simplex', 'nn', 'cfproto']).describe().to_csv(f'results/{dataset}_times.csv')\n",
    "pd.DataFrame(sparsity, columns  = ['simplex', 'nn', 'cfproto']).applymap(int).describe().to_csv(f'results/{dataset}_sparsity.csv')\n",
    "pd.DataFrame(success_rate, columns  = ['simplex', 'nn', 'cfproto']).applymap(int).describe().to_csv(f'results/{dataset}_success_rate.csv')\n",
    "pd.DataFrame(in_distribution, columns  = ['simplex', 'nn', 'cfproto']).describe().to_csv(f'results/{dataset}_in_distribution.csv')"
   ]
  },
  {
   "cell_type": "markdown",
   "id": "2e45cc13",
   "metadata": {},
   "source": [
    "w_c, x_c, proj_jacobian_c = cfs_results[0][0][0] # i is what counterfactual, j is the results of that counterfactaul, k is the explanation base on corpus in i,j"
   ]
  },
  {
   "cell_type": "code",
   "execution_count": 7,
   "id": "226cf851",
   "metadata": {},
   "outputs": [],
   "source": [
    "test_id = 1\n",
    "cfs_masked, x, desired_class = get_simplex_cf_tabular(simplex, model, test_id, encoder, mask = torch.Tensor([1, 1, 1, 1, 1, 0, 1, 1, 1, 1, 1, 0]))"
   ]
  },
  {
   "cell_type": "code",
   "execution_count": 8,
   "id": "3fc8f129",
   "metadata": {},
   "outputs": [
    {
     "data": {
      "text/html": [
       "<style type=\"text/css\">\n",
       "#T_86ead_row0_col0, #T_86ead_row0_col1, #T_86ead_row1_col0, #T_86ead_row1_col1, #T_86ead_row2_col0, #T_86ead_row2_col1, #T_86ead_row3_col0, #T_86ead_row3_col1, #T_86ead_row4_col0, #T_86ead_row4_col1, #T_86ead_row5_col0, #T_86ead_row5_col1, #T_86ead_row6_col0, #T_86ead_row6_col1, #T_86ead_row7_col0, #T_86ead_row7_col1, #T_86ead_row8_col0, #T_86ead_row9_col0, #T_86ead_row9_col1, #T_86ead_row10_col0, #T_86ead_row10_col1, #T_86ead_row11_col0, #T_86ead_row11_col1, #T_86ead_row12_col0 {\n",
       "  color: ;\n",
       "}\n",
       "#T_86ead_row8_col1, #T_86ead_row12_col1 {\n",
       "  color: red;\n",
       "}\n",
       "</style>\n",
       "<table id=\"T_86ead\">\n",
       "  <thead>\n",
       "    <tr>\n",
       "      <th class=\"blank level0\" >&nbsp;</th>\n",
       "      <th id=\"T_86ead_level0_col0\" class=\"col_heading level0 col0\" >original</th>\n",
       "      <th id=\"T_86ead_level0_col1\" class=\"col_heading level0 col1\" >SimplexCF_counterfactual_1</th>\n",
       "    </tr>\n",
       "  </thead>\n",
       "  <tbody>\n",
       "    <tr>\n",
       "      <th id=\"T_86ead_level0_row0\" class=\"row_heading level0 row0\" >workclass</th>\n",
       "      <td id=\"T_86ead_row0_col0\" class=\"data row0 col0\" >State-gov</td>\n",
       "      <td id=\"T_86ead_row0_col1\" class=\"data row0 col1\" >State-gov</td>\n",
       "    </tr>\n",
       "    <tr>\n",
       "      <th id=\"T_86ead_level0_row1\" class=\"row_heading level0 row1\" >education</th>\n",
       "      <td id=\"T_86ead_row1_col0\" class=\"data row1 col0\" >Some-college</td>\n",
       "      <td id=\"T_86ead_row1_col1\" class=\"data row1 col1\" >Some-college</td>\n",
       "    </tr>\n",
       "    <tr>\n",
       "      <th id=\"T_86ead_level0_row2\" class=\"row_heading level0 row2\" >marital-status</th>\n",
       "      <td id=\"T_86ead_row2_col0\" class=\"data row2 col0\" >Divorced</td>\n",
       "      <td id=\"T_86ead_row2_col1\" class=\"data row2 col1\" >Divorced</td>\n",
       "    </tr>\n",
       "    <tr>\n",
       "      <th id=\"T_86ead_level0_row3\" class=\"row_heading level0 row3\" >occupation</th>\n",
       "      <td id=\"T_86ead_row3_col0\" class=\"data row3 col0\" >Other-service</td>\n",
       "      <td id=\"T_86ead_row3_col1\" class=\"data row3 col1\" >Other-service</td>\n",
       "    </tr>\n",
       "    <tr>\n",
       "      <th id=\"T_86ead_level0_row4\" class=\"row_heading level0 row4\" >relationship</th>\n",
       "      <td id=\"T_86ead_row4_col0\" class=\"data row4 col0\" >Unmarried</td>\n",
       "      <td id=\"T_86ead_row4_col1\" class=\"data row4 col1\" >Unmarried</td>\n",
       "    </tr>\n",
       "    <tr>\n",
       "      <th id=\"T_86ead_level0_row5\" class=\"row_heading level0 row5\" >race</th>\n",
       "      <td id=\"T_86ead_row5_col0\" class=\"data row5 col0\" >White</td>\n",
       "      <td id=\"T_86ead_row5_col1\" class=\"data row5 col1\" >White</td>\n",
       "    </tr>\n",
       "    <tr>\n",
       "      <th id=\"T_86ead_level0_row6\" class=\"row_heading level0 row6\" >gender</th>\n",
       "      <td id=\"T_86ead_row6_col0\" class=\"data row6 col0\" >Male</td>\n",
       "      <td id=\"T_86ead_row6_col1\" class=\"data row6 col1\" >Male</td>\n",
       "    </tr>\n",
       "    <tr>\n",
       "      <th id=\"T_86ead_level0_row7\" class=\"row_heading level0 row7\" >native-country</th>\n",
       "      <td id=\"T_86ead_row7_col0\" class=\"data row7 col0\" >United-States</td>\n",
       "      <td id=\"T_86ead_row7_col1\" class=\"data row7 col1\" >United-States</td>\n",
       "    </tr>\n",
       "    <tr>\n",
       "      <th id=\"T_86ead_level0_row8\" class=\"row_heading level0 row8\" >capital-gain</th>\n",
       "      <td id=\"T_86ead_row8_col0\" class=\"data row8 col0\" >0</td>\n",
       "      <td id=\"T_86ead_row8_col1\" class=\"data row8 col1\" >15024</td>\n",
       "    </tr>\n",
       "    <tr>\n",
       "      <th id=\"T_86ead_level0_row9\" class=\"row_heading level0 row9\" >capital-loss</th>\n",
       "      <td id=\"T_86ead_row9_col0\" class=\"data row9 col0\" >0</td>\n",
       "      <td id=\"T_86ead_row9_col1\" class=\"data row9 col1\" >0</td>\n",
       "    </tr>\n",
       "    <tr>\n",
       "      <th id=\"T_86ead_level0_row10\" class=\"row_heading level0 row10\" >hours-per-week</th>\n",
       "      <td id=\"T_86ead_row10_col0\" class=\"data row10 col0\" >40</td>\n",
       "      <td id=\"T_86ead_row10_col1\" class=\"data row10 col1\" >40</td>\n",
       "    </tr>\n",
       "    <tr>\n",
       "      <th id=\"T_86ead_level0_row11\" class=\"row_heading level0 row11\" >age</th>\n",
       "      <td id=\"T_86ead_row11_col0\" class=\"data row11 col0\" >28</td>\n",
       "      <td id=\"T_86ead_row11_col1\" class=\"data row11 col1\" >28</td>\n",
       "    </tr>\n",
       "    <tr>\n",
       "      <th id=\"T_86ead_level0_row12\" class=\"row_heading level0 row12\" >label</th>\n",
       "      <td id=\"T_86ead_row12_col0\" class=\"data row12 col0\" >0</td>\n",
       "      <td id=\"T_86ead_row12_col1\" class=\"data row12 col1\" >1</td>\n",
       "    </tr>\n",
       "  </tbody>\n",
       "</table>\n"
      ],
      "text/plain": [
       "<pandas.io.formats.style.Styler at 0x7f8ff998b880>"
      ]
     },
     "metadata": {},
     "output_type": "display_data"
    }
   ],
   "source": [
    "display_tabular_cfs([cfs_masked, [], []], model, x, scaler, encoder, cols, f'results/{dataset}_masked')"
   ]
  },
  {
   "cell_type": "code",
   "execution_count": 13,
   "id": "885746cf",
   "metadata": {},
   "outputs": [
    {
     "data": {
      "text/plain": [
       "45.59427465845603"
      ]
     },
     "execution_count": 13,
     "metadata": {},
     "output_type": "execute_result"
    }
   ],
   "source": [
    "ood_detector.score_samples(X_test).mean()"
   ]
  },
  {
   "cell_type": "code",
   "execution_count": null,
   "id": "298d6a2d",
   "metadata": {},
   "outputs": [],
   "source": []
  }
 ],
 "metadata": {
  "kernelspec": {
   "display_name": "molformer",
   "language": "python",
   "name": "molformer"
  },
  "language_info": {
   "codemirror_mode": {
    "name": "ipython",
    "version": 3
   },
   "file_extension": ".py",
   "mimetype": "text/x-python",
   "name": "python",
   "nbconvert_exporter": "python",
   "pygments_lexer": "ipython3",
   "version": "3.10.6 (main, Oct 24 2022, 11:04:34) [Clang 12.0.0 ]"
  }
 },
 "nbformat": 4,
 "nbformat_minor": 5
}
