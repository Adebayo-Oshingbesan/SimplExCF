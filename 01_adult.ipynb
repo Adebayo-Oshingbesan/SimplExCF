{
 "cells": [
  {
   "cell_type": "code",
   "execution_count": 1,
   "id": "668b6156-7fed-4856-afea-0111b61733e8",
   "metadata": {
    "tags": []
   },
   "outputs": [
    {
     "name": "stderr",
     "output_type": "stream",
     "text": [
      "2022-11-13 16:18:34.932729: I tensorflow/core/platform/cpu_feature_guard.cc:193] This TensorFlow binary is optimized with oneAPI Deep Neural Network Library (oneDNN) to use the following CPU instructions in performance-critical operations:  AVX2 FMA\n",
      "To enable them in other operations, rebuild TensorFlow with the appropriate compiler flags.\n"
     ]
    },
    {
     "data": {
      "text/plain": [
       "TabularModel(\n",
       "  (lin1): Linear(in_features=12, out_features=200, bias=True)\n",
       "  (lin2): Linear(in_features=200, out_features=50, bias=True)\n",
       "  (lin3): Linear(in_features=50, out_features=2, bias=True)\n",
       "  (bn1): BatchNorm1d(4, eps=1e-05, momentum=0.1, affine=True, track_running_stats=True)\n",
       "  (drops): Dropout(p=0.3, inplace=False)\n",
       ")"
      ]
     },
     "execution_count": 1,
     "metadata": {},
     "output_type": "execute_result"
    }
   ],
   "source": [
    "from util import *\n",
    "\n",
    "from src.dataset import load_adult\n",
    "from src.counterfactual import get_baseline_counterfactuals\n",
    "\n",
    "import joblib\n",
    "import time\n",
    "\n",
    "import warnings\n",
    "warnings.filterwarnings('ignore')\n",
    "                        \n",
    "# Get a model\n",
    "model, encoder, scaler = joblib.load('models/adult.gz') # Model should have the BlackBox interface\n",
    "model"
   ]
  },
  {
   "cell_type": "code",
   "execution_count": 2,
   "id": "4330d911-2504-49de-8566-6c99ffa21469",
   "metadata": {},
   "outputs": [
    {
     "name": "stdout",
     "output_type": "stream",
     "text": [
      "Weight Fitting Epoch: 2000/10000 ; Error: 6.72 ; Regulator: 39.9 ; Reg Factor: 1\n",
      "Weight Fitting Epoch: 4000/10000 ; Error: 2.12 ; Regulator: 5.96 ; Reg Factor: 1\n",
      "Weight Fitting Epoch: 6000/10000 ; Error: 1.36 ; Regulator: 1.63 ; Reg Factor: 1\n",
      "Weight Fitting Epoch: 8000/10000 ; Error: 1.15 ; Regulator: 0.544 ; Reg Factor: 1\n",
      "Weight Fitting Epoch: 10000/10000 ; Error: 1.08 ; Regulator: 0.197 ; Reg Factor: 1\n"
     ]
    }
   ],
   "source": [
    "loader = iter(load_adult(100, train=False))\n",
    "X_corpus, _ = next(loader)\n",
    "X_test, _ = next(loader)\n",
    "\n",
    "simplex = get_simplex(model, X_corpus, X_test, verbose = True)"
   ]
  },
  {
   "cell_type": "code",
   "execution_count": 3,
   "id": "8d91357d-2011-47df-ba10-8043e40864ba",
   "metadata": {},
   "outputs": [
    {
     "name": "stdout",
     "output_type": "stream",
     "text": [
      "CPU times: user 477 ms, sys: 6.08 ms, total: 483 ms\n",
      "Wall time: 60.5 ms\n"
     ]
    }
   ],
   "source": [
    "%%time\n",
    "test_id = 10\n",
    "\n",
    "cfs, x, desired_class = get_simplex_cf_tabular(simplex, model, test_id, encoder)"
   ]
  },
  {
   "cell_type": "code",
   "execution_count": 4,
   "id": "a41943a9-0547-4b62-afc1-9830b8a748ab",
   "metadata": {},
   "outputs": [
    {
     "name": "stdout",
     "output_type": "stream",
     "text": [
      "Original: \n"
     ]
    },
    {
     "data": {
      "text/html": [
       "<div>\n",
       "<style scoped>\n",
       "    .dataframe tbody tr th:only-of-type {\n",
       "        vertical-align: middle;\n",
       "    }\n",
       "\n",
       "    .dataframe tbody tr th {\n",
       "        vertical-align: top;\n",
       "    }\n",
       "\n",
       "    .dataframe thead th {\n",
       "        text-align: right;\n",
       "    }\n",
       "</style>\n",
       "<table border=\"1\" class=\"dataframe\">\n",
       "  <thead>\n",
       "    <tr style=\"text-align: right;\">\n",
       "      <th></th>\n",
       "      <th>workclass</th>\n",
       "      <th>education</th>\n",
       "      <th>marital-status</th>\n",
       "      <th>occupation</th>\n",
       "      <th>relationship</th>\n",
       "      <th>race</th>\n",
       "      <th>gender</th>\n",
       "      <th>native-country</th>\n",
       "      <th>capital-gain</th>\n",
       "      <th>capital-loss</th>\n",
       "      <th>hours-per-week</th>\n",
       "      <th>age</th>\n",
       "    </tr>\n",
       "  </thead>\n",
       "  <tbody>\n",
       "    <tr>\n",
       "      <th>0</th>\n",
       "      <td>Private</td>\n",
       "      <td>12th</td>\n",
       "      <td>Divorced</td>\n",
       "      <td>Machine-op-inspct</td>\n",
       "      <td>Not-in-family</td>\n",
       "      <td>Black</td>\n",
       "      <td>Female</td>\n",
       "      <td>United-States</td>\n",
       "      <td>0</td>\n",
       "      <td>0</td>\n",
       "      <td>40</td>\n",
       "      <td>41</td>\n",
       "    </tr>\n",
       "  </tbody>\n",
       "</table>\n",
       "</div>"
      ],
      "text/plain": [
       "  workclass education marital-status         occupation   relationship   race  \\\n",
       "0   Private      12th       Divorced  Machine-op-inspct  Not-in-family  Black   \n",
       "\n",
       "   gender native-country  capital-gain  capital-loss  hours-per-week  age  \n",
       "0  Female  United-States             0             0              40   41  "
      ]
     },
     "metadata": {},
     "output_type": "display_data"
    },
    {
     "name": "stdout",
     "output_type": "stream",
     "text": [
      "\n",
      "Kept counterfactual generation: \n"
     ]
    },
    {
     "data": {
      "text/html": [
       "<style type=\"text/css\">\n",
       "#T_1e934_row0_col0, #T_1e934_row0_col1, #T_1e934_row0_col3, #T_1e934_row0_col4, #T_1e934_row0_col5, #T_1e934_row0_col7, #T_1e934_row0_col9, #T_1e934_row0_col10 {\n",
       "  background-color: ;\n",
       "}\n",
       "#T_1e934_row0_col2, #T_1e934_row0_col6, #T_1e934_row0_col8, #T_1e934_row0_col11 {\n",
       "  background-color: green;\n",
       "}\n",
       "</style>\n",
       "<table id=\"T_1e934\">\n",
       "  <thead>\n",
       "    <tr>\n",
       "      <th class=\"blank level0\" >&nbsp;</th>\n",
       "      <th id=\"T_1e934_level0_col0\" class=\"col_heading level0 col0\" >workclass</th>\n",
       "      <th id=\"T_1e934_level0_col1\" class=\"col_heading level0 col1\" >education</th>\n",
       "      <th id=\"T_1e934_level0_col2\" class=\"col_heading level0 col2\" >marital-status</th>\n",
       "      <th id=\"T_1e934_level0_col3\" class=\"col_heading level0 col3\" >occupation</th>\n",
       "      <th id=\"T_1e934_level0_col4\" class=\"col_heading level0 col4\" >relationship</th>\n",
       "      <th id=\"T_1e934_level0_col5\" class=\"col_heading level0 col5\" >race</th>\n",
       "      <th id=\"T_1e934_level0_col6\" class=\"col_heading level0 col6\" >gender</th>\n",
       "      <th id=\"T_1e934_level0_col7\" class=\"col_heading level0 col7\" >native-country</th>\n",
       "      <th id=\"T_1e934_level0_col8\" class=\"col_heading level0 col8\" >capital-gain</th>\n",
       "      <th id=\"T_1e934_level0_col9\" class=\"col_heading level0 col9\" >capital-loss</th>\n",
       "      <th id=\"T_1e934_level0_col10\" class=\"col_heading level0 col10\" >hours-per-week</th>\n",
       "      <th id=\"T_1e934_level0_col11\" class=\"col_heading level0 col11\" >age</th>\n",
       "    </tr>\n",
       "  </thead>\n",
       "  <tbody>\n",
       "    <tr>\n",
       "      <th id=\"T_1e934_level0_row0\" class=\"row_heading level0 row0\" >0</th>\n",
       "      <td id=\"T_1e934_row0_col0\" class=\"data row0 col0\" >Private</td>\n",
       "      <td id=\"T_1e934_row0_col1\" class=\"data row0 col1\" >12th</td>\n",
       "      <td id=\"T_1e934_row0_col2\" class=\"data row0 col2\" >Married-civ-spouse</td>\n",
       "      <td id=\"T_1e934_row0_col3\" class=\"data row0 col3\" >Machine-op-inspct</td>\n",
       "      <td id=\"T_1e934_row0_col4\" class=\"data row0 col4\" >Not-in-family</td>\n",
       "      <td id=\"T_1e934_row0_col5\" class=\"data row0 col5\" >Black</td>\n",
       "      <td id=\"T_1e934_row0_col6\" class=\"data row0 col6\" >Male</td>\n",
       "      <td id=\"T_1e934_row0_col7\" class=\"data row0 col7\" >United-States</td>\n",
       "      <td id=\"T_1e934_row0_col8\" class=\"data row0 col8\" >15024</td>\n",
       "      <td id=\"T_1e934_row0_col9\" class=\"data row0 col9\" >0</td>\n",
       "      <td id=\"T_1e934_row0_col10\" class=\"data row0 col10\" >40</td>\n",
       "      <td id=\"T_1e934_row0_col11\" class=\"data row0 col11\" >54</td>\n",
       "    </tr>\n",
       "  </tbody>\n",
       "</table>\n"
      ],
      "text/plain": [
       "<pandas.io.formats.style.Styler at 0x7fba7014b640>"
      ]
     },
     "metadata": {},
     "output_type": "display_data"
    },
    {
     "name": "stdout",
     "output_type": "stream",
     "text": [
      "\n",
      "Predicted:  tensor(1)  ||  Desired:  tensor(1)  ||  Orginal:  tensor(0)\n",
      "************************************************************************************************************************\n",
      "Kept counterfactual generation: \n"
     ]
    },
    {
     "data": {
      "text/html": [
       "<style type=\"text/css\">\n",
       "#T_30b24_row0_col0, #T_30b24_row0_col2, #T_30b24_row0_col3, #T_30b24_row0_col5, #T_30b24_row0_col6, #T_30b24_row0_col7 {\n",
       "  background-color: green;\n",
       "}\n",
       "#T_30b24_row0_col1, #T_30b24_row0_col4, #T_30b24_row0_col8, #T_30b24_row0_col9, #T_30b24_row0_col10, #T_30b24_row0_col11 {\n",
       "  background-color: ;\n",
       "}\n",
       "</style>\n",
       "<table id=\"T_30b24\">\n",
       "  <thead>\n",
       "    <tr>\n",
       "      <th class=\"blank level0\" >&nbsp;</th>\n",
       "      <th id=\"T_30b24_level0_col0\" class=\"col_heading level0 col0\" >workclass</th>\n",
       "      <th id=\"T_30b24_level0_col1\" class=\"col_heading level0 col1\" >education</th>\n",
       "      <th id=\"T_30b24_level0_col2\" class=\"col_heading level0 col2\" >marital-status</th>\n",
       "      <th id=\"T_30b24_level0_col3\" class=\"col_heading level0 col3\" >occupation</th>\n",
       "      <th id=\"T_30b24_level0_col4\" class=\"col_heading level0 col4\" >relationship</th>\n",
       "      <th id=\"T_30b24_level0_col5\" class=\"col_heading level0 col5\" >race</th>\n",
       "      <th id=\"T_30b24_level0_col6\" class=\"col_heading level0 col6\" >gender</th>\n",
       "      <th id=\"T_30b24_level0_col7\" class=\"col_heading level0 col7\" >native-country</th>\n",
       "      <th id=\"T_30b24_level0_col8\" class=\"col_heading level0 col8\" >capital-gain</th>\n",
       "      <th id=\"T_30b24_level0_col9\" class=\"col_heading level0 col9\" >capital-loss</th>\n",
       "      <th id=\"T_30b24_level0_col10\" class=\"col_heading level0 col10\" >hours-per-week</th>\n",
       "      <th id=\"T_30b24_level0_col11\" class=\"col_heading level0 col11\" >age</th>\n",
       "    </tr>\n",
       "  </thead>\n",
       "  <tbody>\n",
       "    <tr>\n",
       "      <th id=\"T_30b24_level0_row0\" class=\"row_heading level0 row0\" >0</th>\n",
       "      <td id=\"T_30b24_row0_col0\" class=\"data row0 col0\" >Federal-gov</td>\n",
       "      <td id=\"T_30b24_row0_col1\" class=\"data row0 col1\" >12th</td>\n",
       "      <td id=\"T_30b24_row0_col2\" class=\"data row0 col2\" >Married-civ-spouse</td>\n",
       "      <td id=\"T_30b24_row0_col3\" class=\"data row0 col3\" >Exec-managerial</td>\n",
       "      <td id=\"T_30b24_row0_col4\" class=\"data row0 col4\" >Not-in-family</td>\n",
       "      <td id=\"T_30b24_row0_col5\" class=\"data row0 col5\" >White</td>\n",
       "      <td id=\"T_30b24_row0_col6\" class=\"data row0 col6\" >Male</td>\n",
       "      <td id=\"T_30b24_row0_col7\" class=\"data row0 col7\" >Portugal</td>\n",
       "      <td id=\"T_30b24_row0_col8\" class=\"data row0 col8\" >0</td>\n",
       "      <td id=\"T_30b24_row0_col9\" class=\"data row0 col9\" >0</td>\n",
       "      <td id=\"T_30b24_row0_col10\" class=\"data row0 col10\" >40</td>\n",
       "      <td id=\"T_30b24_row0_col11\" class=\"data row0 col11\" >41</td>\n",
       "    </tr>\n",
       "  </tbody>\n",
       "</table>\n"
      ],
      "text/plain": [
       "<pandas.io.formats.style.Styler at 0x7fba7014a080>"
      ]
     },
     "metadata": {},
     "output_type": "display_data"
    },
    {
     "name": "stdout",
     "output_type": "stream",
     "text": [
      "\n",
      "Predicted:  tensor(1)  ||  Desired:  tensor(1)  ||  Orginal:  tensor(0)\n",
      "************************************************************************************************************************\n",
      "Kept counterfactual generation: \n"
     ]
    },
    {
     "data": {
      "text/html": [
       "<style type=\"text/css\">\n",
       "#T_02101_row0_col0, #T_02101_row0_col7, #T_02101_row0_col8, #T_02101_row0_col9, #T_02101_row0_col11 {\n",
       "  background-color: ;\n",
       "}\n",
       "#T_02101_row0_col1, #T_02101_row0_col2, #T_02101_row0_col3, #T_02101_row0_col4, #T_02101_row0_col5, #T_02101_row0_col6, #T_02101_row0_col10 {\n",
       "  background-color: green;\n",
       "}\n",
       "</style>\n",
       "<table id=\"T_02101\">\n",
       "  <thead>\n",
       "    <tr>\n",
       "      <th class=\"blank level0\" >&nbsp;</th>\n",
       "      <th id=\"T_02101_level0_col0\" class=\"col_heading level0 col0\" >workclass</th>\n",
       "      <th id=\"T_02101_level0_col1\" class=\"col_heading level0 col1\" >education</th>\n",
       "      <th id=\"T_02101_level0_col2\" class=\"col_heading level0 col2\" >marital-status</th>\n",
       "      <th id=\"T_02101_level0_col3\" class=\"col_heading level0 col3\" >occupation</th>\n",
       "      <th id=\"T_02101_level0_col4\" class=\"col_heading level0 col4\" >relationship</th>\n",
       "      <th id=\"T_02101_level0_col5\" class=\"col_heading level0 col5\" >race</th>\n",
       "      <th id=\"T_02101_level0_col6\" class=\"col_heading level0 col6\" >gender</th>\n",
       "      <th id=\"T_02101_level0_col7\" class=\"col_heading level0 col7\" >native-country</th>\n",
       "      <th id=\"T_02101_level0_col8\" class=\"col_heading level0 col8\" >capital-gain</th>\n",
       "      <th id=\"T_02101_level0_col9\" class=\"col_heading level0 col9\" >capital-loss</th>\n",
       "      <th id=\"T_02101_level0_col10\" class=\"col_heading level0 col10\" >hours-per-week</th>\n",
       "      <th id=\"T_02101_level0_col11\" class=\"col_heading level0 col11\" >age</th>\n",
       "    </tr>\n",
       "  </thead>\n",
       "  <tbody>\n",
       "    <tr>\n",
       "      <th id=\"T_02101_level0_row0\" class=\"row_heading level0 row0\" >0</th>\n",
       "      <td id=\"T_02101_row0_col0\" class=\"data row0 col0\" >Private</td>\n",
       "      <td id=\"T_02101_row0_col1\" class=\"data row0 col1\" >10th</td>\n",
       "      <td id=\"T_02101_row0_col2\" class=\"data row0 col2\" >Married-civ-spouse</td>\n",
       "      <td id=\"T_02101_row0_col3\" class=\"data row0 col3\" >Craft-repair</td>\n",
       "      <td id=\"T_02101_row0_col4\" class=\"data row0 col4\" >Husband</td>\n",
       "      <td id=\"T_02101_row0_col5\" class=\"data row0 col5\" >White</td>\n",
       "      <td id=\"T_02101_row0_col6\" class=\"data row0 col6\" >Male</td>\n",
       "      <td id=\"T_02101_row0_col7\" class=\"data row0 col7\" >United-States</td>\n",
       "      <td id=\"T_02101_row0_col8\" class=\"data row0 col8\" >0</td>\n",
       "      <td id=\"T_02101_row0_col9\" class=\"data row0 col9\" >0</td>\n",
       "      <td id=\"T_02101_row0_col10\" class=\"data row0 col10\" >48</td>\n",
       "      <td id=\"T_02101_row0_col11\" class=\"data row0 col11\" >41</td>\n",
       "    </tr>\n",
       "  </tbody>\n",
       "</table>\n"
      ],
      "text/plain": [
       "<pandas.io.formats.style.Styler at 0x7fba7014b640>"
      ]
     },
     "metadata": {},
     "output_type": "display_data"
    },
    {
     "name": "stdout",
     "output_type": "stream",
     "text": [
      "\n",
      "Predicted:  tensor(1)  ||  Desired:  tensor(1)  ||  Orginal:  tensor(0)\n",
      "************************************************************************************************************************\n",
      "Kept counterfactual generation: \n"
     ]
    },
    {
     "data": {
      "text/html": [
       "<style type=\"text/css\">\n",
       "#T_45faa_row0_col0, #T_45faa_row0_col7, #T_45faa_row0_col8, #T_45faa_row0_col9 {\n",
       "  background-color: ;\n",
       "}\n",
       "#T_45faa_row0_col1, #T_45faa_row0_col2, #T_45faa_row0_col3, #T_45faa_row0_col4, #T_45faa_row0_col5, #T_45faa_row0_col6, #T_45faa_row0_col10, #T_45faa_row0_col11 {\n",
       "  background-color: green;\n",
       "}\n",
       "</style>\n",
       "<table id=\"T_45faa\">\n",
       "  <thead>\n",
       "    <tr>\n",
       "      <th class=\"blank level0\" >&nbsp;</th>\n",
       "      <th id=\"T_45faa_level0_col0\" class=\"col_heading level0 col0\" >workclass</th>\n",
       "      <th id=\"T_45faa_level0_col1\" class=\"col_heading level0 col1\" >education</th>\n",
       "      <th id=\"T_45faa_level0_col2\" class=\"col_heading level0 col2\" >marital-status</th>\n",
       "      <th id=\"T_45faa_level0_col3\" class=\"col_heading level0 col3\" >occupation</th>\n",
       "      <th id=\"T_45faa_level0_col4\" class=\"col_heading level0 col4\" >relationship</th>\n",
       "      <th id=\"T_45faa_level0_col5\" class=\"col_heading level0 col5\" >race</th>\n",
       "      <th id=\"T_45faa_level0_col6\" class=\"col_heading level0 col6\" >gender</th>\n",
       "      <th id=\"T_45faa_level0_col7\" class=\"col_heading level0 col7\" >native-country</th>\n",
       "      <th id=\"T_45faa_level0_col8\" class=\"col_heading level0 col8\" >capital-gain</th>\n",
       "      <th id=\"T_45faa_level0_col9\" class=\"col_heading level0 col9\" >capital-loss</th>\n",
       "      <th id=\"T_45faa_level0_col10\" class=\"col_heading level0 col10\" >hours-per-week</th>\n",
       "      <th id=\"T_45faa_level0_col11\" class=\"col_heading level0 col11\" >age</th>\n",
       "    </tr>\n",
       "  </thead>\n",
       "  <tbody>\n",
       "    <tr>\n",
       "      <th id=\"T_45faa_level0_row0\" class=\"row_heading level0 row0\" >0</th>\n",
       "      <td id=\"T_45faa_row0_col0\" class=\"data row0 col0\" >Private</td>\n",
       "      <td id=\"T_45faa_row0_col1\" class=\"data row0 col1\" >Bachelors</td>\n",
       "      <td id=\"T_45faa_row0_col2\" class=\"data row0 col2\" >Married-civ-spouse</td>\n",
       "      <td id=\"T_45faa_row0_col3\" class=\"data row0 col3\" >Prof-specialty</td>\n",
       "      <td id=\"T_45faa_row0_col4\" class=\"data row0 col4\" >Husband</td>\n",
       "      <td id=\"T_45faa_row0_col5\" class=\"data row0 col5\" >White</td>\n",
       "      <td id=\"T_45faa_row0_col6\" class=\"data row0 col6\" >Male</td>\n",
       "      <td id=\"T_45faa_row0_col7\" class=\"data row0 col7\" >United-States</td>\n",
       "      <td id=\"T_45faa_row0_col8\" class=\"data row0 col8\" >0</td>\n",
       "      <td id=\"T_45faa_row0_col9\" class=\"data row0 col9\" >0</td>\n",
       "      <td id=\"T_45faa_row0_col10\" class=\"data row0 col10\" >45</td>\n",
       "      <td id=\"T_45faa_row0_col11\" class=\"data row0 col11\" >38</td>\n",
       "    </tr>\n",
       "  </tbody>\n",
       "</table>\n"
      ],
      "text/plain": [
       "<pandas.io.formats.style.Styler at 0x7fba7014b640>"
      ]
     },
     "metadata": {},
     "output_type": "display_data"
    },
    {
     "name": "stdout",
     "output_type": "stream",
     "text": [
      "\n",
      "Predicted:  tensor(1)  ||  Desired:  tensor(1)  ||  Orginal:  tensor(0)\n",
      "************************************************************************************************************************\n",
      "Kept counterfactual generation: \n"
     ]
    },
    {
     "data": {
      "text/html": [
       "<style type=\"text/css\">\n",
       "#T_12cec_row0_col0, #T_12cec_row0_col1, #T_12cec_row0_col2, #T_12cec_row0_col3, #T_12cec_row0_col4, #T_12cec_row0_col5, #T_12cec_row0_col6, #T_12cec_row0_col11 {\n",
       "  background-color: green;\n",
       "}\n",
       "#T_12cec_row0_col7, #T_12cec_row0_col8, #T_12cec_row0_col9, #T_12cec_row0_col10 {\n",
       "  background-color: ;\n",
       "}\n",
       "</style>\n",
       "<table id=\"T_12cec\">\n",
       "  <thead>\n",
       "    <tr>\n",
       "      <th class=\"blank level0\" >&nbsp;</th>\n",
       "      <th id=\"T_12cec_level0_col0\" class=\"col_heading level0 col0\" >workclass</th>\n",
       "      <th id=\"T_12cec_level0_col1\" class=\"col_heading level0 col1\" >education</th>\n",
       "      <th id=\"T_12cec_level0_col2\" class=\"col_heading level0 col2\" >marital-status</th>\n",
       "      <th id=\"T_12cec_level0_col3\" class=\"col_heading level0 col3\" >occupation</th>\n",
       "      <th id=\"T_12cec_level0_col4\" class=\"col_heading level0 col4\" >relationship</th>\n",
       "      <th id=\"T_12cec_level0_col5\" class=\"col_heading level0 col5\" >race</th>\n",
       "      <th id=\"T_12cec_level0_col6\" class=\"col_heading level0 col6\" >gender</th>\n",
       "      <th id=\"T_12cec_level0_col7\" class=\"col_heading level0 col7\" >native-country</th>\n",
       "      <th id=\"T_12cec_level0_col8\" class=\"col_heading level0 col8\" >capital-gain</th>\n",
       "      <th id=\"T_12cec_level0_col9\" class=\"col_heading level0 col9\" >capital-loss</th>\n",
       "      <th id=\"T_12cec_level0_col10\" class=\"col_heading level0 col10\" >hours-per-week</th>\n",
       "      <th id=\"T_12cec_level0_col11\" class=\"col_heading level0 col11\" >age</th>\n",
       "    </tr>\n",
       "  </thead>\n",
       "  <tbody>\n",
       "    <tr>\n",
       "      <th id=\"T_12cec_level0_row0\" class=\"row_heading level0 row0\" >0</th>\n",
       "      <td id=\"T_12cec_row0_col0\" class=\"data row0 col0\" >Local-gov</td>\n",
       "      <td id=\"T_12cec_row0_col1\" class=\"data row0 col1\" >Some-college</td>\n",
       "      <td id=\"T_12cec_row0_col2\" class=\"data row0 col2\" >Married-civ-spouse</td>\n",
       "      <td id=\"T_12cec_row0_col3\" class=\"data row0 col3\" >Exec-managerial</td>\n",
       "      <td id=\"T_12cec_row0_col4\" class=\"data row0 col4\" >Husband</td>\n",
       "      <td id=\"T_12cec_row0_col5\" class=\"data row0 col5\" >White</td>\n",
       "      <td id=\"T_12cec_row0_col6\" class=\"data row0 col6\" >Male</td>\n",
       "      <td id=\"T_12cec_row0_col7\" class=\"data row0 col7\" >United-States</td>\n",
       "      <td id=\"T_12cec_row0_col8\" class=\"data row0 col8\" >0</td>\n",
       "      <td id=\"T_12cec_row0_col9\" class=\"data row0 col9\" >0</td>\n",
       "      <td id=\"T_12cec_row0_col10\" class=\"data row0 col10\" >40</td>\n",
       "      <td id=\"T_12cec_row0_col11\" class=\"data row0 col11\" >52</td>\n",
       "    </tr>\n",
       "  </tbody>\n",
       "</table>\n"
      ],
      "text/plain": [
       "<pandas.io.formats.style.Styler at 0x7fba7014b640>"
      ]
     },
     "metadata": {},
     "output_type": "display_data"
    },
    {
     "name": "stdout",
     "output_type": "stream",
     "text": [
      "\n",
      "Predicted:  tensor(1)  ||  Desired:  tensor(1)  ||  Orginal:  tensor(0)\n",
      "************************************************************************************************************************\n"
     ]
    }
   ],
   "source": [
    "cols = ['workclass', 'education', 'marital-status', 'occupation', \\\n",
    "       'relationship', 'race', 'gender', 'native-country', 'capital-gain', \\\n",
    "       'capital-loss', 'hours-per-week', 'age']\n",
    "\n",
    "x = simplex.test_examples[test_id:test_id+1]\n",
    "display_tabular_cfs(cfs, model, x, desired_class, scaler, encoder, cols)"
   ]
  },
  {
   "cell_type": "code",
   "execution_count": null,
   "id": "dd0f75a0-c992-4490-be33-f81c0c493981",
   "metadata": {},
   "outputs": [],
   "source": []
  },
  {
   "cell_type": "code",
   "execution_count": 5,
   "id": "ef85de68-7df4-4b6e-9e2d-8151cea3ad9c",
   "metadata": {},
   "outputs": [
    {
     "name": "stdout",
     "output_type": "stream",
     "text": [
      "Original: \n"
     ]
    },
    {
     "data": {
      "text/html": [
       "<div>\n",
       "<style scoped>\n",
       "    .dataframe tbody tr th:only-of-type {\n",
       "        vertical-align: middle;\n",
       "    }\n",
       "\n",
       "    .dataframe tbody tr th {\n",
       "        vertical-align: top;\n",
       "    }\n",
       "\n",
       "    .dataframe thead th {\n",
       "        text-align: right;\n",
       "    }\n",
       "</style>\n",
       "<table border=\"1\" class=\"dataframe\">\n",
       "  <thead>\n",
       "    <tr style=\"text-align: right;\">\n",
       "      <th></th>\n",
       "      <th>workclass</th>\n",
       "      <th>education</th>\n",
       "      <th>marital-status</th>\n",
       "      <th>occupation</th>\n",
       "      <th>relationship</th>\n",
       "      <th>race</th>\n",
       "      <th>gender</th>\n",
       "      <th>native-country</th>\n",
       "      <th>capital-gain</th>\n",
       "      <th>capital-loss</th>\n",
       "      <th>hours-per-week</th>\n",
       "      <th>age</th>\n",
       "    </tr>\n",
       "  </thead>\n",
       "  <tbody>\n",
       "    <tr>\n",
       "      <th>0</th>\n",
       "      <td>Private</td>\n",
       "      <td>12th</td>\n",
       "      <td>Divorced</td>\n",
       "      <td>Machine-op-inspct</td>\n",
       "      <td>Not-in-family</td>\n",
       "      <td>Black</td>\n",
       "      <td>Female</td>\n",
       "      <td>United-States</td>\n",
       "      <td>0</td>\n",
       "      <td>0</td>\n",
       "      <td>40</td>\n",
       "      <td>41</td>\n",
       "    </tr>\n",
       "  </tbody>\n",
       "</table>\n",
       "</div>"
      ],
      "text/plain": [
       "  workclass education marital-status         occupation   relationship   race  \\\n",
       "0   Private      12th       Divorced  Machine-op-inspct  Not-in-family  Black   \n",
       "\n",
       "   gender native-country  capital-gain  capital-loss  hours-per-week  age  \n",
       "0  Female  United-States             0             0              40   41  "
      ]
     },
     "metadata": {},
     "output_type": "display_data"
    },
    {
     "name": "stdout",
     "output_type": "stream",
     "text": [
      "\n",
      "Kept counterfactual generation: \n"
     ]
    },
    {
     "data": {
      "text/html": [
       "<style type=\"text/css\">\n",
       "#T_31578_row0_col0, #T_31578_row0_col1, #T_31578_row0_col2, #T_31578_row0_col3, #T_31578_row0_col4, #T_31578_row0_col5, #T_31578_row0_col6, #T_31578_row0_col11 {\n",
       "  background-color: green;\n",
       "}\n",
       "#T_31578_row0_col7, #T_31578_row0_col8, #T_31578_row0_col9, #T_31578_row0_col10 {\n",
       "  background-color: ;\n",
       "}\n",
       "</style>\n",
       "<table id=\"T_31578\">\n",
       "  <thead>\n",
       "    <tr>\n",
       "      <th class=\"blank level0\" >&nbsp;</th>\n",
       "      <th id=\"T_31578_level0_col0\" class=\"col_heading level0 col0\" >workclass</th>\n",
       "      <th id=\"T_31578_level0_col1\" class=\"col_heading level0 col1\" >education</th>\n",
       "      <th id=\"T_31578_level0_col2\" class=\"col_heading level0 col2\" >marital-status</th>\n",
       "      <th id=\"T_31578_level0_col3\" class=\"col_heading level0 col3\" >occupation</th>\n",
       "      <th id=\"T_31578_level0_col4\" class=\"col_heading level0 col4\" >relationship</th>\n",
       "      <th id=\"T_31578_level0_col5\" class=\"col_heading level0 col5\" >race</th>\n",
       "      <th id=\"T_31578_level0_col6\" class=\"col_heading level0 col6\" >gender</th>\n",
       "      <th id=\"T_31578_level0_col7\" class=\"col_heading level0 col7\" >native-country</th>\n",
       "      <th id=\"T_31578_level0_col8\" class=\"col_heading level0 col8\" >capital-gain</th>\n",
       "      <th id=\"T_31578_level0_col9\" class=\"col_heading level0 col9\" >capital-loss</th>\n",
       "      <th id=\"T_31578_level0_col10\" class=\"col_heading level0 col10\" >hours-per-week</th>\n",
       "      <th id=\"T_31578_level0_col11\" class=\"col_heading level0 col11\" >age</th>\n",
       "    </tr>\n",
       "  </thead>\n",
       "  <tbody>\n",
       "    <tr>\n",
       "      <th id=\"T_31578_level0_row0\" class=\"row_heading level0 row0\" >0</th>\n",
       "      <td id=\"T_31578_row0_col0\" class=\"data row0 col0\" >Local-gov</td>\n",
       "      <td id=\"T_31578_row0_col1\" class=\"data row0 col1\" >Some-college</td>\n",
       "      <td id=\"T_31578_row0_col2\" class=\"data row0 col2\" >Married-civ-spouse</td>\n",
       "      <td id=\"T_31578_row0_col3\" class=\"data row0 col3\" >Exec-managerial</td>\n",
       "      <td id=\"T_31578_row0_col4\" class=\"data row0 col4\" >Husband</td>\n",
       "      <td id=\"T_31578_row0_col5\" class=\"data row0 col5\" >White</td>\n",
       "      <td id=\"T_31578_row0_col6\" class=\"data row0 col6\" >Male</td>\n",
       "      <td id=\"T_31578_row0_col7\" class=\"data row0 col7\" >United-States</td>\n",
       "      <td id=\"T_31578_row0_col8\" class=\"data row0 col8\" >0</td>\n",
       "      <td id=\"T_31578_row0_col9\" class=\"data row0 col9\" >0</td>\n",
       "      <td id=\"T_31578_row0_col10\" class=\"data row0 col10\" >40</td>\n",
       "      <td id=\"T_31578_row0_col11\" class=\"data row0 col11\" >52</td>\n",
       "    </tr>\n",
       "  </tbody>\n",
       "</table>\n"
      ],
      "text/plain": [
       "<pandas.io.formats.style.Styler at 0x7fba712f2230>"
      ]
     },
     "metadata": {},
     "output_type": "display_data"
    },
    {
     "name": "stdout",
     "output_type": "stream",
     "text": [
      "\n",
      "Predicted:  tensor(1)  ||  Desired:  tensor(1)  ||  Orginal:  tensor(0)\n",
      "************************************************************************************************************************\n"
     ]
    }
   ],
   "source": [
    "baseline_cfs = get_baseline_counterfactuals(model = model, target = desired_class, test = x, \\\n",
    "                                            corpus = X_corpus)\n",
    "\n",
    "display_tabular_cfs(baseline_cfs, model, x, desired_class, scaler, encoder, cols)"
   ]
  },
  {
   "cell_type": "code",
   "execution_count": null,
   "id": "7f055942-2c70-48d2-a436-eeba54a92d19",
   "metadata": {},
   "outputs": [],
   "source": []
  },
  {
   "cell_type": "code",
   "execution_count": 6,
   "id": "7eadbd38-2f11-42d5-b42e-5f4ab5e5ee77",
   "metadata": {},
   "outputs": [
    {
     "name": "stdout",
     "output_type": "stream",
     "text": [
      "WARNING:tensorflow:From /Users/adebayooshingbesan/opt/anaconda3/envs/molformer/lib/python3.10/site-packages/alibi/explainers/cfproto.py:123: The name tf.keras.backend.get_session is deprecated. Please use tf.compat.v1.keras.backend.get_session instead.\n",
      "\n"
     ]
    },
    {
     "name": "stderr",
     "output_type": "stream",
     "text": [
      "2022-11-13 16:18:52.335878: I tensorflow/core/platform/cpu_feature_guard.cc:193] This TensorFlow binary is optimized with oneAPI Deep Neural Network Library (oneDNN) to use the following CPU instructions in performance-critical operations:  AVX2 FMA\n",
      "To enable them in other operations, rebuild TensorFlow with the appropriate compiler flags.\n",
      "No encoder specified. Using k-d trees to represent class prototypes.\n",
      "2022-11-13 16:18:52.458721: I tensorflow/compiler/mlir/mlir_graph_optimization_pass.cc:354] MLIR V1 optimization pass is not enabled\n"
     ]
    },
    {
     "name": "stdout",
     "output_type": "stream",
     "text": [
      "Original: \n"
     ]
    },
    {
     "data": {
      "text/html": [
       "<div>\n",
       "<style scoped>\n",
       "    .dataframe tbody tr th:only-of-type {\n",
       "        vertical-align: middle;\n",
       "    }\n",
       "\n",
       "    .dataframe tbody tr th {\n",
       "        vertical-align: top;\n",
       "    }\n",
       "\n",
       "    .dataframe thead th {\n",
       "        text-align: right;\n",
       "    }\n",
       "</style>\n",
       "<table border=\"1\" class=\"dataframe\">\n",
       "  <thead>\n",
       "    <tr style=\"text-align: right;\">\n",
       "      <th></th>\n",
       "      <th>workclass</th>\n",
       "      <th>education</th>\n",
       "      <th>marital-status</th>\n",
       "      <th>occupation</th>\n",
       "      <th>relationship</th>\n",
       "      <th>race</th>\n",
       "      <th>gender</th>\n",
       "      <th>native-country</th>\n",
       "      <th>capital-gain</th>\n",
       "      <th>capital-loss</th>\n",
       "      <th>hours-per-week</th>\n",
       "      <th>age</th>\n",
       "    </tr>\n",
       "  </thead>\n",
       "  <tbody>\n",
       "    <tr>\n",
       "      <th>0</th>\n",
       "      <td>Private</td>\n",
       "      <td>12th</td>\n",
       "      <td>Divorced</td>\n",
       "      <td>Machine-op-inspct</td>\n",
       "      <td>Not-in-family</td>\n",
       "      <td>Black</td>\n",
       "      <td>Female</td>\n",
       "      <td>United-States</td>\n",
       "      <td>0</td>\n",
       "      <td>0</td>\n",
       "      <td>40</td>\n",
       "      <td>41</td>\n",
       "    </tr>\n",
       "  </tbody>\n",
       "</table>\n",
       "</div>"
      ],
      "text/plain": [
       "  workclass education marital-status         occupation   relationship   race  \\\n",
       "0   Private      12th       Divorced  Machine-op-inspct  Not-in-family  Black   \n",
       "\n",
       "   gender native-country  capital-gain  capital-loss  hours-per-week  age  \n",
       "0  Female  United-States             0             0              40   41  "
      ]
     },
     "metadata": {},
     "output_type": "display_data"
    },
    {
     "name": "stdout",
     "output_type": "stream",
     "text": [
      "\n",
      "Kept counterfactual generation: \n"
     ]
    },
    {
     "data": {
      "text/html": [
       "<style type=\"text/css\">\n",
       "#T_a8e1d_row0_col0, #T_a8e1d_row0_col1, #T_a8e1d_row0_col4, #T_a8e1d_row0_col5, #T_a8e1d_row0_col6, #T_a8e1d_row0_col7, #T_a8e1d_row0_col9, #T_a8e1d_row0_col11 {\n",
       "  background-color: ;\n",
       "}\n",
       "#T_a8e1d_row0_col2, #T_a8e1d_row0_col3, #T_a8e1d_row0_col8, #T_a8e1d_row0_col10 {\n",
       "  background-color: green;\n",
       "}\n",
       "</style>\n",
       "<table id=\"T_a8e1d\">\n",
       "  <thead>\n",
       "    <tr>\n",
       "      <th class=\"blank level0\" >&nbsp;</th>\n",
       "      <th id=\"T_a8e1d_level0_col0\" class=\"col_heading level0 col0\" >workclass</th>\n",
       "      <th id=\"T_a8e1d_level0_col1\" class=\"col_heading level0 col1\" >education</th>\n",
       "      <th id=\"T_a8e1d_level0_col2\" class=\"col_heading level0 col2\" >marital-status</th>\n",
       "      <th id=\"T_a8e1d_level0_col3\" class=\"col_heading level0 col3\" >occupation</th>\n",
       "      <th id=\"T_a8e1d_level0_col4\" class=\"col_heading level0 col4\" >relationship</th>\n",
       "      <th id=\"T_a8e1d_level0_col5\" class=\"col_heading level0 col5\" >race</th>\n",
       "      <th id=\"T_a8e1d_level0_col6\" class=\"col_heading level0 col6\" >gender</th>\n",
       "      <th id=\"T_a8e1d_level0_col7\" class=\"col_heading level0 col7\" >native-country</th>\n",
       "      <th id=\"T_a8e1d_level0_col8\" class=\"col_heading level0 col8\" >capital-gain</th>\n",
       "      <th id=\"T_a8e1d_level0_col9\" class=\"col_heading level0 col9\" >capital-loss</th>\n",
       "      <th id=\"T_a8e1d_level0_col10\" class=\"col_heading level0 col10\" >hours-per-week</th>\n",
       "      <th id=\"T_a8e1d_level0_col11\" class=\"col_heading level0 col11\" >age</th>\n",
       "    </tr>\n",
       "  </thead>\n",
       "  <tbody>\n",
       "    <tr>\n",
       "      <th id=\"T_a8e1d_level0_row0\" class=\"row_heading level0 row0\" >0</th>\n",
       "      <td id=\"T_a8e1d_row0_col0\" class=\"data row0 col0\" >Private</td>\n",
       "      <td id=\"T_a8e1d_row0_col1\" class=\"data row0 col1\" >12th</td>\n",
       "      <td id=\"T_a8e1d_row0_col2\" class=\"data row0 col2\" >Married-civ-spouse</td>\n",
       "      <td id=\"T_a8e1d_row0_col3\" class=\"data row0 col3\" >Farming-fishing</td>\n",
       "      <td id=\"T_a8e1d_row0_col4\" class=\"data row0 col4\" >Not-in-family</td>\n",
       "      <td id=\"T_a8e1d_row0_col5\" class=\"data row0 col5\" >Black</td>\n",
       "      <td id=\"T_a8e1d_row0_col6\" class=\"data row0 col6\" >Female</td>\n",
       "      <td id=\"T_a8e1d_row0_col7\" class=\"data row0 col7\" >United-States</td>\n",
       "      <td id=\"T_a8e1d_row0_col8\" class=\"data row0 col8\" >14121</td>\n",
       "      <td id=\"T_a8e1d_row0_col9\" class=\"data row0 col9\" >0</td>\n",
       "      <td id=\"T_a8e1d_row0_col10\" class=\"data row0 col10\" >43</td>\n",
       "      <td id=\"T_a8e1d_row0_col11\" class=\"data row0 col11\" >41</td>\n",
       "    </tr>\n",
       "  </tbody>\n",
       "</table>\n"
      ],
      "text/plain": [
       "<pandas.io.formats.style.Styler at 0x7fba817b7940>"
      ]
     },
     "metadata": {},
     "output_type": "display_data"
    },
    {
     "name": "stdout",
     "output_type": "stream",
     "text": [
      "\n",
      "Predicted:  tensor(1)  ||  Desired:  tensor(1)  ||  Orginal:  tensor(0)\n",
      "************************************************************************************************************************\n",
      "CPU times: user 4min 27s, sys: 8.83 s, total: 4min 36s\n",
      "Wall time: 34.7 s\n"
     ]
    }
   ],
   "source": [
    "%%time\n",
    "cf_proto_cf = get_cfproto_cf(X_corpus, model, x)\n",
    "display_tabular_cfs(cf_proto_cf, model, x, desired_class, scaler, encoder, cols)"
   ]
  },
  {
   "cell_type": "code",
   "execution_count": null,
   "id": "5aa68cfb-a41b-4f11-a4c1-5a6be90dd8b4",
   "metadata": {},
   "outputs": [],
   "source": []
  },
  {
   "cell_type": "markdown",
   "id": "dcb3d996-c737-493f-b0ba-b222b76a108c",
   "metadata": {},
   "source": [
    "# Comparison"
   ]
  },
  {
   "cell_type": "code",
   "execution_count": 7,
   "id": "c8fac489-8c83-4f27-9614-d00d9388d939",
   "metadata": {},
   "outputs": [
    {
     "name": "stderr",
     "output_type": "stream",
     "text": [
      "  0%|                                                    | 0/20 [00:00<?, ?it/s]No encoder specified. Using k-d trees to represent class prototypes.\n",
      "  5%|██▏                                         | 1/20 [00:34<10:48, 34.14s/it]No encoder specified. Using k-d trees to represent class prototypes.\n",
      " 10%|████▍                                       | 2/20 [01:08<10:14, 34.14s/it]No encoder specified. Using k-d trees to represent class prototypes.\n",
      " 15%|██████▌                                     | 3/20 [01:41<09:32, 33.68s/it]No encoder specified. Using k-d trees to represent class prototypes.\n",
      " 20%|████████▊                                   | 4/20 [02:15<09:04, 34.00s/it]No encoder specified. Using k-d trees to represent class prototypes.\n",
      " 25%|███████████                                 | 5/20 [02:50<08:34, 34.30s/it]No encoder specified. Using k-d trees to represent class prototypes.\n",
      " 30%|█████████████▏                              | 6/20 [03:25<08:03, 34.50s/it]No encoder specified. Using k-d trees to represent class prototypes.\n",
      " 35%|███████████████▍                            | 7/20 [04:00<07:30, 34.69s/it]No encoder specified. Using k-d trees to represent class prototypes.\n",
      " 40%|█████████████████▌                          | 8/20 [04:34<06:54, 34.53s/it]No encoder specified. Using k-d trees to represent class prototypes.\n",
      " 45%|███████████████████▊                        | 9/20 [05:09<06:19, 34.53s/it]No encoder specified. Using k-d trees to represent class prototypes.\n",
      " 50%|█████████████████████▌                     | 10/20 [05:43<05:43, 34.33s/it]No encoder specified. Using k-d trees to represent class prototypes.\n",
      " 55%|███████████████████████▋                   | 11/20 [06:17<05:07, 34.18s/it]No encoder specified. Using k-d trees to represent class prototypes.\n",
      " 60%|█████████████████████████▊                 | 12/20 [06:52<04:35, 34.43s/it]No encoder specified. Using k-d trees to represent class prototypes.\n",
      " 65%|███████████████████████████▉               | 13/20 [07:26<04:01, 34.49s/it]No encoder specified. Using k-d trees to represent class prototypes.\n",
      " 70%|██████████████████████████████             | 14/20 [08:02<03:29, 34.90s/it]No encoder specified. Using k-d trees to represent class prototypes.\n",
      " 75%|████████████████████████████████▎          | 15/20 [08:36<02:53, 34.72s/it]No encoder specified. Using k-d trees to represent class prototypes.\n",
      " 80%|██████████████████████████████████▍        | 16/20 [09:25<02:35, 38.95s/it]No encoder specified. Using k-d trees to represent class prototypes.\n",
      " 85%|████████████████████████████████████▌      | 17/20 [10:17<02:08, 42.77s/it]No encoder specified. Using k-d trees to represent class prototypes.\n",
      " 90%|██████████████████████████████████████▋    | 18/20 [11:10<01:31, 45.89s/it]No encoder specified. Using k-d trees to represent class prototypes.\n",
      " 95%|████████████████████████████████████████▊  | 19/20 [11:47<00:43, 43.23s/it]No encoder specified. Using k-d trees to represent class prototypes.\n",
      "100%|███████████████████████████████████████████| 20/20 [12:41<00:00, 38.08s/it]\n"
     ]
    }
   ],
   "source": [
    "from tqdm import tqdm \n",
    "\n",
    "times = []\n",
    "sparsity = []\n",
    "\n",
    "for test_id in tqdm(range(20)):\n",
    "    start = time.time()\n",
    "    cfs, x, desired_class = get_simplex_cf_tabular(simplex, model, test_id, encoder)\n",
    "    end = time.time()\n",
    "    \n",
    "    start_b = time.time()\n",
    "    baseline_cfs = get_baseline_counterfactuals(model = model, target = desired_class, test = x, \\\n",
    "                                            corpus = X_corpus)\n",
    "    end_b = time.time()\n",
    "    \n",
    "    start_c = time.time()\n",
    "    cf_proto_cf = get_cfproto_cf(X_corpus, model, x)\n",
    "    end_c = time.time()\n",
    "    \n",
    "    times.append([end - start, end_b - start_b, end_c - start_c])\n",
    "    sparsity.append([(cfs[0] != x).sum(), (baseline_cfs[0] != x).sum(), (cf_proto_cf[0] != x).sum()])"
   ]
  },
  {
   "cell_type": "code",
   "execution_count": 13,
   "id": "9a96010a-f51c-4159-8a7c-f9280ae42da3",
   "metadata": {},
   "outputs": [],
   "source": [
    "pd.DataFrame(times, columns  = ['simplex', 'nn', 'cfproto']).describe().to_csv('results/adult_times.csv')"
   ]
  },
  {
   "cell_type": "code",
   "execution_count": 19,
   "id": "e80a105d-865c-412b-bff8-e6e68e8f90cd",
   "metadata": {},
   "outputs": [],
   "source": [
    "pd.DataFrame(sparsity, columns  = ['simplex', 'nn', 'cfproto']).applymap(int).describe().to_csv('results/adult_sparsity.csv')"
   ]
  },
  {
   "cell_type": "code",
   "execution_count": null,
   "id": "c7122179-465c-4456-9a6d-db7e5afd4d89",
   "metadata": {},
   "outputs": [],
   "source": []
  }
 ],
 "metadata": {
  "kernelspec": {
   "display_name": "molformer",
   "language": "python",
   "name": "molformer"
  },
  "language_info": {
   "codemirror_mode": {
    "name": "ipython",
    "version": 3
   },
   "file_extension": ".py",
   "mimetype": "text/x-python",
   "name": "python",
   "nbconvert_exporter": "python",
   "pygments_lexer": "ipython3",
   "version": "3.10.6"
  }
 },
 "nbformat": 4,
 "nbformat_minor": 5
}
