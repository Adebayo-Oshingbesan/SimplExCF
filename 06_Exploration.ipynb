{
 "cells": [
  {
   "cell_type": "code",
   "execution_count": 1,
   "id": "668b6156-7fed-4856-afea-0111b61733e8",
   "metadata": {
    "tags": []
   },
   "outputs": [
    {
     "name": "stderr",
     "output_type": "stream",
     "text": [
      "2023-02-01 22:06:15.311412: I tensorflow/core/platform/cpu_feature_guard.cc:193] This TensorFlow binary is optimized with oneAPI Deep Neural Network Library (oneDNN) to use the following CPU instructions in performance-critical operations:  AVX2 FMA\n",
      "To enable them in other operations, rebuild TensorFlow with the appropriate compiler flags.\n"
     ]
    }
   ],
   "source": [
    "from util import *\n",
    "\n",
    "from src.dataset import load_adult\n",
    "from src.counterfactual import get_baseline_counterfactuals\n",
    "\n",
    "import joblib\n",
    "import time\n",
    "\n",
    "import warnings\n",
    "warnings.filterwarnings('ignore')\n",
    "                        \n",
    "# Get a model\n",
    "dataset = 'adult'\n",
    "model, encoder, scaler = joblib.load(f'models/{dataset}.gz') # Model should have the BlackBox interface\n",
    "cols = load_columns(dataset)"
   ]
  },
  {
   "cell_type": "code",
   "execution_count": 2,
   "id": "4330d911-2504-49de-8566-6c99ffa21469",
   "metadata": {},
   "outputs": [
    {
     "name": "stdout",
     "output_type": "stream",
     "text": [
      "Weight Fitting Epoch: 2000/10000 ; Error: 100 ; Regulator: 369 ; Reg Factor: 1\n",
      "Weight Fitting Epoch: 4000/10000 ; Error: 18.7 ; Regulator: 58.4 ; Reg Factor: 1\n",
      "Weight Fitting Epoch: 6000/10000 ; Error: 8.96 ; Regulator: 12.8 ; Reg Factor: 1\n",
      "Weight Fitting Epoch: 8000/10000 ; Error: 6.91 ; Regulator: 4.38 ; Reg Factor: 1\n",
      "Weight Fitting Epoch: 10000/10000 ; Error: 6.01 ; Regulator: 1.67 ; Reg Factor: 1\n"
     ]
    }
   ],
   "source": [
    "loader = get_loader(dataset)\n",
    "X_corpus, _ = next(loader)\n",
    "X_test, _ = next(loader)\n",
    "\n",
    "simplex = get_simplex(model, X_corpus, X_test, verbose = True)"
   ]
  },
  {
   "cell_type": "code",
   "execution_count": 3,
   "id": "52c57e92",
   "metadata": {},
   "outputs": [],
   "source": [
    "def get_attributions_image(explanations, id):\n",
    "    features_df = pd.DataFrame()\n",
    "    jcb_df = pd.DataFrame()\n",
    "    for exp, ids in zip(explanations[id][0],explanations[id][1]):\n",
    "        (w, _, jcbs), corpus_id = exp, ids \n",
    "        df = inverse_transform_x(X_corpus[corpus_id].reshape(1, -1), scaler, encoder, cols).T\n",
    "        name = str(round(w, 2)) + ' x '\n",
    "        jcb_df[name] = pd.Series(jcbs)\n",
    "        features_df[name] = df\n",
    "    return features_df, jcb_df"
   ]
  },
  {
   "cell_type": "code",
   "execution_count": 14,
   "id": "f47ec698",
   "metadata": {},
   "outputs": [
    {
     "data": {
      "text/html": [
       "<style type=\"text/css\">\n",
       "#T_c4d19_row0_col0, #T_c4d19_row1_col0, #T_c4d19_row1_col1, #T_c4d19_row2_col0, #T_c4d19_row3_col0, #T_c4d19_row4_col0, #T_c4d19_row5_col0, #T_c4d19_row5_col1, #T_c4d19_row6_col0, #T_c4d19_row6_col1, #T_c4d19_row7_col0, #T_c4d19_row7_col1, #T_c4d19_row8_col0, #T_c4d19_row8_col1, #T_c4d19_row9_col0, #T_c4d19_row9_col1, #T_c4d19_row10_col0, #T_c4d19_row10_col1, #T_c4d19_row11_col0, #T_c4d19_row12_col0 {\n",
       "  color: ;\n",
       "}\n",
       "#T_c4d19_row0_col1, #T_c4d19_row2_col1, #T_c4d19_row3_col1, #T_c4d19_row4_col1, #T_c4d19_row11_col1, #T_c4d19_row12_col1 {\n",
       "  color: red;\n",
       "}\n",
       "</style>\n",
       "<table id=\"T_c4d19\">\n",
       "  <thead>\n",
       "    <tr>\n",
       "      <th class=\"blank level0\" >&nbsp;</th>\n",
       "      <th id=\"T_c4d19_level0_col0\" class=\"col_heading level0 col0\" >original</th>\n",
       "      <th id=\"T_c4d19_level0_col1\" class=\"col_heading level0 col1\" >SimplexCF_counterfactual_1</th>\n",
       "    </tr>\n",
       "  </thead>\n",
       "  <tbody>\n",
       "    <tr>\n",
       "      <th id=\"T_c4d19_level0_row0\" class=\"row_heading level0 row0\" >workclass</th>\n",
       "      <td id=\"T_c4d19_row0_col0\" class=\"data row0 col0\" >State-gov</td>\n",
       "      <td id=\"T_c4d19_row0_col1\" class=\"data row0 col1\" >Local-gov</td>\n",
       "    </tr>\n",
       "    <tr>\n",
       "      <th id=\"T_c4d19_level0_row1\" class=\"row_heading level0 row1\" >education</th>\n",
       "      <td id=\"T_c4d19_row1_col0\" class=\"data row1 col0\" >Some-college</td>\n",
       "      <td id=\"T_c4d19_row1_col1\" class=\"data row1 col1\" >Some-college</td>\n",
       "    </tr>\n",
       "    <tr>\n",
       "      <th id=\"T_c4d19_level0_row2\" class=\"row_heading level0 row2\" >marital-status</th>\n",
       "      <td id=\"T_c4d19_row2_col0\" class=\"data row2 col0\" >Divorced</td>\n",
       "      <td id=\"T_c4d19_row2_col1\" class=\"data row2 col1\" >Married-civ-spouse</td>\n",
       "    </tr>\n",
       "    <tr>\n",
       "      <th id=\"T_c4d19_level0_row3\" class=\"row_heading level0 row3\" >occupation</th>\n",
       "      <td id=\"T_c4d19_row3_col0\" class=\"data row3 col0\" >Other-service</td>\n",
       "      <td id=\"T_c4d19_row3_col1\" class=\"data row3 col1\" >Exec-managerial</td>\n",
       "    </tr>\n",
       "    <tr>\n",
       "      <th id=\"T_c4d19_level0_row4\" class=\"row_heading level0 row4\" >relationship</th>\n",
       "      <td id=\"T_c4d19_row4_col0\" class=\"data row4 col0\" >Unmarried</td>\n",
       "      <td id=\"T_c4d19_row4_col1\" class=\"data row4 col1\" >Husband</td>\n",
       "    </tr>\n",
       "    <tr>\n",
       "      <th id=\"T_c4d19_level0_row5\" class=\"row_heading level0 row5\" >race</th>\n",
       "      <td id=\"T_c4d19_row5_col0\" class=\"data row5 col0\" >White</td>\n",
       "      <td id=\"T_c4d19_row5_col1\" class=\"data row5 col1\" >White</td>\n",
       "    </tr>\n",
       "    <tr>\n",
       "      <th id=\"T_c4d19_level0_row6\" class=\"row_heading level0 row6\" >gender</th>\n",
       "      <td id=\"T_c4d19_row6_col0\" class=\"data row6 col0\" >Male</td>\n",
       "      <td id=\"T_c4d19_row6_col1\" class=\"data row6 col1\" >Male</td>\n",
       "    </tr>\n",
       "    <tr>\n",
       "      <th id=\"T_c4d19_level0_row7\" class=\"row_heading level0 row7\" >native-country</th>\n",
       "      <td id=\"T_c4d19_row7_col0\" class=\"data row7 col0\" >United-States</td>\n",
       "      <td id=\"T_c4d19_row7_col1\" class=\"data row7 col1\" >United-States</td>\n",
       "    </tr>\n",
       "    <tr>\n",
       "      <th id=\"T_c4d19_level0_row8\" class=\"row_heading level0 row8\" >capital-gain</th>\n",
       "      <td id=\"T_c4d19_row8_col0\" class=\"data row8 col0\" >0</td>\n",
       "      <td id=\"T_c4d19_row8_col1\" class=\"data row8 col1\" >0</td>\n",
       "    </tr>\n",
       "    <tr>\n",
       "      <th id=\"T_c4d19_level0_row9\" class=\"row_heading level0 row9\" >capital-loss</th>\n",
       "      <td id=\"T_c4d19_row9_col0\" class=\"data row9 col0\" >0</td>\n",
       "      <td id=\"T_c4d19_row9_col1\" class=\"data row9 col1\" >0</td>\n",
       "    </tr>\n",
       "    <tr>\n",
       "      <th id=\"T_c4d19_level0_row10\" class=\"row_heading level0 row10\" >hours-per-week</th>\n",
       "      <td id=\"T_c4d19_row10_col0\" class=\"data row10 col0\" >40</td>\n",
       "      <td id=\"T_c4d19_row10_col1\" class=\"data row10 col1\" >40</td>\n",
       "    </tr>\n",
       "    <tr>\n",
       "      <th id=\"T_c4d19_level0_row11\" class=\"row_heading level0 row11\" >age</th>\n",
       "      <td id=\"T_c4d19_row11_col0\" class=\"data row11 col0\" >28</td>\n",
       "      <td id=\"T_c4d19_row11_col1\" class=\"data row11 col1\" >52</td>\n",
       "    </tr>\n",
       "    <tr>\n",
       "      <th id=\"T_c4d19_level0_row12\" class=\"row_heading level0 row12\" >label</th>\n",
       "      <td id=\"T_c4d19_row12_col0\" class=\"data row12 col0\" >0</td>\n",
       "      <td id=\"T_c4d19_row12_col1\" class=\"data row12 col1\" >1</td>\n",
       "    </tr>\n",
       "  </tbody>\n",
       "</table>\n"
      ],
      "text/plain": [
       "<pandas.io.formats.style.Styler at 0x7f9f6b1ddb10>"
      ]
     },
     "metadata": {},
     "output_type": "display_data"
    },
    {
     "data": {
      "text/plain": [
       "None"
      ]
     },
     "metadata": {},
     "output_type": "display_data"
    },
    {
     "name": "stdout",
     "output_type": "stream",
     "text": [
      "CPU times: user 8min 55s, sys: 48.9 s, total: 9min 44s\n",
      "Wall time: 1min 37s\n"
     ]
    }
   ],
   "source": [
    "%%time\n",
    "test_id = 1\n",
    "\n",
    "cfs, x, desired_class = get_simplex_cf_tabular(simplex, model, test_id, encoder, n_cfs = 1)\n",
    "display_tabular_cfs([cfs, [], []], model, x, scaler, encoder, cols, f'results/{test_id}_sample.xlsx')\n",
    "\n",
    "cf_explanations = simplex.get_counterfactuals_explanation(model, cfs=cfs)\n",
    "test_explanations = simplex.get_full_test_explanation(model)\n",
    "\n",
    "test_features_df, test_jcb_df = get_attributions_image(test_explanations, 0)\n",
    "display(test_features_df.style.apply(b_g,A = test_jcb_df).to_excel(f'results/{test_id}_test_explanation.xlsx'))\n",
    "\n",
    "cf_features_df, cf_jcb_df = get_attributions_image(cf_explanations, 0)\n",
    "cf_features_df.style.apply(b_g,A = cf_jcb_df).to_excel(f'results/{test_id}_cf_explanation.xlsx')"
   ]
  },
  {
   "cell_type": "code",
   "execution_count": 15,
   "id": "a2521c6d",
   "metadata": {},
   "outputs": [
    {
     "data": {
      "text/html": [
       "<style type=\"text/css\">\n",
       "#T_64b8c_row0_col0, #T_64b8c_row1_col0, #T_64b8c_row2_col0, #T_64b8c_row2_col1, #T_64b8c_row3_col0, #T_64b8c_row4_col0, #T_64b8c_row4_col1, #T_64b8c_row5_col0, #T_64b8c_row5_col1, #T_64b8c_row6_col0, #T_64b8c_row6_col1, #T_64b8c_row7_col0, #T_64b8c_row7_col1, #T_64b8c_row8_col0, #T_64b8c_row8_col1, #T_64b8c_row9_col0, #T_64b8c_row9_col1, #T_64b8c_row10_col0, #T_64b8c_row11_col0, #T_64b8c_row12_col0 {\n",
       "  color: ;\n",
       "}\n",
       "#T_64b8c_row0_col1, #T_64b8c_row1_col1, #T_64b8c_row3_col1, #T_64b8c_row10_col1, #T_64b8c_row11_col1, #T_64b8c_row12_col1 {\n",
       "  color: red;\n",
       "}\n",
       "</style>\n",
       "<table id=\"T_64b8c\">\n",
       "  <thead>\n",
       "    <tr>\n",
       "      <th class=\"blank level0\" >&nbsp;</th>\n",
       "      <th id=\"T_64b8c_level0_col0\" class=\"col_heading level0 col0\" >original</th>\n",
       "      <th id=\"T_64b8c_level0_col1\" class=\"col_heading level0 col1\" >SimplexCF_counterfactual_1</th>\n",
       "    </tr>\n",
       "  </thead>\n",
       "  <tbody>\n",
       "    <tr>\n",
       "      <th id=\"T_64b8c_level0_row0\" class=\"row_heading level0 row0\" >workclass</th>\n",
       "      <td id=\"T_64b8c_row0_col0\" class=\"data row0 col0\" >Self-emp-not-inc</td>\n",
       "      <td id=\"T_64b8c_row0_col1\" class=\"data row0 col1\" >Local-gov</td>\n",
       "    </tr>\n",
       "    <tr>\n",
       "      <th id=\"T_64b8c_level0_row1\" class=\"row_heading level0 row1\" >education</th>\n",
       "      <td id=\"T_64b8c_row1_col0\" class=\"data row1 col0\" >HS-grad</td>\n",
       "      <td id=\"T_64b8c_row1_col1\" class=\"data row1 col1\" >Some-college</td>\n",
       "    </tr>\n",
       "    <tr>\n",
       "      <th id=\"T_64b8c_level0_row2\" class=\"row_heading level0 row2\" >marital-status</th>\n",
       "      <td id=\"T_64b8c_row2_col0\" class=\"data row2 col0\" >Married-civ-spouse</td>\n",
       "      <td id=\"T_64b8c_row2_col1\" class=\"data row2 col1\" >Married-civ-spouse</td>\n",
       "    </tr>\n",
       "    <tr>\n",
       "      <th id=\"T_64b8c_level0_row3\" class=\"row_heading level0 row3\" >occupation</th>\n",
       "      <td id=\"T_64b8c_row3_col0\" class=\"data row3 col0\" >Farming-fishing</td>\n",
       "      <td id=\"T_64b8c_row3_col1\" class=\"data row3 col1\" >Exec-managerial</td>\n",
       "    </tr>\n",
       "    <tr>\n",
       "      <th id=\"T_64b8c_level0_row4\" class=\"row_heading level0 row4\" >relationship</th>\n",
       "      <td id=\"T_64b8c_row4_col0\" class=\"data row4 col0\" >Husband</td>\n",
       "      <td id=\"T_64b8c_row4_col1\" class=\"data row4 col1\" >Husband</td>\n",
       "    </tr>\n",
       "    <tr>\n",
       "      <th id=\"T_64b8c_level0_row5\" class=\"row_heading level0 row5\" >race</th>\n",
       "      <td id=\"T_64b8c_row5_col0\" class=\"data row5 col0\" >White</td>\n",
       "      <td id=\"T_64b8c_row5_col1\" class=\"data row5 col1\" >White</td>\n",
       "    </tr>\n",
       "    <tr>\n",
       "      <th id=\"T_64b8c_level0_row6\" class=\"row_heading level0 row6\" >gender</th>\n",
       "      <td id=\"T_64b8c_row6_col0\" class=\"data row6 col0\" >Male</td>\n",
       "      <td id=\"T_64b8c_row6_col1\" class=\"data row6 col1\" >Male</td>\n",
       "    </tr>\n",
       "    <tr>\n",
       "      <th id=\"T_64b8c_level0_row7\" class=\"row_heading level0 row7\" >native-country</th>\n",
       "      <td id=\"T_64b8c_row7_col0\" class=\"data row7 col0\" >United-States</td>\n",
       "      <td id=\"T_64b8c_row7_col1\" class=\"data row7 col1\" >United-States</td>\n",
       "    </tr>\n",
       "    <tr>\n",
       "      <th id=\"T_64b8c_level0_row8\" class=\"row_heading level0 row8\" >capital-gain</th>\n",
       "      <td id=\"T_64b8c_row8_col0\" class=\"data row8 col0\" >0</td>\n",
       "      <td id=\"T_64b8c_row8_col1\" class=\"data row8 col1\" >0</td>\n",
       "    </tr>\n",
       "    <tr>\n",
       "      <th id=\"T_64b8c_level0_row9\" class=\"row_heading level0 row9\" >capital-loss</th>\n",
       "      <td id=\"T_64b8c_row9_col0\" class=\"data row9 col0\" >0</td>\n",
       "      <td id=\"T_64b8c_row9_col1\" class=\"data row9 col1\" >0</td>\n",
       "    </tr>\n",
       "    <tr>\n",
       "      <th id=\"T_64b8c_level0_row10\" class=\"row_heading level0 row10\" >hours-per-week</th>\n",
       "      <td id=\"T_64b8c_row10_col0\" class=\"data row10 col0\" >50</td>\n",
       "      <td id=\"T_64b8c_row10_col1\" class=\"data row10 col1\" >40</td>\n",
       "    </tr>\n",
       "    <tr>\n",
       "      <th id=\"T_64b8c_level0_row11\" class=\"row_heading level0 row11\" >age</th>\n",
       "      <td id=\"T_64b8c_row11_col0\" class=\"data row11 col0\" >35</td>\n",
       "      <td id=\"T_64b8c_row11_col1\" class=\"data row11 col1\" >52</td>\n",
       "    </tr>\n",
       "    <tr>\n",
       "      <th id=\"T_64b8c_level0_row12\" class=\"row_heading level0 row12\" >label</th>\n",
       "      <td id=\"T_64b8c_row12_col0\" class=\"data row12 col0\" >0</td>\n",
       "      <td id=\"T_64b8c_row12_col1\" class=\"data row12 col1\" >1</td>\n",
       "    </tr>\n",
       "  </tbody>\n",
       "</table>\n"
      ],
      "text/plain": [
       "<pandas.io.formats.style.Styler at 0x7f9f6b1dfc70>"
      ]
     },
     "metadata": {},
     "output_type": "display_data"
    },
    {
     "data": {
      "text/plain": [
       "None"
      ]
     },
     "metadata": {},
     "output_type": "display_data"
    },
    {
     "name": "stdout",
     "output_type": "stream",
     "text": [
      "CPU times: user 7min 52s, sys: 44.1 s, total: 8min 36s\n",
      "Wall time: 1min 19s\n"
     ]
    }
   ],
   "source": [
    "%%time\n",
    "test_id = 10\n",
    "\n",
    "cfs, x, desired_class = get_simplex_cf_tabular(simplex, model, test_id, encoder, n_cfs = 1)\n",
    "display_tabular_cfs([cfs, [], []], model, x, scaler, encoder, cols, f'results/{test_id}_sample.xlsx')\n",
    "\n",
    "cf_explanations = simplex.get_counterfactuals_explanation(model, cfs=cfs)\n",
    "test_explanations = simplex.get_full_test_explanation(model)\n",
    "\n",
    "test_features_df, test_jcb_df = get_attributions_image(test_explanations, 0)\n",
    "display(test_features_df.style.apply(b_g,A = test_jcb_df).to_excel(f'results/{test_id}_test_explanation.xlsx'))\n",
    "\n",
    "cf_features_df, cf_jcb_df = get_attributions_image(cf_explanations, 0)\n",
    "cf_features_df.style.apply(b_g,A = cf_jcb_df).to_excel(f'results/{test_id}_cf_explanation.xlsx')"
   ]
  },
  {
   "cell_type": "code",
   "execution_count": 16,
   "id": "39e455aa",
   "metadata": {},
   "outputs": [
    {
     "data": {
      "text/html": [
       "<style type=\"text/css\">\n",
       "#T_ac21a_row0_col0, #T_ac21a_row1_col0, #T_ac21a_row1_col1, #T_ac21a_row2_col0, #T_ac21a_row3_col0, #T_ac21a_row4_col0, #T_ac21a_row5_col0, #T_ac21a_row5_col1, #T_ac21a_row6_col0, #T_ac21a_row7_col0, #T_ac21a_row7_col1, #T_ac21a_row8_col0, #T_ac21a_row8_col1, #T_ac21a_row9_col0, #T_ac21a_row9_col1, #T_ac21a_row10_col0, #T_ac21a_row11_col0, #T_ac21a_row12_col0 {\n",
       "  color: ;\n",
       "}\n",
       "#T_ac21a_row0_col1, #T_ac21a_row2_col1, #T_ac21a_row3_col1, #T_ac21a_row4_col1, #T_ac21a_row6_col1, #T_ac21a_row10_col1, #T_ac21a_row11_col1, #T_ac21a_row12_col1 {\n",
       "  color: red;\n",
       "}\n",
       "</style>\n",
       "<table id=\"T_ac21a\">\n",
       "  <thead>\n",
       "    <tr>\n",
       "      <th class=\"blank level0\" >&nbsp;</th>\n",
       "      <th id=\"T_ac21a_level0_col0\" class=\"col_heading level0 col0\" >original</th>\n",
       "      <th id=\"T_ac21a_level0_col1\" class=\"col_heading level0 col1\" >SimplexCF_counterfactual_1</th>\n",
       "    </tr>\n",
       "  </thead>\n",
       "  <tbody>\n",
       "    <tr>\n",
       "      <th id=\"T_ac21a_level0_row0\" class=\"row_heading level0 row0\" >workclass</th>\n",
       "      <td id=\"T_ac21a_row0_col0\" class=\"data row0 col0\" >?</td>\n",
       "      <td id=\"T_ac21a_row0_col1\" class=\"data row0 col1\" >Local-gov</td>\n",
       "    </tr>\n",
       "    <tr>\n",
       "      <th id=\"T_ac21a_level0_row1\" class=\"row_heading level0 row1\" >education</th>\n",
       "      <td id=\"T_ac21a_row1_col0\" class=\"data row1 col0\" >Some-college</td>\n",
       "      <td id=\"T_ac21a_row1_col1\" class=\"data row1 col1\" >Some-college</td>\n",
       "    </tr>\n",
       "    <tr>\n",
       "      <th id=\"T_ac21a_level0_row2\" class=\"row_heading level0 row2\" >marital-status</th>\n",
       "      <td id=\"T_ac21a_row2_col0\" class=\"data row2 col0\" >Never-married</td>\n",
       "      <td id=\"T_ac21a_row2_col1\" class=\"data row2 col1\" >Married-civ-spouse</td>\n",
       "    </tr>\n",
       "    <tr>\n",
       "      <th id=\"T_ac21a_level0_row3\" class=\"row_heading level0 row3\" >occupation</th>\n",
       "      <td id=\"T_ac21a_row3_col0\" class=\"data row3 col0\" >?</td>\n",
       "      <td id=\"T_ac21a_row3_col1\" class=\"data row3 col1\" >Exec-managerial</td>\n",
       "    </tr>\n",
       "    <tr>\n",
       "      <th id=\"T_ac21a_level0_row4\" class=\"row_heading level0 row4\" >relationship</th>\n",
       "      <td id=\"T_ac21a_row4_col0\" class=\"data row4 col0\" >Own-child</td>\n",
       "      <td id=\"T_ac21a_row4_col1\" class=\"data row4 col1\" >Husband</td>\n",
       "    </tr>\n",
       "    <tr>\n",
       "      <th id=\"T_ac21a_level0_row5\" class=\"row_heading level0 row5\" >race</th>\n",
       "      <td id=\"T_ac21a_row5_col0\" class=\"data row5 col0\" >White</td>\n",
       "      <td id=\"T_ac21a_row5_col1\" class=\"data row5 col1\" >White</td>\n",
       "    </tr>\n",
       "    <tr>\n",
       "      <th id=\"T_ac21a_level0_row6\" class=\"row_heading level0 row6\" >gender</th>\n",
       "      <td id=\"T_ac21a_row6_col0\" class=\"data row6 col0\" >Female</td>\n",
       "      <td id=\"T_ac21a_row6_col1\" class=\"data row6 col1\" >Male</td>\n",
       "    </tr>\n",
       "    <tr>\n",
       "      <th id=\"T_ac21a_level0_row7\" class=\"row_heading level0 row7\" >native-country</th>\n",
       "      <td id=\"T_ac21a_row7_col0\" class=\"data row7 col0\" >United-States</td>\n",
       "      <td id=\"T_ac21a_row7_col1\" class=\"data row7 col1\" >United-States</td>\n",
       "    </tr>\n",
       "    <tr>\n",
       "      <th id=\"T_ac21a_level0_row8\" class=\"row_heading level0 row8\" >capital-gain</th>\n",
       "      <td id=\"T_ac21a_row8_col0\" class=\"data row8 col0\" >0</td>\n",
       "      <td id=\"T_ac21a_row8_col1\" class=\"data row8 col1\" >0</td>\n",
       "    </tr>\n",
       "    <tr>\n",
       "      <th id=\"T_ac21a_level0_row9\" class=\"row_heading level0 row9\" >capital-loss</th>\n",
       "      <td id=\"T_ac21a_row9_col0\" class=\"data row9 col0\" >0</td>\n",
       "      <td id=\"T_ac21a_row9_col1\" class=\"data row9 col1\" >0</td>\n",
       "    </tr>\n",
       "    <tr>\n",
       "      <th id=\"T_ac21a_level0_row10\" class=\"row_heading level0 row10\" >hours-per-week</th>\n",
       "      <td id=\"T_ac21a_row10_col0\" class=\"data row10 col0\" >24</td>\n",
       "      <td id=\"T_ac21a_row10_col1\" class=\"data row10 col1\" >40</td>\n",
       "    </tr>\n",
       "    <tr>\n",
       "      <th id=\"T_ac21a_level0_row11\" class=\"row_heading level0 row11\" >age</th>\n",
       "      <td id=\"T_ac21a_row11_col0\" class=\"data row11 col0\" >21</td>\n",
       "      <td id=\"T_ac21a_row11_col1\" class=\"data row11 col1\" >52</td>\n",
       "    </tr>\n",
       "    <tr>\n",
       "      <th id=\"T_ac21a_level0_row12\" class=\"row_heading level0 row12\" >label</th>\n",
       "      <td id=\"T_ac21a_row12_col0\" class=\"data row12 col0\" >0</td>\n",
       "      <td id=\"T_ac21a_row12_col1\" class=\"data row12 col1\" >1</td>\n",
       "    </tr>\n",
       "  </tbody>\n",
       "</table>\n"
      ],
      "text/plain": [
       "<pandas.io.formats.style.Styler at 0x7f9fb9bc8760>"
      ]
     },
     "metadata": {},
     "output_type": "display_data"
    },
    {
     "data": {
      "text/plain": [
       "None"
      ]
     },
     "metadata": {},
     "output_type": "display_data"
    },
    {
     "name": "stdout",
     "output_type": "stream",
     "text": [
      "CPU times: user 9min 15s, sys: 49 s, total: 10min 4s\n",
      "Wall time: 1min 42s\n"
     ]
    }
   ],
   "source": [
    "%%time\n",
    "test_id = 100\n",
    "\n",
    "cfs, x, desired_class = get_simplex_cf_tabular(simplex, model, test_id, encoder, n_cfs = 1)\n",
    "display_tabular_cfs([cfs, [], []], model, x, scaler, encoder, cols, f'results/{test_id}_sample.xlsx')\n",
    "\n",
    "cf_explanations = simplex.get_counterfactuals_explanation(model, cfs=cfs)\n",
    "test_explanations = simplex.get_full_test_explanation(model)\n",
    "\n",
    "test_features_df, test_jcb_df = get_attributions_image(test_explanations, 0)\n",
    "display(test_features_df.style.apply(b_g,A = test_jcb_df).to_excel(f'results/{test_id}_test_explanation.xlsx'))\n",
    "\n",
    "cf_features_df, cf_jcb_df = get_attributions_image(cf_explanations, 0)\n",
    "cf_features_df.style.apply(b_g,A = cf_jcb_df).to_excel(f'results/{test_id}_cf_explanation.xlsx')"
   ]
  },
  {
   "cell_type": "code",
   "execution_count": null,
   "id": "1f05e1ab",
   "metadata": {},
   "outputs": [],
   "source": []
  },
  {
   "cell_type": "code",
   "execution_count": 9,
   "id": "f7ad65c1",
   "metadata": {},
   "outputs": [
    {
     "name": "stderr",
     "output_type": "stream",
     "text": [
      "100%|██████████| 100/100 [08:43<00:00,  5.23s/it]\n"
     ]
    }
   ],
   "source": [
    "from tqdm import tqdm\n",
    "\n",
    "test_weights = []\n",
    "cf_weights = []\n",
    "\n",
    "for test_id in tqdm(range(100)):\n",
    "    cfs, x, desired_class = get_simplex_cf_tabular(simplex, model, test_id, encoder, n_cfs = 1)\n",
    "    cf_explanations = simplex.get_counterfactuals_explanation(model, cfs=cfs)\n",
    "    \n",
    "    w_sum = 0\n",
    "    for exp in test_explanations[test_id][0]:\n",
    "        w, _, _= exp\n",
    "        w_sum += w\n",
    "        test_weights.append(w_sum)\n",
    "\n",
    "    w_sum = 0\n",
    "    for exp in cf_explanations[0][0]:\n",
    "        w, _, _= exp\n",
    "        w_sum += w\n",
    "        cf_weights.append(w_sum)"
   ]
  },
  {
   "cell_type": "code",
   "execution_count": 10,
   "id": "3c8231cc",
   "metadata": {},
   "outputs": [
    {
     "data": {
      "text/plain": [
       "count    300.000000\n",
       "mean       0.862315\n",
       "std        0.159265\n",
       "min        0.302760\n",
       "25%        0.788780\n",
       "50%        0.942460\n",
       "75%        0.977287\n",
       "max        0.996591\n",
       "dtype: float64"
      ]
     },
     "execution_count": 10,
     "metadata": {},
     "output_type": "execute_result"
    }
   ],
   "source": [
    "pd.Series(test_weights).describe()"
   ]
  },
  {
   "cell_type": "code",
   "execution_count": 11,
   "id": "5df483db",
   "metadata": {},
   "outputs": [
    {
     "data": {
      "text/plain": [
       "count    300.000000\n",
       "mean       0.863936\n",
       "std        0.169395\n",
       "min        0.481729\n",
       "25%        0.689970\n",
       "50%        0.975857\n",
       "75%        0.988609\n",
       "max        0.995025\n",
       "dtype: float64"
      ]
     },
     "execution_count": 11,
     "metadata": {},
     "output_type": "execute_result"
    }
   ],
   "source": [
    "pd.Series(cf_weights).describe()"
   ]
  },
  {
   "cell_type": "markdown",
   "id": "2e45cc13",
   "metadata": {},
   "source": [
    "w_c, x_c, proj_jacobian_c = cfs_results[0][0][0] # i is what counterfactual, j is the results of that counterfactaul, k is the explanation base on corpus in i,j"
   ]
  },
  {
   "cell_type": "code",
   "execution_count": null,
   "id": "298d6a2d",
   "metadata": {},
   "outputs": [],
   "source": []
  }
 ],
 "metadata": {
  "kernelspec": {
   "display_name": "molformer",
   "language": "python",
   "name": "molformer"
  },
  "language_info": {
   "codemirror_mode": {
    "name": "ipython",
    "version": 3
   },
   "file_extension": ".py",
   "mimetype": "text/x-python",
   "name": "python",
   "nbconvert_exporter": "python",
   "pygments_lexer": "ipython3",
   "version": "3.10.6"
  }
 },
 "nbformat": 4,
 "nbformat_minor": 5
}
