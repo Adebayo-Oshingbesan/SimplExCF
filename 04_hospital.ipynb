{
 "cells": [
  {
   "cell_type": "code",
   "execution_count": 1,
   "id": "668b6156-7fed-4856-afea-0111b61733e8",
   "metadata": {
    "tags": []
   },
   "outputs": [
    {
     "name": "stderr",
     "output_type": "stream",
     "text": [
      "2022-11-13 16:48:38.548140: I tensorflow/core/platform/cpu_feature_guard.cc:193] This TensorFlow binary is optimized with oneAPI Deep Neural Network Library (oneDNN) to use the following CPU instructions in performance-critical operations:  AVX2 FMA\n",
      "To enable them in other operations, rebuild TensorFlow with the appropriate compiler flags.\n"
     ]
    },
    {
     "data": {
      "text/plain": [
       "TabularModel(\n",
       "  (lin1): Linear(in_features=10, out_features=200, bias=True)\n",
       "  (lin2): Linear(in_features=200, out_features=50, bias=True)\n",
       "  (lin3): Linear(in_features=50, out_features=2, bias=True)\n",
       "  (bn1): BatchNorm1d(8, eps=1e-05, momentum=0.1, affine=True, track_running_stats=True)\n",
       "  (drops): Dropout(p=0.3, inplace=False)\n",
       ")"
      ]
     },
     "execution_count": 1,
     "metadata": {},
     "output_type": "execute_result"
    }
   ],
   "source": [
    "from util import *\n",
    "\n",
    "from src.dataset import load_hospital\n",
    "from src.counterfactual import get_baseline_counterfactuals\n",
    "\n",
    "import joblib\n",
    "import time\n",
    "\n",
    "import warnings\n",
    "warnings.filterwarnings('ignore')\n",
    "                        \n",
    "# Get a model\n",
    "model, encoder, scaler = joblib.load('models/hospital.gz') # Model should have the BlackBox interface\n",
    "model"
   ]
  },
  {
   "cell_type": "code",
   "execution_count": 2,
   "id": "4330d911-2504-49de-8566-6c99ffa21469",
   "metadata": {},
   "outputs": [
    {
     "name": "stdout",
     "output_type": "stream",
     "text": [
      "Weight Fitting Epoch: 2000/10000 ; Error: 6.78 ; Regulator: 17.1 ; Reg Factor: 1\n",
      "Weight Fitting Epoch: 4000/10000 ; Error: 1.34 ; Regulator: 2.86 ; Reg Factor: 1\n",
      "Weight Fitting Epoch: 6000/10000 ; Error: 0.621 ; Regulator: 0.828 ; Reg Factor: 1\n",
      "Weight Fitting Epoch: 8000/10000 ; Error: 0.492 ; Regulator: 0.291 ; Reg Factor: 1\n",
      "Weight Fitting Epoch: 10000/10000 ; Error: 0.451 ; Regulator: 0.108 ; Reg Factor: 1\n"
     ]
    }
   ],
   "source": [
    "loader = iter(load_hospital(100, train=False))\n",
    "X_corpus, _ = next(loader)\n",
    "X_test, _ = next(loader)\n",
    "\n",
    "simplex = get_simplex(model, X_corpus, X_test, verbose = True)"
   ]
  },
  {
   "cell_type": "code",
   "execution_count": 3,
   "id": "8d91357d-2011-47df-ba10-8043e40864ba",
   "metadata": {},
   "outputs": [
    {
     "name": "stdout",
     "output_type": "stream",
     "text": [
      "CPU times: user 2.26 s, sys: 117 ms, total: 2.37 s\n",
      "Wall time: 322 ms\n"
     ]
    }
   ],
   "source": [
    "%%time\n",
    "test_id = 10\n",
    "\n",
    "cfs, x, desired_class = get_simplex_cf_tabular(simplex, model, test_id, encoder)"
   ]
  },
  {
   "cell_type": "code",
   "execution_count": 5,
   "id": "a41943a9-0547-4b62-afc1-9830b8a748ab",
   "metadata": {},
   "outputs": [
    {
     "name": "stdout",
     "output_type": "stream",
     "text": [
      "Original: \n"
     ]
    },
    {
     "data": {
      "text/html": [
       "<div>\n",
       "<style scoped>\n",
       "    .dataframe tbody tr th:only-of-type {\n",
       "        vertical-align: middle;\n",
       "    }\n",
       "\n",
       "    .dataframe tbody tr th {\n",
       "        vertical-align: top;\n",
       "    }\n",
       "\n",
       "    .dataframe thead th {\n",
       "        text-align: right;\n",
       "    }\n",
       "</style>\n",
       "<table border=\"1\" class=\"dataframe\">\n",
       "  <thead>\n",
       "    <tr style=\"text-align: right;\">\n",
       "      <th></th>\n",
       "      <th>Gender</th>\n",
       "      <th>Neighbourhood</th>\n",
       "      <th>Scholarship</th>\n",
       "      <th>Hipertension</th>\n",
       "      <th>Diabetes</th>\n",
       "      <th>Alcoholism</th>\n",
       "      <th>SMS_received</th>\n",
       "      <th>Handcap</th>\n",
       "      <th>Age</th>\n",
       "      <th>ScheduleDays</th>\n",
       "    </tr>\n",
       "  </thead>\n",
       "  <tbody>\n",
       "    <tr>\n",
       "      <th>0</th>\n",
       "      <td>F</td>\n",
       "      <td>REDENÇÃO</td>\n",
       "      <td>0</td>\n",
       "      <td>1</td>\n",
       "      <td>1</td>\n",
       "      <td>0</td>\n",
       "      <td>0</td>\n",
       "      <td>0</td>\n",
       "      <td>57</td>\n",
       "      <td>14</td>\n",
       "    </tr>\n",
       "  </tbody>\n",
       "</table>\n",
       "</div>"
      ],
      "text/plain": [
       "  Gender Neighbourhood  Scholarship  Hipertension  Diabetes  Alcoholism  \\\n",
       "0      F      REDENÇÃO            0             1         1           0   \n",
       "\n",
       "   SMS_received  Handcap  Age  ScheduleDays  \n",
       "0             0        0   57            14  "
      ]
     },
     "metadata": {},
     "output_type": "display_data"
    },
    {
     "name": "stdout",
     "output_type": "stream",
     "text": [
      "\n",
      "Kept counterfactual generation: \n"
     ]
    },
    {
     "data": {
      "text/html": [
       "<style type=\"text/css\">\n",
       "#T_0945c_row0_col0, #T_0945c_row0_col1, #T_0945c_row0_col2, #T_0945c_row0_col3, #T_0945c_row0_col4, #T_0945c_row0_col5, #T_0945c_row0_col6, #T_0945c_row0_col8, #T_0945c_row0_col9 {\n",
       "  background-color: ;\n",
       "}\n",
       "#T_0945c_row0_col7 {\n",
       "  background-color: green;\n",
       "}\n",
       "</style>\n",
       "<table id=\"T_0945c\">\n",
       "  <thead>\n",
       "    <tr>\n",
       "      <th class=\"blank level0\" >&nbsp;</th>\n",
       "      <th id=\"T_0945c_level0_col0\" class=\"col_heading level0 col0\" >Gender</th>\n",
       "      <th id=\"T_0945c_level0_col1\" class=\"col_heading level0 col1\" >Neighbourhood</th>\n",
       "      <th id=\"T_0945c_level0_col2\" class=\"col_heading level0 col2\" >Scholarship</th>\n",
       "      <th id=\"T_0945c_level0_col3\" class=\"col_heading level0 col3\" >Hipertension</th>\n",
       "      <th id=\"T_0945c_level0_col4\" class=\"col_heading level0 col4\" >Diabetes</th>\n",
       "      <th id=\"T_0945c_level0_col5\" class=\"col_heading level0 col5\" >Alcoholism</th>\n",
       "      <th id=\"T_0945c_level0_col6\" class=\"col_heading level0 col6\" >SMS_received</th>\n",
       "      <th id=\"T_0945c_level0_col7\" class=\"col_heading level0 col7\" >Handcap</th>\n",
       "      <th id=\"T_0945c_level0_col8\" class=\"col_heading level0 col8\" >Age</th>\n",
       "      <th id=\"T_0945c_level0_col9\" class=\"col_heading level0 col9\" >ScheduleDays</th>\n",
       "    </tr>\n",
       "  </thead>\n",
       "  <tbody>\n",
       "    <tr>\n",
       "      <th id=\"T_0945c_level0_row0\" class=\"row_heading level0 row0\" >0</th>\n",
       "      <td id=\"T_0945c_row0_col0\" class=\"data row0 col0\" >F</td>\n",
       "      <td id=\"T_0945c_row0_col1\" class=\"data row0 col1\" >REDENÇÃO</td>\n",
       "      <td id=\"T_0945c_row0_col2\" class=\"data row0 col2\" >0</td>\n",
       "      <td id=\"T_0945c_row0_col3\" class=\"data row0 col3\" >1</td>\n",
       "      <td id=\"T_0945c_row0_col4\" class=\"data row0 col4\" >1</td>\n",
       "      <td id=\"T_0945c_row0_col5\" class=\"data row0 col5\" >0</td>\n",
       "      <td id=\"T_0945c_row0_col6\" class=\"data row0 col6\" >0</td>\n",
       "      <td id=\"T_0945c_row0_col7\" class=\"data row0 col7\" >1</td>\n",
       "      <td id=\"T_0945c_row0_col8\" class=\"data row0 col8\" >57</td>\n",
       "      <td id=\"T_0945c_row0_col9\" class=\"data row0 col9\" >14</td>\n",
       "    </tr>\n",
       "  </tbody>\n",
       "</table>\n"
      ],
      "text/plain": [
       "<pandas.io.formats.style.Styler at 0x7f91e03f2860>"
      ]
     },
     "metadata": {},
     "output_type": "display_data"
    },
    {
     "name": "stdout",
     "output_type": "stream",
     "text": [
      "\n",
      "Predicted:  tensor(1)  ||  Desired:  tensor(1)  ||  Orginal:  tensor(0)\n",
      "************************************************************************************************************************\n",
      "Kept counterfactual generation: \n"
     ]
    },
    {
     "data": {
      "text/html": [
       "<style type=\"text/css\">\n",
       "#T_d0888_row0_col0, #T_d0888_row0_col2, #T_d0888_row0_col5, #T_d0888_row0_col6 {\n",
       "  background-color: ;\n",
       "}\n",
       "#T_d0888_row0_col1, #T_d0888_row0_col3, #T_d0888_row0_col4, #T_d0888_row0_col7, #T_d0888_row0_col8, #T_d0888_row0_col9 {\n",
       "  background-color: green;\n",
       "}\n",
       "</style>\n",
       "<table id=\"T_d0888\">\n",
       "  <thead>\n",
       "    <tr>\n",
       "      <th class=\"blank level0\" >&nbsp;</th>\n",
       "      <th id=\"T_d0888_level0_col0\" class=\"col_heading level0 col0\" >Gender</th>\n",
       "      <th id=\"T_d0888_level0_col1\" class=\"col_heading level0 col1\" >Neighbourhood</th>\n",
       "      <th id=\"T_d0888_level0_col2\" class=\"col_heading level0 col2\" >Scholarship</th>\n",
       "      <th id=\"T_d0888_level0_col3\" class=\"col_heading level0 col3\" >Hipertension</th>\n",
       "      <th id=\"T_d0888_level0_col4\" class=\"col_heading level0 col4\" >Diabetes</th>\n",
       "      <th id=\"T_d0888_level0_col5\" class=\"col_heading level0 col5\" >Alcoholism</th>\n",
       "      <th id=\"T_d0888_level0_col6\" class=\"col_heading level0 col6\" >SMS_received</th>\n",
       "      <th id=\"T_d0888_level0_col7\" class=\"col_heading level0 col7\" >Handcap</th>\n",
       "      <th id=\"T_d0888_level0_col8\" class=\"col_heading level0 col8\" >Age</th>\n",
       "      <th id=\"T_d0888_level0_col9\" class=\"col_heading level0 col9\" >ScheduleDays</th>\n",
       "    </tr>\n",
       "  </thead>\n",
       "  <tbody>\n",
       "    <tr>\n",
       "      <th id=\"T_d0888_level0_row0\" class=\"row_heading level0 row0\" >0</th>\n",
       "      <td id=\"T_d0888_row0_col0\" class=\"data row0 col0\" >F</td>\n",
       "      <td id=\"T_d0888_row0_col1\" class=\"data row0 col1\" >CARATOÍRA</td>\n",
       "      <td id=\"T_d0888_row0_col2\" class=\"data row0 col2\" >0</td>\n",
       "      <td id=\"T_d0888_row0_col3\" class=\"data row0 col3\" >0</td>\n",
       "      <td id=\"T_d0888_row0_col4\" class=\"data row0 col4\" >0</td>\n",
       "      <td id=\"T_d0888_row0_col5\" class=\"data row0 col5\" >0</td>\n",
       "      <td id=\"T_d0888_row0_col6\" class=\"data row0 col6\" >0</td>\n",
       "      <td id=\"T_d0888_row0_col7\" class=\"data row0 col7\" >1</td>\n",
       "      <td id=\"T_d0888_row0_col8\" class=\"data row0 col8\" >30</td>\n",
       "      <td id=\"T_d0888_row0_col9\" class=\"data row0 col9\" >15</td>\n",
       "    </tr>\n",
       "  </tbody>\n",
       "</table>\n"
      ],
      "text/plain": [
       "<pandas.io.formats.style.Styler at 0x7f919050ae00>"
      ]
     },
     "metadata": {},
     "output_type": "display_data"
    },
    {
     "name": "stdout",
     "output_type": "stream",
     "text": [
      "\n",
      "Predicted:  tensor(1)  ||  Desired:  tensor(1)  ||  Orginal:  tensor(0)\n",
      "************************************************************************************************************************\n",
      "Kept counterfactual generation: \n"
     ]
    },
    {
     "data": {
      "text/html": [
       "<style type=\"text/css\">\n",
       "#T_2257f_row0_col0, #T_2257f_row0_col1, #T_2257f_row0_col3, #T_2257f_row0_col4, #T_2257f_row0_col7, #T_2257f_row0_col8, #T_2257f_row0_col9 {\n",
       "  background-color: green;\n",
       "}\n",
       "#T_2257f_row0_col2, #T_2257f_row0_col5, #T_2257f_row0_col6 {\n",
       "  background-color: ;\n",
       "}\n",
       "</style>\n",
       "<table id=\"T_2257f\">\n",
       "  <thead>\n",
       "    <tr>\n",
       "      <th class=\"blank level0\" >&nbsp;</th>\n",
       "      <th id=\"T_2257f_level0_col0\" class=\"col_heading level0 col0\" >Gender</th>\n",
       "      <th id=\"T_2257f_level0_col1\" class=\"col_heading level0 col1\" >Neighbourhood</th>\n",
       "      <th id=\"T_2257f_level0_col2\" class=\"col_heading level0 col2\" >Scholarship</th>\n",
       "      <th id=\"T_2257f_level0_col3\" class=\"col_heading level0 col3\" >Hipertension</th>\n",
       "      <th id=\"T_2257f_level0_col4\" class=\"col_heading level0 col4\" >Diabetes</th>\n",
       "      <th id=\"T_2257f_level0_col5\" class=\"col_heading level0 col5\" >Alcoholism</th>\n",
       "      <th id=\"T_2257f_level0_col6\" class=\"col_heading level0 col6\" >SMS_received</th>\n",
       "      <th id=\"T_2257f_level0_col7\" class=\"col_heading level0 col7\" >Handcap</th>\n",
       "      <th id=\"T_2257f_level0_col8\" class=\"col_heading level0 col8\" >Age</th>\n",
       "      <th id=\"T_2257f_level0_col9\" class=\"col_heading level0 col9\" >ScheduleDays</th>\n",
       "    </tr>\n",
       "  </thead>\n",
       "  <tbody>\n",
       "    <tr>\n",
       "      <th id=\"T_2257f_level0_row0\" class=\"row_heading level0 row0\" >0</th>\n",
       "      <td id=\"T_2257f_row0_col0\" class=\"data row0 col0\" >M</td>\n",
       "      <td id=\"T_2257f_row0_col1\" class=\"data row0 col1\" >MARIA ORTIZ</td>\n",
       "      <td id=\"T_2257f_row0_col2\" class=\"data row0 col2\" >0</td>\n",
       "      <td id=\"T_2257f_row0_col3\" class=\"data row0 col3\" >0</td>\n",
       "      <td id=\"T_2257f_row0_col4\" class=\"data row0 col4\" >0</td>\n",
       "      <td id=\"T_2257f_row0_col5\" class=\"data row0 col5\" >0</td>\n",
       "      <td id=\"T_2257f_row0_col6\" class=\"data row0 col6\" >0</td>\n",
       "      <td id=\"T_2257f_row0_col7\" class=\"data row0 col7\" >1</td>\n",
       "      <td id=\"T_2257f_row0_col8\" class=\"data row0 col8\" >30</td>\n",
       "      <td id=\"T_2257f_row0_col9\" class=\"data row0 col9\" >15</td>\n",
       "    </tr>\n",
       "  </tbody>\n",
       "</table>\n"
      ],
      "text/plain": [
       "<pandas.io.formats.style.Styler at 0x7f91e03f2860>"
      ]
     },
     "metadata": {},
     "output_type": "display_data"
    },
    {
     "name": "stdout",
     "output_type": "stream",
     "text": [
      "\n",
      "Predicted:  tensor(1)  ||  Desired:  tensor(1)  ||  Orginal:  tensor(0)\n",
      "************************************************************************************************************************\n"
     ]
    }
   ],
   "source": [
    "cols = ['Gender', 'Neighbourhood', 'Scholarship', 'Hipertension', 'Diabetes', \\\n",
    "       'Alcoholism', 'SMS_received', 'Handcap', 'Age', 'ScheduleDays']\n",
    "\n",
    "x = simplex.test_examples[test_id:test_id+1]\n",
    "display_tabular_cfs(cfs, model, x, desired_class, scaler, encoder, cols)"
   ]
  },
  {
   "cell_type": "code",
   "execution_count": null,
   "id": "dd0f75a0-c992-4490-be33-f81c0c493981",
   "metadata": {},
   "outputs": [],
   "source": []
  },
  {
   "cell_type": "code",
   "execution_count": 6,
   "id": "ef85de68-7df4-4b6e-9e2d-8151cea3ad9c",
   "metadata": {},
   "outputs": [
    {
     "name": "stdout",
     "output_type": "stream",
     "text": [
      "Original: \n"
     ]
    },
    {
     "data": {
      "text/html": [
       "<div>\n",
       "<style scoped>\n",
       "    .dataframe tbody tr th:only-of-type {\n",
       "        vertical-align: middle;\n",
       "    }\n",
       "\n",
       "    .dataframe tbody tr th {\n",
       "        vertical-align: top;\n",
       "    }\n",
       "\n",
       "    .dataframe thead th {\n",
       "        text-align: right;\n",
       "    }\n",
       "</style>\n",
       "<table border=\"1\" class=\"dataframe\">\n",
       "  <thead>\n",
       "    <tr style=\"text-align: right;\">\n",
       "      <th></th>\n",
       "      <th>Gender</th>\n",
       "      <th>Neighbourhood</th>\n",
       "      <th>Scholarship</th>\n",
       "      <th>Hipertension</th>\n",
       "      <th>Diabetes</th>\n",
       "      <th>Alcoholism</th>\n",
       "      <th>SMS_received</th>\n",
       "      <th>Handcap</th>\n",
       "      <th>Age</th>\n",
       "      <th>ScheduleDays</th>\n",
       "    </tr>\n",
       "  </thead>\n",
       "  <tbody>\n",
       "    <tr>\n",
       "      <th>0</th>\n",
       "      <td>F</td>\n",
       "      <td>REDENÇÃO</td>\n",
       "      <td>0</td>\n",
       "      <td>1</td>\n",
       "      <td>1</td>\n",
       "      <td>0</td>\n",
       "      <td>0</td>\n",
       "      <td>0</td>\n",
       "      <td>57</td>\n",
       "      <td>14</td>\n",
       "    </tr>\n",
       "  </tbody>\n",
       "</table>\n",
       "</div>"
      ],
      "text/plain": [
       "  Gender Neighbourhood  Scholarship  Hipertension  Diabetes  Alcoholism  \\\n",
       "0      F      REDENÇÃO            0             1         1           0   \n",
       "\n",
       "   SMS_received  Handcap  Age  ScheduleDays  \n",
       "0             0        0   57            14  "
      ]
     },
     "metadata": {},
     "output_type": "display_data"
    },
    {
     "name": "stdout",
     "output_type": "stream",
     "text": [
      "\n",
      "Kept counterfactual generation: \n"
     ]
    },
    {
     "data": {
      "text/html": [
       "<style type=\"text/css\">\n",
       "#T_b9006_row0_col0, #T_b9006_row0_col1, #T_b9006_row0_col3, #T_b9006_row0_col4, #T_b9006_row0_col7, #T_b9006_row0_col8, #T_b9006_row0_col9 {\n",
       "  background-color: green;\n",
       "}\n",
       "#T_b9006_row0_col2, #T_b9006_row0_col5, #T_b9006_row0_col6 {\n",
       "  background-color: ;\n",
       "}\n",
       "</style>\n",
       "<table id=\"T_b9006\">\n",
       "  <thead>\n",
       "    <tr>\n",
       "      <th class=\"blank level0\" >&nbsp;</th>\n",
       "      <th id=\"T_b9006_level0_col0\" class=\"col_heading level0 col0\" >Gender</th>\n",
       "      <th id=\"T_b9006_level0_col1\" class=\"col_heading level0 col1\" >Neighbourhood</th>\n",
       "      <th id=\"T_b9006_level0_col2\" class=\"col_heading level0 col2\" >Scholarship</th>\n",
       "      <th id=\"T_b9006_level0_col3\" class=\"col_heading level0 col3\" >Hipertension</th>\n",
       "      <th id=\"T_b9006_level0_col4\" class=\"col_heading level0 col4\" >Diabetes</th>\n",
       "      <th id=\"T_b9006_level0_col5\" class=\"col_heading level0 col5\" >Alcoholism</th>\n",
       "      <th id=\"T_b9006_level0_col6\" class=\"col_heading level0 col6\" >SMS_received</th>\n",
       "      <th id=\"T_b9006_level0_col7\" class=\"col_heading level0 col7\" >Handcap</th>\n",
       "      <th id=\"T_b9006_level0_col8\" class=\"col_heading level0 col8\" >Age</th>\n",
       "      <th id=\"T_b9006_level0_col9\" class=\"col_heading level0 col9\" >ScheduleDays</th>\n",
       "    </tr>\n",
       "  </thead>\n",
       "  <tbody>\n",
       "    <tr>\n",
       "      <th id=\"T_b9006_level0_row0\" class=\"row_heading level0 row0\" >0</th>\n",
       "      <td id=\"T_b9006_row0_col0\" class=\"data row0 col0\" >M</td>\n",
       "      <td id=\"T_b9006_row0_col1\" class=\"data row0 col1\" >MARIA ORTIZ</td>\n",
       "      <td id=\"T_b9006_row0_col2\" class=\"data row0 col2\" >0</td>\n",
       "      <td id=\"T_b9006_row0_col3\" class=\"data row0 col3\" >0</td>\n",
       "      <td id=\"T_b9006_row0_col4\" class=\"data row0 col4\" >0</td>\n",
       "      <td id=\"T_b9006_row0_col5\" class=\"data row0 col5\" >0</td>\n",
       "      <td id=\"T_b9006_row0_col6\" class=\"data row0 col6\" >0</td>\n",
       "      <td id=\"T_b9006_row0_col7\" class=\"data row0 col7\" >1</td>\n",
       "      <td id=\"T_b9006_row0_col8\" class=\"data row0 col8\" >40</td>\n",
       "      <td id=\"T_b9006_row0_col9\" class=\"data row0 col9\" >11</td>\n",
       "    </tr>\n",
       "  </tbody>\n",
       "</table>\n"
      ],
      "text/plain": [
       "<pandas.io.formats.style.Styler at 0x7f91a0259f00>"
      ]
     },
     "metadata": {},
     "output_type": "display_data"
    },
    {
     "name": "stdout",
     "output_type": "stream",
     "text": [
      "\n",
      "Predicted:  tensor(1)  ||  Desired:  tensor(1)  ||  Orginal:  tensor(0)\n",
      "************************************************************************************************************************\n"
     ]
    }
   ],
   "source": [
    "baseline_cfs = get_baseline_counterfactuals(model = model, target = desired_class, test = x, \\\n",
    "                                            corpus = X_corpus)\n",
    "\n",
    "display_tabular_cfs(baseline_cfs, model, x, desired_class, scaler, encoder, cols)"
   ]
  },
  {
   "cell_type": "code",
   "execution_count": null,
   "id": "7f055942-2c70-48d2-a436-eeba54a92d19",
   "metadata": {},
   "outputs": [],
   "source": []
  },
  {
   "cell_type": "code",
   "execution_count": 7,
   "id": "7eadbd38-2f11-42d5-b42e-5f4ab5e5ee77",
   "metadata": {},
   "outputs": [
    {
     "name": "stdout",
     "output_type": "stream",
     "text": [
      "WARNING:tensorflow:From /Users/adebayooshingbesan/opt/anaconda3/envs/molformer/lib/python3.10/site-packages/alibi/explainers/cfproto.py:123: The name tf.keras.backend.get_session is deprecated. Please use tf.compat.v1.keras.backend.get_session instead.\n",
      "\n"
     ]
    },
    {
     "name": "stderr",
     "output_type": "stream",
     "text": [
      "2022-11-13 16:49:58.966269: I tensorflow/core/platform/cpu_feature_guard.cc:193] This TensorFlow binary is optimized with oneAPI Deep Neural Network Library (oneDNN) to use the following CPU instructions in performance-critical operations:  AVX2 FMA\n",
      "To enable them in other operations, rebuild TensorFlow with the appropriate compiler flags.\n",
      "No encoder specified. Using k-d trees to represent class prototypes.\n",
      "2022-11-13 16:49:59.233441: I tensorflow/compiler/mlir/mlir_graph_optimization_pass.cc:354] MLIR V1 optimization pass is not enabled\n"
     ]
    },
    {
     "name": "stdout",
     "output_type": "stream",
     "text": [
      "Original: \n"
     ]
    },
    {
     "data": {
      "text/html": [
       "<div>\n",
       "<style scoped>\n",
       "    .dataframe tbody tr th:only-of-type {\n",
       "        vertical-align: middle;\n",
       "    }\n",
       "\n",
       "    .dataframe tbody tr th {\n",
       "        vertical-align: top;\n",
       "    }\n",
       "\n",
       "    .dataframe thead th {\n",
       "        text-align: right;\n",
       "    }\n",
       "</style>\n",
       "<table border=\"1\" class=\"dataframe\">\n",
       "  <thead>\n",
       "    <tr style=\"text-align: right;\">\n",
       "      <th></th>\n",
       "      <th>Gender</th>\n",
       "      <th>Neighbourhood</th>\n",
       "      <th>Scholarship</th>\n",
       "      <th>Hipertension</th>\n",
       "      <th>Diabetes</th>\n",
       "      <th>Alcoholism</th>\n",
       "      <th>SMS_received</th>\n",
       "      <th>Handcap</th>\n",
       "      <th>Age</th>\n",
       "      <th>ScheduleDays</th>\n",
       "    </tr>\n",
       "  </thead>\n",
       "  <tbody>\n",
       "    <tr>\n",
       "      <th>0</th>\n",
       "      <td>F</td>\n",
       "      <td>REDENÇÃO</td>\n",
       "      <td>0</td>\n",
       "      <td>1</td>\n",
       "      <td>1</td>\n",
       "      <td>0</td>\n",
       "      <td>0</td>\n",
       "      <td>0</td>\n",
       "      <td>57</td>\n",
       "      <td>14</td>\n",
       "    </tr>\n",
       "  </tbody>\n",
       "</table>\n",
       "</div>"
      ],
      "text/plain": [
       "  Gender Neighbourhood  Scholarship  Hipertension  Diabetes  Alcoholism  \\\n",
       "0      F      REDENÇÃO            0             1         1           0   \n",
       "\n",
       "   SMS_received  Handcap  Age  ScheduleDays  \n",
       "0             0        0   57            14  "
      ]
     },
     "metadata": {},
     "output_type": "display_data"
    },
    {
     "name": "stdout",
     "output_type": "stream",
     "text": [
      "\n",
      "Kept counterfactual generation: \n"
     ]
    },
    {
     "data": {
      "text/html": [
       "<style type=\"text/css\">\n",
       "#T_dd7cf_row0_col0, #T_dd7cf_row0_col1, #T_dd7cf_row0_col2, #T_dd7cf_row0_col3, #T_dd7cf_row0_col4, #T_dd7cf_row0_col5, #T_dd7cf_row0_col6, #T_dd7cf_row0_col8, #T_dd7cf_row0_col9 {\n",
       "  background-color: ;\n",
       "}\n",
       "#T_dd7cf_row0_col7 {\n",
       "  background-color: green;\n",
       "}\n",
       "</style>\n",
       "<table id=\"T_dd7cf\">\n",
       "  <thead>\n",
       "    <tr>\n",
       "      <th class=\"blank level0\" >&nbsp;</th>\n",
       "      <th id=\"T_dd7cf_level0_col0\" class=\"col_heading level0 col0\" >Gender</th>\n",
       "      <th id=\"T_dd7cf_level0_col1\" class=\"col_heading level0 col1\" >Neighbourhood</th>\n",
       "      <th id=\"T_dd7cf_level0_col2\" class=\"col_heading level0 col2\" >Scholarship</th>\n",
       "      <th id=\"T_dd7cf_level0_col3\" class=\"col_heading level0 col3\" >Hipertension</th>\n",
       "      <th id=\"T_dd7cf_level0_col4\" class=\"col_heading level0 col4\" >Diabetes</th>\n",
       "      <th id=\"T_dd7cf_level0_col5\" class=\"col_heading level0 col5\" >Alcoholism</th>\n",
       "      <th id=\"T_dd7cf_level0_col6\" class=\"col_heading level0 col6\" >SMS_received</th>\n",
       "      <th id=\"T_dd7cf_level0_col7\" class=\"col_heading level0 col7\" >Handcap</th>\n",
       "      <th id=\"T_dd7cf_level0_col8\" class=\"col_heading level0 col8\" >Age</th>\n",
       "      <th id=\"T_dd7cf_level0_col9\" class=\"col_heading level0 col9\" >ScheduleDays</th>\n",
       "    </tr>\n",
       "  </thead>\n",
       "  <tbody>\n",
       "    <tr>\n",
       "      <th id=\"T_dd7cf_level0_row0\" class=\"row_heading level0 row0\" >0</th>\n",
       "      <td id=\"T_dd7cf_row0_col0\" class=\"data row0 col0\" >F</td>\n",
       "      <td id=\"T_dd7cf_row0_col1\" class=\"data row0 col1\" >REDENÇÃO</td>\n",
       "      <td id=\"T_dd7cf_row0_col2\" class=\"data row0 col2\" >0</td>\n",
       "      <td id=\"T_dd7cf_row0_col3\" class=\"data row0 col3\" >1</td>\n",
       "      <td id=\"T_dd7cf_row0_col4\" class=\"data row0 col4\" >1</td>\n",
       "      <td id=\"T_dd7cf_row0_col5\" class=\"data row0 col5\" >0</td>\n",
       "      <td id=\"T_dd7cf_row0_col6\" class=\"data row0 col6\" >0</td>\n",
       "      <td id=\"T_dd7cf_row0_col7\" class=\"data row0 col7\" >1</td>\n",
       "      <td id=\"T_dd7cf_row0_col8\" class=\"data row0 col8\" >57</td>\n",
       "      <td id=\"T_dd7cf_row0_col9\" class=\"data row0 col9\" >14</td>\n",
       "    </tr>\n",
       "  </tbody>\n",
       "</table>\n"
      ],
      "text/plain": [
       "<pandas.io.formats.style.Styler at 0x7f9191c9b370>"
      ]
     },
     "metadata": {},
     "output_type": "display_data"
    },
    {
     "name": "stdout",
     "output_type": "stream",
     "text": [
      "\n",
      "Predicted:  tensor(1)  ||  Desired:  tensor(1)  ||  Orginal:  tensor(0)\n",
      "************************************************************************************************************************\n",
      "CPU times: user 6min 44s, sys: 30.3 s, total: 7min 14s\n",
      "Wall time: 1min\n"
     ]
    }
   ],
   "source": [
    "%%time\n",
    "cf_proto_cf = get_cfproto_cf(X_corpus, model, x)\n",
    "display_tabular_cfs(cf_proto_cf, model, x, desired_class, scaler, encoder, cols)"
   ]
  },
  {
   "cell_type": "code",
   "execution_count": null,
   "id": "5aa68cfb-a41b-4f11-a4c1-5a6be90dd8b4",
   "metadata": {},
   "outputs": [],
   "source": []
  },
  {
   "cell_type": "markdown",
   "id": "dcb3d996-c737-493f-b0ba-b222b76a108c",
   "metadata": {},
   "source": [
    "# Comparison"
   ]
  },
  {
   "cell_type": "code",
   "execution_count": 8,
   "id": "c8fac489-8c83-4f27-9614-d00d9388d939",
   "metadata": {},
   "outputs": [
    {
     "name": "stderr",
     "output_type": "stream",
     "text": [
      "  0%|                                                    | 0/20 [00:00<?, ?it/s]No encoder specified. Using k-d trees to represent class prototypes.\n",
      "  5%|██▏                                         | 1/20 [00:56<17:49, 56.30s/it]No encoder specified. Using k-d trees to represent class prototypes.\n",
      " 10%|████▍                                       | 2/20 [02:00<18:21, 61.21s/it]No encoder specified. Using k-d trees to represent class prototypes.\n",
      " 15%|██████▌                                     | 3/20 [03:10<18:23, 64.93s/it]No encoder specified. Using k-d trees to represent class prototypes.\n",
      " 20%|████████▊                                   | 4/20 [04:13<17:08, 64.31s/it]No encoder specified. Using k-d trees to represent class prototypes.\n",
      " 25%|███████████                                 | 5/20 [05:14<15:44, 62.99s/it]No encoder specified. Using k-d trees to represent class prototypes.\n",
      " 30%|█████████████▏                              | 6/20 [06:15<14:32, 62.32s/it]No encoder specified. Using k-d trees to represent class prototypes.\n",
      " 35%|███████████████▍                            | 7/20 [07:21<13:47, 63.62s/it]No encoder specified. Using k-d trees to represent class prototypes.\n",
      " 40%|█████████████████▌                          | 8/20 [08:28<12:53, 64.50s/it]No encoder specified. Using k-d trees to represent class prototypes.\n",
      " 45%|███████████████████▊                        | 9/20 [09:32<11:50, 64.62s/it]No encoder specified. Using k-d trees to represent class prototypes.\n",
      " 50%|█████████████████████▌                     | 10/20 [10:37<10:47, 64.71s/it]No encoder specified. Using k-d trees to represent class prototypes.\n",
      " 55%|███████████████████████▋                   | 11/20 [11:42<09:41, 64.66s/it]No encoder specified. Using k-d trees to represent class prototypes.\n",
      " 60%|█████████████████████████▊                 | 12/20 [12:48<08:41, 65.20s/it]No encoder specified. Using k-d trees to represent class prototypes.\n",
      " 65%|███████████████████████████▉               | 13/20 [13:53<07:36, 65.19s/it]No encoder specified. Using k-d trees to represent class prototypes.\n",
      " 70%|██████████████████████████████             | 14/20 [14:52<06:19, 63.17s/it]No encoder specified. Using k-d trees to represent class prototypes.\n",
      " 75%|████████████████████████████████▎          | 15/20 [15:52<05:11, 62.33s/it]No encoder specified. Using k-d trees to represent class prototypes.\n",
      " 80%|██████████████████████████████████▍        | 16/20 [16:55<04:09, 62.40s/it]No encoder specified. Using k-d trees to represent class prototypes.\n",
      " 85%|████████████████████████████████████▌      | 17/20 [17:41<02:52, 57.52s/it]No encoder specified. Using k-d trees to represent class prototypes.\n",
      " 90%|██████████████████████████████████████▋    | 18/20 [18:20<01:43, 51.92s/it]No encoder specified. Using k-d trees to represent class prototypes.\n",
      " 95%|████████████████████████████████████████▊  | 19/20 [18:56<00:47, 47.10s/it]No encoder specified. Using k-d trees to represent class prototypes.\n",
      "100%|███████████████████████████████████████████| 20/20 [19:36<00:00, 58.82s/it]\n"
     ]
    }
   ],
   "source": [
    "from tqdm import tqdm \n",
    "\n",
    "times = []\n",
    "sparsity = []\n",
    "\n",
    "for test_id in tqdm(range(20)):\n",
    "    start = time.time()\n",
    "    cfs, x, desired_class = get_simplex_cf_tabular(simplex, model, test_id, encoder)\n",
    "    end = time.time()\n",
    "    \n",
    "    start_b = time.time()\n",
    "    baseline_cfs = get_baseline_counterfactuals(model = model, target = desired_class, test = x, \\\n",
    "                                            corpus = X_corpus)\n",
    "    end_b = time.time()\n",
    "    \n",
    "    start_c = time.time()\n",
    "    cf_proto_cf = get_cfproto_cf(X_corpus, model, x)\n",
    "    end_c = time.time()\n",
    "    \n",
    "    times.append([end - start, end_b - start_b, end_c - start_c])\n",
    "    sparsity.append([(cfs[0] != x).sum(), (baseline_cfs[0] != x).sum(), (cf_proto_cf[0] != x).sum()])"
   ]
  },
  {
   "cell_type": "code",
   "execution_count": 9,
   "id": "9a96010a-f51c-4159-8a7c-f9280ae42da3",
   "metadata": {},
   "outputs": [],
   "source": [
    "pd.DataFrame(times, columns  = ['simplex', 'nn', 'cfproto']).describe().to_csv('results/hospital_times.csv')"
   ]
  },
  {
   "cell_type": "code",
   "execution_count": 10,
   "id": "e80a105d-865c-412b-bff8-e6e68e8f90cd",
   "metadata": {},
   "outputs": [],
   "source": [
    "pd.DataFrame(sparsity, columns  = ['simplex', 'nn', 'cfproto']).applymap(int).describe().to_csv('results/hospital_sparsity.csv')"
   ]
  },
  {
   "cell_type": "code",
   "execution_count": null,
   "id": "c7122179-465c-4456-9a6d-db7e5afd4d89",
   "metadata": {},
   "outputs": [],
   "source": []
  }
 ],
 "metadata": {
  "kernelspec": {
   "display_name": "molformer",
   "language": "python",
   "name": "molformer"
  },
  "language_info": {
   "codemirror_mode": {
    "name": "ipython",
    "version": 3
   },
   "file_extension": ".py",
   "mimetype": "text/x-python",
   "name": "python",
   "nbconvert_exporter": "python",
   "pygments_lexer": "ipython3",
   "version": "3.10.6"
  }
 },
 "nbformat": 4,
 "nbformat_minor": 5
}
