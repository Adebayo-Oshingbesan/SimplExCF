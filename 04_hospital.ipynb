{
 "cells": [
  {
   "cell_type": "code",
   "execution_count": 1,
   "id": "668b6156-7fed-4856-afea-0111b61733e8",
   "metadata": {
    "tags": []
   },
   "outputs": [
    {
     "name": "stderr",
     "output_type": "stream",
     "text": [
      "2023-01-30 22:20:11.874956: I tensorflow/core/platform/cpu_feature_guard.cc:193] This TensorFlow binary is optimized with oneAPI Deep Neural Network Library (oneDNN) to use the following CPU instructions in performance-critical operations:  AVX2 FMA\n",
      "To enable them in other operations, rebuild TensorFlow with the appropriate compiler flags.\n"
     ]
    }
   ],
   "source": [
    "from util import *\n",
    "\n",
    "from src.dataset import load_hospital\n",
    "from src.counterfactual import get_baseline_counterfactuals\n",
    "\n",
    "import joblib\n",
    "import time\n",
    "\n",
    "import warnings\n",
    "warnings.filterwarnings('ignore')\n",
    "                        \n",
    "# Get a model\n",
    "dataset = 'hospital'\n",
    "model, encoder, scaler = joblib.load(f'models/{dataset}.gz') # Model should have the BlackBox interface\n",
    "cols = load_columns(dataset)"
   ]
  },
  {
   "cell_type": "code",
   "execution_count": 2,
   "id": "4330d911-2504-49de-8566-6c99ffa21469",
   "metadata": {},
   "outputs": [
    {
     "name": "stdout",
     "output_type": "stream",
     "text": [
      "Weight Fitting Epoch: 2000/10000 ; Error: 24.2 ; Regulator: 216 ; Reg Factor: 1\n",
      "Weight Fitting Epoch: 4000/10000 ; Error: 6.39 ; Regulator: 21.4 ; Reg Factor: 1\n",
      "Weight Fitting Epoch: 6000/10000 ; Error: 1.39 ; Regulator: 5.64 ; Reg Factor: 1\n",
      "Weight Fitting Epoch: 8000/10000 ; Error: 0.862 ; Regulator: 1.94 ; Reg Factor: 1\n",
      "Weight Fitting Epoch: 10000/10000 ; Error: 0.714 ; Regulator: 0.72 ; Reg Factor: 1\n"
     ]
    }
   ],
   "source": [
    "loader = get_loader(dataset)\n",
    "X_corpus, _ = next(loader)\n",
    "X_test, _ = next(loader)\n",
    "\n",
    "simplex = get_simplex(model, X_corpus, X_test, verbose = True)"
   ]
  },
  {
   "cell_type": "code",
   "execution_count": 3,
   "id": "f47ec698",
   "metadata": {},
   "outputs": [
    {
     "name": "stdout",
     "output_type": "stream",
     "text": [
      "WARNING:tensorflow:From /Users/adebayooshingbesan/opt/anaconda3/envs/molformer/lib/python3.10/site-packages/alibi/explainers/cfproto.py:123: The name tf.keras.backend.get_session is deprecated. Please use tf.compat.v1.keras.backend.get_session instead.\n",
      "\n"
     ]
    },
    {
     "name": "stderr",
     "output_type": "stream",
     "text": [
      "2023-01-30 22:21:24.726033: I tensorflow/core/platform/cpu_feature_guard.cc:193] This TensorFlow binary is optimized with oneAPI Deep Neural Network Library (oneDNN) to use the following CPU instructions in performance-critical operations:  AVX2 FMA\n",
      "To enable them in other operations, rebuild TensorFlow with the appropriate compiler flags.\n",
      "No encoder specified. Using k-d trees to represent class prototypes.\n",
      "2023-01-30 22:21:24.925164: I tensorflow/compiler/mlir/mlir_graph_optimization_pass.cc:354] MLIR V1 optimization pass is not enabled\n"
     ]
    },
    {
     "name": "stdout",
     "output_type": "stream",
     "text": [
      "CPU times: user 6min 5s, sys: 29.2 s, total: 6min 34s\n",
      "Wall time: 53.5 s\n"
     ]
    }
   ],
   "source": [
    "%%time\n",
    "test_id = 1\n",
    "\n",
    "cfs, x, desired_class = get_simplex_cf_tabular(simplex, model, test_id, encoder)\n",
    "\n",
    "baseline_cfs = get_baseline_counterfactuals(model = model, target = desired_class, test = x, \\\n",
    "                                            corpus = X_corpus)\n",
    "\n",
    "cf_proto_cf = get_cfproto_cf(X_corpus, model, x)"
   ]
  },
  {
   "cell_type": "code",
   "execution_count": 4,
   "id": "46e681c0",
   "metadata": {},
   "outputs": [
    {
     "data": {
      "text/html": [
       "<style type=\"text/css\">\n",
       "#T_e9bb3_row0_col0, #T_e9bb3_row0_col1, #T_e9bb3_row0_col2, #T_e9bb3_row0_col5, #T_e9bb3_row1_col0, #T_e9bb3_row1_col1, #T_e9bb3_row1_col5, #T_e9bb3_row2_col0, #T_e9bb3_row2_col1, #T_e9bb3_row2_col2, #T_e9bb3_row2_col3, #T_e9bb3_row2_col4, #T_e9bb3_row2_col5, #T_e9bb3_row3_col0, #T_e9bb3_row3_col1, #T_e9bb3_row3_col2, #T_e9bb3_row3_col3, #T_e9bb3_row3_col4, #T_e9bb3_row3_col5, #T_e9bb3_row4_col0, #T_e9bb3_row4_col1, #T_e9bb3_row4_col2, #T_e9bb3_row4_col3, #T_e9bb3_row4_col4, #T_e9bb3_row4_col5, #T_e9bb3_row5_col0, #T_e9bb3_row5_col1, #T_e9bb3_row5_col2, #T_e9bb3_row5_col3, #T_e9bb3_row5_col4, #T_e9bb3_row5_col5, #T_e9bb3_row6_col0, #T_e9bb3_row6_col1, #T_e9bb3_row6_col2, #T_e9bb3_row6_col3, #T_e9bb3_row6_col4, #T_e9bb3_row6_col5, #T_e9bb3_row7_col0, #T_e9bb3_row8_col0, #T_e9bb3_row8_col1, #T_e9bb3_row8_col5, #T_e9bb3_row9_col0, #T_e9bb3_row9_col1, #T_e9bb3_row9_col5, #T_e9bb3_row10_col0 {\n",
       "  color: ;\n",
       "}\n",
       "#T_e9bb3_row0_col3, #T_e9bb3_row0_col4, #T_e9bb3_row1_col2, #T_e9bb3_row1_col3, #T_e9bb3_row1_col4, #T_e9bb3_row7_col1, #T_e9bb3_row7_col2, #T_e9bb3_row7_col3, #T_e9bb3_row7_col4, #T_e9bb3_row7_col5, #T_e9bb3_row8_col2, #T_e9bb3_row8_col3, #T_e9bb3_row8_col4, #T_e9bb3_row9_col2, #T_e9bb3_row9_col3, #T_e9bb3_row9_col4, #T_e9bb3_row10_col1, #T_e9bb3_row10_col2, #T_e9bb3_row10_col3, #T_e9bb3_row10_col4, #T_e9bb3_row10_col5 {\n",
       "  color: red;\n",
       "}\n",
       "</style>\n",
       "<table id=\"T_e9bb3\">\n",
       "  <thead>\n",
       "    <tr>\n",
       "      <th class=\"blank level0\" >&nbsp;</th>\n",
       "      <th id=\"T_e9bb3_level0_col0\" class=\"col_heading level0 col0\" >original</th>\n",
       "      <th id=\"T_e9bb3_level0_col1\" class=\"col_heading level0 col1\" >SimplexCF_counterfactual_1</th>\n",
       "      <th id=\"T_e9bb3_level0_col2\" class=\"col_heading level0 col2\" >SimplexCF_counterfactual_2</th>\n",
       "      <th id=\"T_e9bb3_level0_col3\" class=\"col_heading level0 col3\" >SimplexCF_counterfactual_3</th>\n",
       "      <th id=\"T_e9bb3_level0_col4\" class=\"col_heading level0 col4\" >NN_counterfactual_1</th>\n",
       "      <th id=\"T_e9bb3_level0_col5\" class=\"col_heading level0 col5\" >CFProto_counterfactual_1</th>\n",
       "    </tr>\n",
       "  </thead>\n",
       "  <tbody>\n",
       "    <tr>\n",
       "      <th id=\"T_e9bb3_level0_row0\" class=\"row_heading level0 row0\" >Gender</th>\n",
       "      <td id=\"T_e9bb3_row0_col0\" class=\"data row0 col0\" >F</td>\n",
       "      <td id=\"T_e9bb3_row0_col1\" class=\"data row0 col1\" >F</td>\n",
       "      <td id=\"T_e9bb3_row0_col2\" class=\"data row0 col2\" >F</td>\n",
       "      <td id=\"T_e9bb3_row0_col3\" class=\"data row0 col3\" >M</td>\n",
       "      <td id=\"T_e9bb3_row0_col4\" class=\"data row0 col4\" >M</td>\n",
       "      <td id=\"T_e9bb3_row0_col5\" class=\"data row0 col5\" >F</td>\n",
       "    </tr>\n",
       "    <tr>\n",
       "      <th id=\"T_e9bb3_level0_row1\" class=\"row_heading level0 row1\" >Neighbourhood</th>\n",
       "      <td id=\"T_e9bb3_row1_col0\" class=\"data row1 col0\" >FONTE GRANDE</td>\n",
       "      <td id=\"T_e9bb3_row1_col1\" class=\"data row1 col1\" >FONTE GRANDE</td>\n",
       "      <td id=\"T_e9bb3_row1_col2\" class=\"data row1 col2\" >CARATOÍRA</td>\n",
       "      <td id=\"T_e9bb3_row1_col3\" class=\"data row1 col3\" >MARIA ORTIZ</td>\n",
       "      <td id=\"T_e9bb3_row1_col4\" class=\"data row1 col4\" >MARIA ORTIZ</td>\n",
       "      <td id=\"T_e9bb3_row1_col5\" class=\"data row1 col5\" >FONTE GRANDE</td>\n",
       "    </tr>\n",
       "    <tr>\n",
       "      <th id=\"T_e9bb3_level0_row2\" class=\"row_heading level0 row2\" >Scholarship</th>\n",
       "      <td id=\"T_e9bb3_row2_col0\" class=\"data row2 col0\" >0</td>\n",
       "      <td id=\"T_e9bb3_row2_col1\" class=\"data row2 col1\" >0</td>\n",
       "      <td id=\"T_e9bb3_row2_col2\" class=\"data row2 col2\" >0</td>\n",
       "      <td id=\"T_e9bb3_row2_col3\" class=\"data row2 col3\" >0</td>\n",
       "      <td id=\"T_e9bb3_row2_col4\" class=\"data row2 col4\" >0</td>\n",
       "      <td id=\"T_e9bb3_row2_col5\" class=\"data row2 col5\" >0</td>\n",
       "    </tr>\n",
       "    <tr>\n",
       "      <th id=\"T_e9bb3_level0_row3\" class=\"row_heading level0 row3\" >Hipertension</th>\n",
       "      <td id=\"T_e9bb3_row3_col0\" class=\"data row3 col0\" >0</td>\n",
       "      <td id=\"T_e9bb3_row3_col1\" class=\"data row3 col1\" >0</td>\n",
       "      <td id=\"T_e9bb3_row3_col2\" class=\"data row3 col2\" >0</td>\n",
       "      <td id=\"T_e9bb3_row3_col3\" class=\"data row3 col3\" >0</td>\n",
       "      <td id=\"T_e9bb3_row3_col4\" class=\"data row3 col4\" >0</td>\n",
       "      <td id=\"T_e9bb3_row3_col5\" class=\"data row3 col5\" >0</td>\n",
       "    </tr>\n",
       "    <tr>\n",
       "      <th id=\"T_e9bb3_level0_row4\" class=\"row_heading level0 row4\" >Diabetes</th>\n",
       "      <td id=\"T_e9bb3_row4_col0\" class=\"data row4 col0\" >0</td>\n",
       "      <td id=\"T_e9bb3_row4_col1\" class=\"data row4 col1\" >0</td>\n",
       "      <td id=\"T_e9bb3_row4_col2\" class=\"data row4 col2\" >0</td>\n",
       "      <td id=\"T_e9bb3_row4_col3\" class=\"data row4 col3\" >0</td>\n",
       "      <td id=\"T_e9bb3_row4_col4\" class=\"data row4 col4\" >0</td>\n",
       "      <td id=\"T_e9bb3_row4_col5\" class=\"data row4 col5\" >0</td>\n",
       "    </tr>\n",
       "    <tr>\n",
       "      <th id=\"T_e9bb3_level0_row5\" class=\"row_heading level0 row5\" >Alcoholism</th>\n",
       "      <td id=\"T_e9bb3_row5_col0\" class=\"data row5 col0\" >0</td>\n",
       "      <td id=\"T_e9bb3_row5_col1\" class=\"data row5 col1\" >0</td>\n",
       "      <td id=\"T_e9bb3_row5_col2\" class=\"data row5 col2\" >0</td>\n",
       "      <td id=\"T_e9bb3_row5_col3\" class=\"data row5 col3\" >0</td>\n",
       "      <td id=\"T_e9bb3_row5_col4\" class=\"data row5 col4\" >0</td>\n",
       "      <td id=\"T_e9bb3_row5_col5\" class=\"data row5 col5\" >0</td>\n",
       "    </tr>\n",
       "    <tr>\n",
       "      <th id=\"T_e9bb3_level0_row6\" class=\"row_heading level0 row6\" >SMS_received</th>\n",
       "      <td id=\"T_e9bb3_row6_col0\" class=\"data row6 col0\" >0</td>\n",
       "      <td id=\"T_e9bb3_row6_col1\" class=\"data row6 col1\" >0</td>\n",
       "      <td id=\"T_e9bb3_row6_col2\" class=\"data row6 col2\" >0</td>\n",
       "      <td id=\"T_e9bb3_row6_col3\" class=\"data row6 col3\" >0</td>\n",
       "      <td id=\"T_e9bb3_row6_col4\" class=\"data row6 col4\" >0</td>\n",
       "      <td id=\"T_e9bb3_row6_col5\" class=\"data row6 col5\" >0</td>\n",
       "    </tr>\n",
       "    <tr>\n",
       "      <th id=\"T_e9bb3_level0_row7\" class=\"row_heading level0 row7\" >Handcap</th>\n",
       "      <td id=\"T_e9bb3_row7_col0\" class=\"data row7 col0\" >0</td>\n",
       "      <td id=\"T_e9bb3_row7_col1\" class=\"data row7 col1\" >1</td>\n",
       "      <td id=\"T_e9bb3_row7_col2\" class=\"data row7 col2\" >1</td>\n",
       "      <td id=\"T_e9bb3_row7_col3\" class=\"data row7 col3\" >1</td>\n",
       "      <td id=\"T_e9bb3_row7_col4\" class=\"data row7 col4\" >1</td>\n",
       "      <td id=\"T_e9bb3_row7_col5\" class=\"data row7 col5\" >1</td>\n",
       "    </tr>\n",
       "    <tr>\n",
       "      <th id=\"T_e9bb3_level0_row8\" class=\"row_heading level0 row8\" >Age</th>\n",
       "      <td id=\"T_e9bb3_row8_col0\" class=\"data row8 col0\" >8</td>\n",
       "      <td id=\"T_e9bb3_row8_col1\" class=\"data row8 col1\" >8</td>\n",
       "      <td id=\"T_e9bb3_row8_col2\" class=\"data row8 col2\" >28</td>\n",
       "      <td id=\"T_e9bb3_row8_col3\" class=\"data row8 col3\" >28</td>\n",
       "      <td id=\"T_e9bb3_row8_col4\" class=\"data row8 col4\" >40</td>\n",
       "      <td id=\"T_e9bb3_row8_col5\" class=\"data row8 col5\" >8</td>\n",
       "    </tr>\n",
       "    <tr>\n",
       "      <th id=\"T_e9bb3_level0_row9\" class=\"row_heading level0 row9\" >ScheduleDays</th>\n",
       "      <td id=\"T_e9bb3_row9_col0\" class=\"data row9 col0\" >30</td>\n",
       "      <td id=\"T_e9bb3_row9_col1\" class=\"data row9 col1\" >30</td>\n",
       "      <td id=\"T_e9bb3_row9_col2\" class=\"data row9 col2\" >12</td>\n",
       "      <td id=\"T_e9bb3_row9_col3\" class=\"data row9 col3\" >12</td>\n",
       "      <td id=\"T_e9bb3_row9_col4\" class=\"data row9 col4\" >11</td>\n",
       "      <td id=\"T_e9bb3_row9_col5\" class=\"data row9 col5\" >30</td>\n",
       "    </tr>\n",
       "    <tr>\n",
       "      <th id=\"T_e9bb3_level0_row10\" class=\"row_heading level0 row10\" >label</th>\n",
       "      <td id=\"T_e9bb3_row10_col0\" class=\"data row10 col0\" >0</td>\n",
       "      <td id=\"T_e9bb3_row10_col1\" class=\"data row10 col1\" >1</td>\n",
       "      <td id=\"T_e9bb3_row10_col2\" class=\"data row10 col2\" >1</td>\n",
       "      <td id=\"T_e9bb3_row10_col3\" class=\"data row10 col3\" >1</td>\n",
       "      <td id=\"T_e9bb3_row10_col4\" class=\"data row10 col4\" >1</td>\n",
       "      <td id=\"T_e9bb3_row10_col5\" class=\"data row10 col5\" >1</td>\n",
       "    </tr>\n",
       "  </tbody>\n",
       "</table>\n"
      ],
      "text/plain": [
       "<pandas.io.formats.style.Styler at 0x7febe9b1ab00>"
      ]
     },
     "metadata": {},
     "output_type": "display_data"
    }
   ],
   "source": [
    "display_tabular_cfs([cfs, baseline_cfs, cf_proto_cf], model, x, scaler, encoder, cols, f'results/{dataset}_sample')"
   ]
  },
  {
   "cell_type": "markdown",
   "id": "dcb3d996-c737-493f-b0ba-b222b76a108c",
   "metadata": {},
   "source": [
    "# Comparison"
   ]
  },
  {
   "cell_type": "code",
   "execution_count": 5,
   "id": "c8fac489-8c83-4f27-9614-d00d9388d939",
   "metadata": {},
   "outputs": [
    {
     "name": "stderr",
     "output_type": "stream",
     "text": [
      "  0%|          | 0/50 [00:00<?, ?it/s]No encoder specified. Using k-d trees to represent class prototypes.\n",
      "  2%|▏         | 1/50 [00:52<42:56, 52.59s/it]No encoder specified. Using k-d trees to represent class prototypes.\n",
      "  4%|▍         | 2/50 [01:44<41:45, 52.21s/it]No encoder specified. Using k-d trees to represent class prototypes.\n",
      "  6%|▌         | 3/50 [02:35<40:21, 51.52s/it]No encoder specified. Using k-d trees to represent class prototypes.\n",
      "  8%|▊         | 4/50 [03:26<39:30, 51.54s/it]No encoder specified. Using k-d trees to represent class prototypes.\n",
      " 10%|█         | 5/50 [04:17<38:30, 51.34s/it]No encoder specified. Using k-d trees to represent class prototypes.\n",
      " 12%|█▏        | 6/50 [05:09<37:45, 51.50s/it]No encoder specified. Using k-d trees to represent class prototypes.\n",
      " 14%|█▍        | 7/50 [06:00<36:46, 51.32s/it]No encoder specified. Using k-d trees to represent class prototypes.\n",
      " 16%|█▌        | 8/50 [06:51<35:50, 51.21s/it]No encoder specified. Using k-d trees to represent class prototypes.\n",
      " 18%|█▊        | 9/50 [07:42<34:59, 51.21s/it]No encoder specified. Using k-d trees to represent class prototypes.\n",
      " 20%|██        | 10/50 [08:34<34:11, 51.28s/it]No encoder specified. Using k-d trees to represent class prototypes.\n",
      " 22%|██▏       | 11/50 [09:24<33:12, 51.10s/it]No encoder specified. Using k-d trees to represent class prototypes.\n",
      " 24%|██▍       | 12/50 [10:16<32:24, 51.18s/it]No encoder specified. Using k-d trees to represent class prototypes.\n",
      " 26%|██▌       | 13/50 [11:07<31:35, 51.22s/it]No encoder specified. Using k-d trees to represent class prototypes.\n",
      " 28%|██▊       | 14/50 [11:59<30:50, 51.39s/it]No encoder specified. Using k-d trees to represent class prototypes.\n",
      " 30%|███       | 15/50 [12:51<30:05, 51.60s/it]No encoder specified. Using k-d trees to represent class prototypes.\n",
      " 32%|███▏      | 16/50 [13:43<29:15, 51.63s/it]No encoder specified. Using k-d trees to represent class prototypes.\n",
      " 34%|███▍      | 17/50 [14:30<27:41, 50.36s/it]No encoder specified. Using k-d trees to represent class prototypes.\n",
      " 36%|███▌      | 18/50 [15:22<27:03, 50.74s/it]No encoder specified. Using k-d trees to represent class prototypes.\n",
      " 38%|███▊      | 19/50 [16:09<25:43, 49.79s/it]No encoder specified. Using k-d trees to represent class prototypes.\n",
      " 40%|████      | 20/50 [16:52<23:51, 47.73s/it]No encoder specified. Using k-d trees to represent class prototypes.\n",
      " 42%|████▏     | 21/50 [17:34<22:13, 45.99s/it]No encoder specified. Using k-d trees to represent class prototypes.\n",
      " 44%|████▍     | 22/50 [18:18<21:06, 45.23s/it]No encoder specified. Using k-d trees to represent class prototypes.\n",
      " 46%|████▌     | 23/50 [19:02<20:12, 44.89s/it]No encoder specified. Using k-d trees to represent class prototypes.\n",
      " 48%|████▊     | 24/50 [19:55<20:30, 47.33s/it]No encoder specified. Using k-d trees to represent class prototypes.\n",
      " 50%|█████     | 25/50 [20:37<19:04, 45.78s/it]No encoder specified. Using k-d trees to represent class prototypes.\n",
      " 52%|█████▏    | 26/50 [21:17<17:38, 44.12s/it]No encoder specified. Using k-d trees to represent class prototypes.\n",
      " 54%|█████▍    | 27/50 [21:58<16:32, 43.16s/it]No encoder specified. Using k-d trees to represent class prototypes.\n",
      " 56%|█████▌    | 28/50 [22:41<15:50, 43.23s/it]No encoder specified. Using k-d trees to represent class prototypes.\n",
      " 58%|█████▊    | 29/50 [23:43<17:02, 48.69s/it]No encoder specified. Using k-d trees to represent class prototypes.\n",
      " 60%|██████    | 30/50 [24:44<17:30, 52.52s/it]No encoder specified. Using k-d trees to represent class prototypes.\n",
      " 62%|██████▏   | 31/50 [25:41<17:01, 53.79s/it]No encoder specified. Using k-d trees to represent class prototypes.\n",
      " 64%|██████▍   | 32/50 [26:38<16:26, 54.83s/it]No encoder specified. Using k-d trees to represent class prototypes.\n",
      " 66%|██████▌   | 33/50 [27:34<15:34, 54.96s/it]No encoder specified. Using k-d trees to represent class prototypes.\n",
      " 68%|██████▊   | 34/50 [28:29<14:40, 55.00s/it]No encoder specified. Using k-d trees to represent class prototypes.\n",
      " 70%|███████   | 35/50 [29:23<13:43, 54.90s/it]No encoder specified. Using k-d trees to represent class prototypes.\n",
      " 72%|███████▏  | 36/50 [30:19<12:53, 55.23s/it]No encoder specified. Using k-d trees to represent class prototypes.\n",
      " 74%|███████▍  | 37/50 [31:10<11:39, 53.83s/it]No encoder specified. Using k-d trees to represent class prototypes.\n",
      " 76%|███████▌  | 38/50 [32:04<10:48, 54.02s/it]No encoder specified. Using k-d trees to represent class prototypes.\n",
      " 78%|███████▊  | 39/50 [32:56<09:45, 53.25s/it]No encoder specified. Using k-d trees to represent class prototypes.\n",
      " 80%|████████  | 40/50 [33:42<08:32, 51.23s/it]No encoder specified. Using k-d trees to represent class prototypes.\n",
      " 82%|████████▏ | 41/50 [34:33<07:40, 51.22s/it]No encoder specified. Using k-d trees to represent class prototypes.\n",
      " 84%|████████▍ | 42/50 [35:26<06:52, 51.62s/it]No encoder specified. Using k-d trees to represent class prototypes.\n",
      " 86%|████████▌ | 43/50 [36:18<06:01, 51.63s/it]No encoder specified. Using k-d trees to represent class prototypes.\n",
      " 88%|████████▊ | 44/50 [37:10<05:11, 51.92s/it]No encoder specified. Using k-d trees to represent class prototypes.\n",
      " 90%|█████████ | 45/50 [37:57<04:11, 50.35s/it]No encoder specified. Using k-d trees to represent class prototypes.\n",
      " 92%|█████████▏| 46/50 [38:51<03:25, 51.37s/it]No encoder specified. Using k-d trees to represent class prototypes.\n",
      " 94%|█████████▍| 47/50 [39:46<02:37, 52.60s/it]No encoder specified. Using k-d trees to represent class prototypes.\n",
      " 96%|█████████▌| 48/50 [40:44<01:48, 54.11s/it]No encoder specified. Using k-d trees to represent class prototypes.\n",
      " 98%|█████████▊| 49/50 [41:40<00:54, 54.66s/it]No encoder specified. Using k-d trees to represent class prototypes.\n",
      "100%|██████████| 50/50 [42:35<00:00, 51.11s/it]\n"
     ]
    }
   ],
   "source": [
    "from tqdm import tqdm \n",
    "\n",
    "times = []\n",
    "sparsity = []\n",
    "success_rate = []\n",
    "in_distribution = []\n",
    "\n",
    "from sklearn.svm import OneClassSVM\n",
    "ood_detector = OneClassSVM()\n",
    "ood_detector.fit(X_test)\n",
    "\n",
    "for test_id in tqdm(range(50)):\n",
    "    start = time.perf_counter()\n",
    "    cfs, x, desired_class = get_simplex_cf_tabular(simplex, model, test_id, encoder, n_cfs = 1)\n",
    "    end = time.perf_counter()\n",
    "    \n",
    "    start_b = time.perf_counter()\n",
    "    baseline_cfs = get_baseline_counterfactuals(model = model, target = desired_class, test = x, \\\n",
    "                                            corpus = X_corpus)\n",
    "    end_b = time.perf_counter()\n",
    "    \n",
    "    start_c = time.perf_counter()\n",
    "    cf_proto_cf = get_cfproto_cf(X_corpus, model, x)\n",
    "    end_c = time.perf_counter()\n",
    "    \n",
    "    times.append([end - start, end_b - start_b, end_c - start_c])\n",
    "    sparsity.append([(cfs[0] != x).sum(), (baseline_cfs[0] != x).sum(), (cf_proto_cf[0] != x).sum()])\n",
    "    success_rate.append([cfs is not None, baseline_cfs is not None, cf_proto_cf is not None])\n",
    "    in_distribution.append([ood_detector.score_samples(cfs).mean(),ood_detector.score_samples(baseline_cfs).mean(), ood_detector.score_samples(cf_proto_cf).mean()])"
   ]
  },
  {
   "cell_type": "code",
   "execution_count": 8,
   "id": "9a96010a-f51c-4159-8a7c-f9280ae42da3",
   "metadata": {},
   "outputs": [],
   "source": [
    "pd.DataFrame(times, columns  = ['simplex', 'nn', 'cfproto']).describe().to_csv(f'results/{dataset}_times.csv')\n",
    "pd.DataFrame(sparsity, columns  = ['simplex', 'nn', 'cfproto']).applymap(int).describe().to_csv(f'results/{dataset}_sparsity.csv')\n",
    "pd.DataFrame(success_rate, columns  = ['simplex', 'nn', 'cfproto']).applymap(int).describe().to_csv(f'results/{dataset}_success_rate.csv')\n",
    "pd.DataFrame(in_distribution, columns  = ['simplex', 'nn', 'cfproto']).describe().to_csv(f'results/{dataset}_in_distribution.csv')"
   ]
  },
  {
   "cell_type": "markdown",
   "id": "2e45cc13",
   "metadata": {},
   "source": [
    "w_c, x_c, proj_jacobian_c = cfs_results[0][0][0] # i is what counterfactual, j is the results of that counterfactaul, k is the explanation base on corpus in i,j"
   ]
  },
  {
   "cell_type": "code",
   "execution_count": 9,
   "id": "226cf851",
   "metadata": {},
   "outputs": [
    {
     "data": {
      "text/plain": [
       "43.42385162494774"
      ]
     },
     "execution_count": 9,
     "metadata": {},
     "output_type": "execute_result"
    }
   ],
   "source": [
    "ood_detector.score_samples(X_test).mean()"
   ]
  },
  {
   "cell_type": "code",
   "execution_count": null,
   "id": "c8ea2d7c",
   "metadata": {},
   "outputs": [],
   "source": []
  }
 ],
 "metadata": {
  "kernelspec": {
   "display_name": "molformer",
   "language": "python",
   "name": "molformer"
  },
  "language_info": {
   "codemirror_mode": {
    "name": "ipython",
    "version": 3
   },
   "file_extension": ".py",
   "mimetype": "text/x-python",
   "name": "python",
   "nbconvert_exporter": "python",
   "pygments_lexer": "ipython3",
   "version": "3.10.6"
  }
 },
 "nbformat": 4,
 "nbformat_minor": 5
}
