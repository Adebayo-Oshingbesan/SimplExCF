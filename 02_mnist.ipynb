{
 "cells": [
  {
   "cell_type": "code",
   "execution_count": 1,
   "id": "cb1a0e65-cb27-43d5-bb98-feb7962a728c",
   "metadata": {},
   "outputs": [
    {
     "name": "stderr",
     "output_type": "stream",
     "text": [
      "2022-11-13 16:37:06.837963: I tensorflow/core/platform/cpu_feature_guard.cc:193] This TensorFlow binary is optimized with oneAPI Deep Neural Network Library (oneDNN) to use the following CPU instructions in performance-critical operations:  AVX2 FMA\n",
      "To enable them in other operations, rebuild TensorFlow with the appropriate compiler flags.\n"
     ]
    },
    {
     "data": {
      "text/plain": [
       "MnistModel(\n",
       "  (conv1): Conv2d(1, 10, kernel_size=(5, 5), stride=(1, 1))\n",
       "  (conv2): Conv2d(10, 20, kernel_size=(5, 5), stride=(1, 1))\n",
       "  (conv2_drop): Dropout2d(p=0.5, inplace=False)\n",
       "  (fc1): Linear(in_features=320, out_features=300, bias=True)\n",
       "  (fc2): Linear(in_features=300, out_features=10, bias=True)\n",
       ")"
      ]
     },
     "execution_count": 1,
     "metadata": {},
     "output_type": "execute_result"
    }
   ],
   "source": [
    "from util import *\n",
    "\n",
    "from src.dataset import load_mnist\n",
    "from src.counterfactual import get_baseline_counterfactuals\n",
    "import joblib\n",
    "\n",
    "import warnings\n",
    "warnings.filterwarnings('ignore')\n",
    "                        \n",
    "# Get a model\n",
    "model = joblib.load('models/mnist.gz') # Model should have the BlackBox interface\n",
    "model"
   ]
  },
  {
   "cell_type": "code",
   "execution_count": 2,
   "id": "d4de7830-8790-48ac-9830-4888f3aeabcd",
   "metadata": {},
   "outputs": [
    {
     "name": "stdout",
     "output_type": "stream",
     "text": [
      "Weight Fitting Epoch: 2000/10000 ; Error: 7.04e+03 ; Regulator: 60.3 ; Reg Factor: 1\n",
      "Weight Fitting Epoch: 4000/10000 ; Error: 3.81e+03 ; Regulator: 25.5 ; Reg Factor: 1\n",
      "Weight Fitting Epoch: 6000/10000 ; Error: 3.37e+03 ; Regulator: 14 ; Reg Factor: 1\n",
      "Weight Fitting Epoch: 8000/10000 ; Error: 3.26e+03 ; Regulator: 9.64 ; Reg Factor: 1\n",
      "Weight Fitting Epoch: 10000/10000 ; Error: 3.21e+03 ; Regulator: 7.75 ; Reg Factor: 1\n"
     ]
    }
   ],
   "source": [
    "loader = iter(load_mnist(100, train=False))\n",
    "X_corpus, _ = next(loader)\n",
    "X_test, _ = next(loader)\n",
    "\n",
    "simplex = get_simplex(model, X_corpus, X_test, verbose = True)"
   ]
  },
  {
   "cell_type": "code",
   "execution_count": 3,
   "id": "197e85cc-dbf2-4003-8bb6-73ae746a31d1",
   "metadata": {},
   "outputs": [
    {
     "name": "stdout",
     "output_type": "stream",
     "text": [
      "CPU times: user 1.59 s, sys: 21.8 ms, total: 1.61 s\n",
      "Wall time: 202 ms\n"
     ]
    }
   ],
   "source": [
    "%%time\n",
    "test_id = 1\n",
    "\n",
    "cfs, x, desired_class = get_simplex_cf_image(simplex, model, test_id, n_cfs = 1)"
   ]
  },
  {
   "cell_type": "code",
   "execution_count": 4,
   "id": "9fd0310e-1b77-409e-840d-165a86d19fca",
   "metadata": {},
   "outputs": [
    {
     "name": "stdout",
     "output_type": "stream",
     "text": [
      "Original || Counterfactual || Diff \n"
     ]
    },
    {
     "data": {
      "text/plain": [
       "<Figure size 200x600 with 0 Axes>"
      ]
     },
     "metadata": {},
     "output_type": "display_data"
    },
    {
     "data": {
      "image/png": "[encoded data removed]",
      "text/plain": [
       "<Figure size 640x480 with 3 Axes>"
      ]
     },
     "metadata": {},
     "output_type": "display_data"
    },
    {
     "name": "stdout",
     "output_type": "stream",
     "text": [
      "Predicted:  tensor(1)  ||  Desired:  tensor(1)  ||  Orginal:  tensor(8)\n",
      "Sparsity =  tensor(0.0332)\n",
      "\n"
     ]
    }
   ],
   "source": [
    "display_image_cfs(cfs, model, x, desired_class)"
   ]
  },
  {
   "cell_type": "code",
   "execution_count": null,
   "id": "a7062ec2-3413-4d0b-99c2-09505d8f601e",
   "metadata": {},
   "outputs": [],
   "source": []
  },
  {
   "cell_type": "code",
   "execution_count": 5,
   "id": "2f577c55-6d04-4c99-b83f-ba889a4ff2ca",
   "metadata": {},
   "outputs": [
    {
     "name": "stdout",
     "output_type": "stream",
     "text": [
      "Original || Counterfactual || Diff \n"
     ]
    },
    {
     "data": {
      "text/plain": [
       "<Figure size 200x600 with 0 Axes>"
      ]
     },
     "metadata": {},
     "output_type": "display_data"
    },
    {
     "data": {
      "image/png": "[encoded data removed]",
      "text/plain": [
       "<Figure size 640x480 with 3 Axes>"
      ]
     },
     "metadata": {},
     "output_type": "display_data"
    },
    {
     "name": "stdout",
     "output_type": "stream",
     "text": [
      "Predicted:  tensor(1)  ||  Desired:  tensor(1)  ||  Orginal:  tensor(8)\n",
      "Sparsity =  tensor(0.1837)\n",
      "\n"
     ]
    }
   ],
   "source": [
    "baseline_cfs = get_baseline_counterfactuals(model = model, target = desired_class, test = x, \\\n",
    "                                            corpus = X_corpus)\n",
    "display_image_cfs(baseline_cfs, model, x, desired_class)"
   ]
  },
  {
   "cell_type": "code",
   "execution_count": null,
   "id": "28d0340f-a145-4563-a42b-3f74de3eb4f7",
   "metadata": {},
   "outputs": [],
   "source": []
  },
  {
   "cell_type": "code",
   "execution_count": 8,
   "id": "7bc9c9fb-640d-470f-89bc-9fe761e8456b",
   "metadata": {},
   "outputs": [
    {
     "name": "stderr",
     "output_type": "stream",
     "text": [
      "2022-11-13 16:37:56.297160: I tensorflow/compiler/mlir/mlir_graph_optimization_pass.cc:354] MLIR V1 optimization pass is not enabled\n"
     ]
    },
    {
     "name": "stdout",
     "output_type": "stream",
     "text": [
      "Original || Counterfactual || Diff \n"
     ]
    },
    {
     "data": {
      "text/plain": [
       "<Figure size 200x600 with 0 Axes>"
      ]
     },
     "metadata": {},
     "output_type": "display_data"
    },
    {
     "data": {
      "image/png": "[encoded data removed]",
      "text/plain": [
       "<Figure size 640x480 with 3 Axes>"
      ]
     },
     "metadata": {},
     "output_type": "display_data"
    },
    {
     "name": "stdout",
     "output_type": "stream",
     "text": [
      "Predicted:  tensor(1)  ||  Desired:  tensor(1)  ||  Orginal:  tensor(8)\n",
      "Sparsity =  tensor(0.1952)\n",
      "\n",
      "CPU times: user 8min 4s, sys: 23.6 s, total: 8min 27s\n",
      "Wall time: 1min 3s\n"
     ]
    }
   ],
   "source": [
    "%%time\n",
    "cf_proto_cf = get_cf_nproto_cf(X_corpus, model, x)\n",
    "display_image_cfs(cf_proto_cf, model, x, desired_class)"
   ]
  },
  {
   "cell_type": "markdown",
   "id": "89f310d1-c5d8-4765-a1ee-3e4b2035da24",
   "metadata": {},
   "source": [
    "# Comparison"
   ]
  },
  {
   "cell_type": "code",
   "execution_count": 10,
   "id": "9369230f-7942-4785-b70d-44725d164c9c",
   "metadata": {},
   "outputs": [
    {
     "name": "stderr",
     "output_type": "stream",
     "text": [
      "100%|███████████████████████████████████████████| 20/20 [26:22<00:00, 79.14s/it]\n"
     ]
    }
   ],
   "source": [
    "from tqdm import tqdm \n",
    "import time\n",
    "\n",
    "times = []\n",
    "sparsity = []\n",
    "\n",
    "for test_id in tqdm(range(20)):\n",
    "    start = time.time()\n",
    "    cfs, x, desired_class = get_simplex_cf_image(simplex, model, test_id)\n",
    "    if cfs is None:\n",
    "        cfs = torch.ones_like(x)\n",
    "    end = time.time()\n",
    "    \n",
    "    start_b = time.time()\n",
    "    baseline_cfs = get_baseline_counterfactuals(model = model, target = desired_class, test = x, \\\n",
    "                                            corpus = X_corpus)\n",
    "    end_b = time.time()\n",
    "    \n",
    "    start_c = time.time()\n",
    "    cf_proto_cf = get_cf_nproto_cf(X_corpus, model, x)\n",
    "    end_c = time.time()\n",
    "    \n",
    "    times.append([end - start, end_b - start_b, end_c - start_c])\n",
    "    sparsity.append([(cfs[0] != x).sum(), (baseline_cfs[0] != x).sum(), (cf_proto_cf[0] != x).sum()])"
   ]
  },
  {
   "cell_type": "code",
   "execution_count": 11,
   "id": "2b69cda3-8b65-4fe5-9110-0473422c36b0",
   "metadata": {},
   "outputs": [],
   "source": [
    "pd.DataFrame(times, columns  = ['simplex', 'nn', 'cfproto']).describe().to_csv('results/mnist_times.csv')"
   ]
  },
  {
   "cell_type": "code",
   "execution_count": 12,
   "id": "c8ffeaca-25ca-40d3-9d6c-6620fb2f221b",
   "metadata": {},
   "outputs": [],
   "source": [
    "pd.DataFrame(sparsity, columns  = ['simplex', 'nn', 'cfproto']).applymap(int).describe().to_csv('results/mnist_sparsity.csv')"
   ]
  },
  {
   "cell_type": "code",
   "execution_count": null,
   "id": "ae3aad43-75d5-4651-a49d-162dd44fed78",
   "metadata": {},
   "outputs": [],
   "source": []
  },
  {
   "cell_type": "code",
   "execution_count": null,
   "id": "19394a56-9f46-47f7-a8ad-7ea9cb34de26",
   "metadata": {},
   "outputs": [],
   "source": []
  }
 ],
 "metadata": {
  "kernelspec": {
   "display_name": "molformer",
   "language": "python",
   "name": "molformer"
  },
  "language_info": {
   "codemirror_mode": {
    "name": "ipython",
    "version": 3
   },
   "file_extension": ".py",
   "mimetype": "text/x-python",
   "name": "python",
   "nbconvert_exporter": "python",
   "pygments_lexer": "ipython3",
   "version": "3.10.6"
  }
 },
 "nbformat": 4,
 "nbformat_minor": 5
}
