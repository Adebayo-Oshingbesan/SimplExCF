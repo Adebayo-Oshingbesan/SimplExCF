{
 "cells": [
  {
   "cell_type": "code",
   "execution_count": 1,
   "id": "cb1a0e65-cb27-43d5-bb98-feb7962a728c",
   "metadata": {},
   "outputs": [
    {
     "data": {
      "text/plain": [
       "MnistModel(\n",
       "  (conv1): Conv2d(1, 10, kernel_size=(5, 5), stride=(1, 1))\n",
       "  (conv2): Conv2d(10, 20, kernel_size=(5, 5), stride=(1, 1))\n",
       "  (conv2_drop): Dropout2d(p=0.5, inplace=False)\n",
       "  (fc1): Linear(in_features=320, out_features=300, bias=True)\n",
       "  (fc2): Linear(in_features=300, out_features=10, bias=True)\n",
       ")"
      ]
     },
     "execution_count": 1,
     "metadata": {},
     "output_type": "execute_result"
    }
   ],
   "source": [
    "from util import *\n",
    "\n",
    "from src.dataset import load_mnist\n",
    "from src.counterfactual import get_baseline_counterfactuals\n",
    "import joblib\n",
    "\n",
    "import warnings\n",
    "warnings.filterwarnings('ignore')\n",
    "                        \n",
    "# Get a model\n",
    "model = joblib.load('models/mnist.gz') # Model should have the BlackBox interface\n",
    "model"
   ]
  },
  {
   "cell_type": "code",
   "execution_count": 2,
   "id": "d4de7830-8790-48ac-9830-4888f3aeabcd",
   "metadata": {},
   "outputs": [
    {
     "name": "stdout",
     "output_type": "stream",
     "text": [
      "Weight Fitting Epoch: 2000/10000 ; Error: 7.23e+03 ; Regulator: 57.2 ; Reg Factor: 1\n",
      "Weight Fitting Epoch: 4000/10000 ; Error: 3.77e+03 ; Regulator: 22.6 ; Reg Factor: 1\n",
      "Weight Fitting Epoch: 6000/10000 ; Error: 3.34e+03 ; Regulator: 11.9 ; Reg Factor: 1\n",
      "Weight Fitting Epoch: 8000/10000 ; Error: 3.23e+03 ; Regulator: 7.97 ; Reg Factor: 1\n",
      "Weight Fitting Epoch: 10000/10000 ; Error: 3.18e+03 ; Regulator: 6.11 ; Reg Factor: 1\n"
     ]
    }
   ],
   "source": [
    "loader = iter(load_mnist(100, train=False))\n",
    "X_corpus, _ = next(loader)\n",
    "X_test, _ = next(loader)\n",
    "\n",
    "simplex = get_simplex(model, X_corpus, X_test, verbose = True)"
   ]
  },
  {
   "cell_type": "code",
   "execution_count": 3,
   "id": "197e85cc-dbf2-4003-8bb6-73ae746a31d1",
   "metadata": {},
   "outputs": [
    {
     "name": "stderr",
     "output_type": "stream",
     "text": [
      " 50%|████████████████████▌                    | 50/100 [00:00<00:00, 278.94it/s]\n"
     ]
    }
   ],
   "source": [
    "i = 10\n",
    "\n",
    "x = simplex.test_examples[i:i+1]\n",
    "desired_class = model(x).topk(2).indices[0,1]\n",
    "\n",
    "baseline_cfs = get_baseline_counterfactuals(model = model, target = desired_class, test = x, corpus = X_corpus)\n",
    "cfs = simplex.get_counterfactuals(test_id = i, model = model, min_epochs = 50)"
   ]
  },
  {
   "cell_type": "code",
   "execution_count": 4,
   "id": "9fd0310e-1b77-409e-840d-165a86d19fca",
   "metadata": {},
   "outputs": [
    {
     "name": "stdout",
     "output_type": "stream",
     "text": [
      "Original || Counterfactual || Diff \n"
     ]
    },
    {
     "data": {
      "text/plain": [
       "<Figure size 200x600 with 0 Axes>"
      ]
     },
     "metadata": {},
     "output_type": "display_data"
    },
    {
     "data": {
      "image/png": "[encoded data removed]",
      "text/plain": [
       "<Figure size 640x480 with 3 Axes>"
      ]
     },
     "metadata": {},
     "output_type": "display_data"
    },
    {
     "name": "stdout",
     "output_type": "stream",
     "text": [
      "Predicted:  tensor(8)  ||  Desired:  tensor(8)  ||  Orginal:  tensor(2)\n",
      "Sparsity =  tensor(0.0434)\n",
      "\n"
     ]
    }
   ],
   "source": [
    "display_image_cfs(cfs, model, x, desired_class)"
   ]
  },
  {
   "cell_type": "code",
   "execution_count": null,
   "id": "a7062ec2-3413-4d0b-99c2-09505d8f601e",
   "metadata": {},
   "outputs": [],
   "source": []
  },
  {
   "cell_type": "code",
   "execution_count": 5,
   "id": "2f577c55-6d04-4c99-b83f-ba889a4ff2ca",
   "metadata": {},
   "outputs": [
    {
     "name": "stdout",
     "output_type": "stream",
     "text": [
      "Original || Counterfactual || Diff \n"
     ]
    },
    {
     "data": {
      "text/plain": [
       "<Figure size 200x600 with 0 Axes>"
      ]
     },
     "metadata": {},
     "output_type": "display_data"
    },
    {
     "data": {
      "image/png": "[encoded data removed]",
      "text/plain": [
       "<Figure size 640x480 with 3 Axes>"
      ]
     },
     "metadata": {},
     "output_type": "display_data"
    },
    {
     "name": "stdout",
     "output_type": "stream",
     "text": [
      "Predicted:  tensor(8)  ||  Desired:  tensor(8)  ||  Orginal:  tensor(2)\n",
      "Sparsity =  tensor(0.2908)\n",
      "\n"
     ]
    }
   ],
   "source": [
    "display_image_cfs(baseline_cfs, model, x, desired_class)"
   ]
  },
  {
   "cell_type": "code",
   "execution_count": null,
   "id": "28d0340f-a145-4563-a42b-3f74de3eb4f7",
   "metadata": {},
   "outputs": [],
   "source": []
  },
  {
   "cell_type": "code",
   "execution_count": null,
   "id": "19394a56-9f46-47f7-a8ad-7ea9cb34de26",
   "metadata": {},
   "outputs": [],
   "source": []
  }
 ],
 "metadata": {
  "kernelspec": {
   "display_name": "molformer",
   "language": "python",
   "name": "molformer"
  },
  "language_info": {
   "codemirror_mode": {
    "name": "ipython",
    "version": 3
   },
   "file_extension": ".py",
   "mimetype": "text/x-python",
   "name": "python",
   "nbconvert_exporter": "python",
   "pygments_lexer": "ipython3",
   "version": "3.10.6"
  }
 },
 "nbformat": 4,
 "nbformat_minor": 5
}
