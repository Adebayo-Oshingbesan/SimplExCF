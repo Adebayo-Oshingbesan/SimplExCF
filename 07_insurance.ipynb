{
 "cells": [
  {
   "cell_type": "code",
   "execution_count": 1,
   "id": "668b6156-7fed-4856-afea-0111b61733e8",
   "metadata": {},
   "outputs": [],
   "source": [
    "from src.dataset import load_insurance\n",
    "from src.counterfactual import get_counterfactuals\n",
    "from src.model import train_model\n",
    "\n",
    "import joblib\n",
    "import numpy as np\n",
    "import pandas as pd\n",
    "import torch\n",
    "\n",
    "import warnings\n",
    "warnings.filterwarnings('ignore')"
   ]
  },
  {
   "cell_type": "code",
   "execution_count": 2,
   "id": "ef74b3c9-69cd-47e3-8381-d520b8ba0074",
   "metadata": {},
   "outputs": [
    {
     "name": "stdout",
     "output_type": "stream",
     "text": [
      "\n",
      "Test set: Avg. loss: 44.5552, Accuracy: 0/134(0%)\n",
      "\n",
      "Train Epoch: 1 [0/1204 (0%)]\tLoss: 0.317271\n",
      "\n",
      "Test set: Avg. loss: 12.1225, Accuracy: 0/134(0%)\n",
      "\n",
      "Train Epoch: 2 [0/1204 (0%)]\tLoss: 0.068410\n",
      "\n",
      "Test set: Avg. loss: 13.1770, Accuracy: 0/134(0%)\n",
      "\n",
      "Train Epoch: 3 [0/1204 (0%)]\tLoss: 0.095431\n",
      "\n",
      "Test set: Avg. loss: 12.1355, Accuracy: 0/134(0%)\n",
      "\n",
      "Train Epoch: 4 [0/1204 (0%)]\tLoss: 0.080463\n",
      "\n",
      "Test set: Avg. loss: 12.1434, Accuracy: 0/134(0%)\n",
      "\n",
      "Train Epoch: 5 [0/1204 (0%)]\tLoss: 0.081439\n",
      "\n",
      "Test set: Avg. loss: 12.1079, Accuracy: 0/134(0%)\n",
      "\n",
      "Train Epoch: 6 [0/1204 (0%)]\tLoss: 0.069324\n",
      "\n",
      "Test set: Avg. loss: 12.1549, Accuracy: 0/134(0%)\n",
      "\n",
      "Train Epoch: 7 [0/1204 (0%)]\tLoss: 0.082426\n",
      "\n",
      "Test set: Avg. loss: 12.1438, Accuracy: 0/134(0%)\n",
      "\n",
      "Train Epoch: 8 [0/1204 (0%)]\tLoss: 0.092547\n",
      "\n",
      "Test set: Avg. loss: 12.1243, Accuracy: 0/134(0%)\n",
      "\n",
      "Train Epoch: 9 [0/1204 (0%)]\tLoss: 0.081346\n",
      "\n",
      "Test set: Avg. loss: 12.3783, Accuracy: 0/134(0%)\n",
      "\n",
      "Train Epoch: 10 [0/1204 (0%)]\tLoss: 0.082243\n",
      "\n",
      "Test set: Avg. loss: 12.1100, Accuracy: 0/134(0%)\n",
      "\n"
     ]
    }
   ],
   "source": [
    "model, encoder, scaler = train_model(device = 'cpu', dataset = 'insurance', n_epoch = 10, \\\n",
    "                                     batch_size_train = 64, learning_rate = .1)"
   ]
  },
  {
   "cell_type": "markdown",
   "id": "52a4c6f0-a82c-43e0-bad8-c3fa3b2a86e6",
   "metadata": {},
   "source": [
    "model, encoder, scaler = joblib.load('models/hospital.gz')"
   ]
  },
  {
   "cell_type": "code",
   "execution_count": 5,
   "id": "13b5a1ff-0207-4d2a-a955-8adbe800ff13",
   "metadata": {},
   "outputs": [
    {
     "data": {
      "text/plain": [
       "'>0.09211967885494232'"
      ]
     },
     "execution_count": 5,
     "metadata": {},
     "output_type": "execute_result"
    }
   ],
   "source": [
    "loader = iter(load_insurance(100, train=False))\n",
    "X_corpus, _ = next(loader)\n",
    "X_test, _ = next(loader)\n",
    "\n",
    "x = X_test[0:1]\n",
    "desired_class = f'>{float(model(x))}'\n",
    "desired_class"
   ]
  },
  {
   "cell_type": "code",
   "execution_count": 6,
   "id": "a41943a9-0547-4b62-afc1-9830b8a748ab",
   "metadata": {},
   "outputs": [
    {
     "data": {
      "text/plain": [
       "[0, 1, 2, 3]"
      ]
     },
     "execution_count": 6,
     "metadata": {},
     "output_type": "execute_result"
    }
   ],
   "source": [
    "cat_indices = list(range(len(encoder.cols)))\n",
    "cat_indices"
   ]
  },
  {
   "cell_type": "code",
   "execution_count": 7,
   "id": "e4c8ae68-74e0-42ff-8292-724b16aea378",
   "metadata": {},
   "outputs": [
    {
     "ename": "TypeError",
     "evalue": "get_counterfactuals() missing 1 required positional argument: 'test_latent_approx'",
     "output_type": "error",
     "traceback": [
      "\u001b[0;31m---------------------------------------------------------------------------\u001b[0m",
      "\u001b[0;31mTypeError\u001b[0m                                 Traceback (most recent call last)",
      "File \u001b[0;32m<timed exec>:1\u001b[0m\n",
      "\u001b[0;31mTypeError\u001b[0m: get_counterfactuals() missing 1 required positional argument: 'test_latent_approx'"
     ]
    }
   ],
   "source": [
    "%%time\n",
    "cfs = get_counterfactuals(model = model , corpus = X_corpus, test = x, \\\n",
    "                        target = desired_class, n_counterfactuals = 10,  \n",
    "                          cat_indices = cat_indices)"
   ]
  },
  {
   "cell_type": "code",
   "execution_count": null,
   "id": "ef85de68-7df4-4b6e-9e2d-8151cea3ad9c",
   "metadata": {},
   "outputs": [],
   "source": [
    "cols = ['Gender', 'Neighbourhood', 'Scholarship', 'Hipertension', 'Diabetes', \\\n",
    "       'Alcoholism', 'SMS_received', 'Handcap', 'Age', 'ScheduleDays']\n",
    "\n",
    "def transform(inp):\n",
    "    return torch.Tensor(scaler.transform(encoder.transform(inp)))\n",
    "\n",
    "def inverse_transform(inp, columns = cols, round_ = True):\n",
    "    inp = scaler.inverse_transform(inp.detach().numpy())\n",
    "    if round_:\n",
    "        inp = np.round(inp,0).astype(int)\n",
    "    return encoder.inverse_transform(pd.DataFrame(inp, columns = columns))"
   ]
  },
  {
   "cell_type": "code",
   "execution_count": null,
   "id": "b61612a7-fb1f-48b3-aef0-a4a9eb743fad",
   "metadata": {},
   "outputs": [],
   "source": [
    "def color_boolean(val):\n",
    "    return f'background-color: {\"green\" if val else \"\"}'"
   ]
  },
  {
   "cell_type": "code",
   "execution_count": null,
   "id": "04680e87-56d7-44ba-8ea4-ae8d97861e5b",
   "metadata": {},
   "outputs": [],
   "source": [
    "print('Original: ')\n",
    "display(inverse_transform(x))\n",
    "print()\n",
    "\n",
    "if cfs is None:\n",
    "    print('No counterfactuals found!')\n",
    "else:\n",
    "    for kept_cf in cfs:\n",
    "        kept_cf = kept_cf.reshape(1,*kept_cf.shape)\n",
    "\n",
    "        diff = (inverse_transform(x) != inverse_transform(kept_cf))\n",
    "        #print(diff)\n",
    "        #print()\n",
    "\n",
    "        print('Kept counterfactual generation: ')\n",
    "        display(inverse_transform(kept_cf).style.apply(lambda _: diff.applymap(color_boolean), axis=None))\n",
    "        print()\n",
    "\n",
    "        # print('Sparsity: ', int(diff.values.sum()))\n",
    "        # print()\n",
    "\n",
    "        print('Predicted: ', model(torch.Tensor(kept_cf)).argmax(), ' || ', 'Desired: ', desired_class, ' || ', 'Orginal: ',  model(x).argmax())\n",
    "\n",
    "        print('*'*120)"
   ]
  },
  {
   "cell_type": "code",
   "execution_count": null,
   "id": "e3fd395c-9f8b-4164-8c68-5a12b14e0f02",
   "metadata": {},
   "outputs": [],
   "source": []
  }
 ],
 "metadata": {
  "kernelspec": {
   "display_name": "molformer",
   "language": "python",
   "name": "molformer"
  },
  "language_info": {
   "codemirror_mode": {
    "name": "ipython",
    "version": 3
   },
   "file_extension": ".py",
   "mimetype": "text/x-python",
   "name": "python",
   "nbconvert_exporter": "python",
   "pygments_lexer": "ipython3",
   "version": "3.10.6"
  }
 },
 "nbformat": 4,
 "nbformat_minor": 5
}
