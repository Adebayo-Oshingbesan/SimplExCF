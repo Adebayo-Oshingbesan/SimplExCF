{
 "cells": [
  {
   "cell_type": "code",
   "execution_count": 1,
   "id": "668b6156-7fed-4856-afea-0111b61733e8",
   "metadata": {},
   "outputs": [
    {
     "data": {
      "text/plain": [
       "TabularModel(\n",
       "  (lin1): Linear(in_features=12, out_features=200, bias=True)\n",
       "  (lin2): Linear(in_features=200, out_features=50, bias=True)\n",
       "  (lin3): Linear(in_features=50, out_features=2, bias=True)\n",
       "  (bn1): BatchNorm1d(4, eps=1e-05, momentum=0.1, affine=True, track_running_stats=True)\n",
       "  (drops): Dropout(p=0.3, inplace=False)\n",
       ")"
      ]
     },
     "execution_count": 1,
     "metadata": {},
     "output_type": "execute_result"
    }
   ],
   "source": [
    "from util import *\n",
    "\n",
    "from src.dataset import load_adult\n",
    "from src.counterfactual import get_baseline_counterfactuals\n",
    "import joblib\n",
    "\n",
    "import warnings\n",
    "warnings.filterwarnings('ignore')\n",
    "                        \n",
    "# Get a model\n",
    "model, encoder, scaler = joblib.load('models/adult.gz') # Model should have the BlackBox interface\n",
    "model"
   ]
  },
  {
   "cell_type": "code",
   "execution_count": 2,
   "id": "4330d911-2504-49de-8566-6c99ffa21469",
   "metadata": {},
   "outputs": [
    {
     "name": "stdout",
     "output_type": "stream",
     "text": [
      "Weight Fitting Epoch: 2000/10000 ; Error: 6.72 ; Regulator: 39.9 ; Reg Factor: 1\n",
      "Weight Fitting Epoch: 4000/10000 ; Error: 2.12 ; Regulator: 5.96 ; Reg Factor: 1\n",
      "Weight Fitting Epoch: 6000/10000 ; Error: 1.36 ; Regulator: 1.63 ; Reg Factor: 1\n",
      "Weight Fitting Epoch: 8000/10000 ; Error: 1.15 ; Regulator: 0.544 ; Reg Factor: 1\n",
      "Weight Fitting Epoch: 10000/10000 ; Error: 1.08 ; Regulator: 0.197 ; Reg Factor: 1\n"
     ]
    }
   ],
   "source": [
    "loader = iter(load_adult(100, train=False))\n",
    "X_corpus, _ = next(loader)\n",
    "X_test, _ = next(loader)\n",
    "\n",
    "simplex = get_simplex(model, X_corpus, X_test, verbose = True)"
   ]
  },
  {
   "cell_type": "code",
   "execution_count": 3,
   "id": "8d91357d-2011-47df-ba10-8043e40864ba",
   "metadata": {},
   "outputs": [
    {
     "name": "stderr",
     "output_type": "stream",
     "text": [
      " 19%|███████▊                                 | 19/100 [00:00<00:00, 548.51it/s]\n"
     ]
    }
   ],
   "source": [
    "i = 40\n",
    "n_cfs = 5\n",
    "\n",
    "x = simplex.test_examples[i:i+1]\n",
    "desired_class = model(x).topk(2).indices[0,1]\n",
    "cat_indices = list(range(len(encoder.cols)))\n",
    "\n",
    "baseline_cfs = get_baseline_counterfactuals(model = model, target = desired_class, test = x, \\\n",
    "                                            corpus = X_corpus, n_counterfactuals = n_cfs)\n",
    "\n",
    "cfs = simplex.get_counterfactuals(test_id = i, model = model, n_counterfactuals = n_cfs, cat_indices = cat_indices, \\\n",
    "                                  mask = torch.Tensor([1,1,1,0,0,0,0,0,0,0,1,0]))"
   ]
  },
  {
   "cell_type": "code",
   "execution_count": 4,
   "id": "a41943a9-0547-4b62-afc1-9830b8a748ab",
   "metadata": {},
   "outputs": [
    {
     "name": "stdout",
     "output_type": "stream",
     "text": [
      "Original: \n"
     ]
    },
    {
     "data": {
      "text/html": [
       "<div>\n",
       "<style scoped>\n",
       "    .dataframe tbody tr th:only-of-type {\n",
       "        vertical-align: middle;\n",
       "    }\n",
       "\n",
       "    .dataframe tbody tr th {\n",
       "        vertical-align: top;\n",
       "    }\n",
       "\n",
       "    .dataframe thead th {\n",
       "        text-align: right;\n",
       "    }\n",
       "</style>\n",
       "<table border=\"1\" class=\"dataframe\">\n",
       "  <thead>\n",
       "    <tr style=\"text-align: right;\">\n",
       "      <th></th>\n",
       "      <th>workclass</th>\n",
       "      <th>education</th>\n",
       "      <th>marital-status</th>\n",
       "      <th>occupation</th>\n",
       "      <th>relationship</th>\n",
       "      <th>race</th>\n",
       "      <th>gender</th>\n",
       "      <th>native-country</th>\n",
       "      <th>capital-gain</th>\n",
       "      <th>capital-loss</th>\n",
       "      <th>hours-per-week</th>\n",
       "      <th>age</th>\n",
       "    </tr>\n",
       "  </thead>\n",
       "  <tbody>\n",
       "    <tr>\n",
       "      <th>0</th>\n",
       "      <td>Self-emp-not-inc</td>\n",
       "      <td>HS-grad</td>\n",
       "      <td>Married-civ-spouse</td>\n",
       "      <td>Craft-repair</td>\n",
       "      <td>Husband</td>\n",
       "      <td>White</td>\n",
       "      <td>Male</td>\n",
       "      <td>United-States</td>\n",
       "      <td>0</td>\n",
       "      <td>0</td>\n",
       "      <td>40</td>\n",
       "      <td>33</td>\n",
       "    </tr>\n",
       "  </tbody>\n",
       "</table>\n",
       "</div>"
      ],
      "text/plain": [
       "          workclass education      marital-status    occupation relationship  \\\n",
       "0  Self-emp-not-inc   HS-grad  Married-civ-spouse  Craft-repair      Husband   \n",
       "\n",
       "    race gender native-country  capital-gain  capital-loss  hours-per-week  \\\n",
       "0  White   Male  United-States             0             0              40   \n",
       "\n",
       "   age  \n",
       "0   33  "
      ]
     },
     "metadata": {},
     "output_type": "display_data"
    },
    {
     "name": "stdout",
     "output_type": "stream",
     "text": [
      "\n",
      "Kept counterfactual generation: \n"
     ]
    },
    {
     "data": {
      "text/html": [
       "<style type=\"text/css\">\n",
       "#T_62bd7_row0_col0, #T_62bd7_row0_col2, #T_62bd7_row0_col3, #T_62bd7_row0_col4, #T_62bd7_row0_col5, #T_62bd7_row0_col6, #T_62bd7_row0_col7, #T_62bd7_row0_col8, #T_62bd7_row0_col9, #T_62bd7_row0_col10, #T_62bd7_row0_col11 {\n",
       "  background-color: ;\n",
       "}\n",
       "#T_62bd7_row0_col1 {\n",
       "  background-color: green;\n",
       "}\n",
       "</style>\n",
       "<table id=\"T_62bd7\">\n",
       "  <thead>\n",
       "    <tr>\n",
       "      <th class=\"blank level0\" >&nbsp;</th>\n",
       "      <th id=\"T_62bd7_level0_col0\" class=\"col_heading level0 col0\" >workclass</th>\n",
       "      <th id=\"T_62bd7_level0_col1\" class=\"col_heading level0 col1\" >education</th>\n",
       "      <th id=\"T_62bd7_level0_col2\" class=\"col_heading level0 col2\" >marital-status</th>\n",
       "      <th id=\"T_62bd7_level0_col3\" class=\"col_heading level0 col3\" >occupation</th>\n",
       "      <th id=\"T_62bd7_level0_col4\" class=\"col_heading level0 col4\" >relationship</th>\n",
       "      <th id=\"T_62bd7_level0_col5\" class=\"col_heading level0 col5\" >race</th>\n",
       "      <th id=\"T_62bd7_level0_col6\" class=\"col_heading level0 col6\" >gender</th>\n",
       "      <th id=\"T_62bd7_level0_col7\" class=\"col_heading level0 col7\" >native-country</th>\n",
       "      <th id=\"T_62bd7_level0_col8\" class=\"col_heading level0 col8\" >capital-gain</th>\n",
       "      <th id=\"T_62bd7_level0_col9\" class=\"col_heading level0 col9\" >capital-loss</th>\n",
       "      <th id=\"T_62bd7_level0_col10\" class=\"col_heading level0 col10\" >hours-per-week</th>\n",
       "      <th id=\"T_62bd7_level0_col11\" class=\"col_heading level0 col11\" >age</th>\n",
       "    </tr>\n",
       "  </thead>\n",
       "  <tbody>\n",
       "    <tr>\n",
       "      <th id=\"T_62bd7_level0_row0\" class=\"row_heading level0 row0\" >0</th>\n",
       "      <td id=\"T_62bd7_row0_col0\" class=\"data row0 col0\" >Self-emp-not-inc</td>\n",
       "      <td id=\"T_62bd7_row0_col1\" class=\"data row0 col1\" >Bachelors</td>\n",
       "      <td id=\"T_62bd7_row0_col2\" class=\"data row0 col2\" >Married-civ-spouse</td>\n",
       "      <td id=\"T_62bd7_row0_col3\" class=\"data row0 col3\" >Craft-repair</td>\n",
       "      <td id=\"T_62bd7_row0_col4\" class=\"data row0 col4\" >Husband</td>\n",
       "      <td id=\"T_62bd7_row0_col5\" class=\"data row0 col5\" >White</td>\n",
       "      <td id=\"T_62bd7_row0_col6\" class=\"data row0 col6\" >Male</td>\n",
       "      <td id=\"T_62bd7_row0_col7\" class=\"data row0 col7\" >United-States</td>\n",
       "      <td id=\"T_62bd7_row0_col8\" class=\"data row0 col8\" >0</td>\n",
       "      <td id=\"T_62bd7_row0_col9\" class=\"data row0 col9\" >0</td>\n",
       "      <td id=\"T_62bd7_row0_col10\" class=\"data row0 col10\" >40</td>\n",
       "      <td id=\"T_62bd7_row0_col11\" class=\"data row0 col11\" >33</td>\n",
       "    </tr>\n",
       "  </tbody>\n",
       "</table>\n"
      ],
      "text/plain": [
       "<pandas.io.formats.style.Styler at 0x7fd398ea7970>"
      ]
     },
     "metadata": {},
     "output_type": "display_data"
    },
    {
     "name": "stdout",
     "output_type": "stream",
     "text": [
      "\n",
      "Predicted:  tensor(1)  ||  Desired:  tensor(1)  ||  Orginal:  tensor(0)\n",
      "************************************************************************************************************************\n",
      "Kept counterfactual generation: \n"
     ]
    },
    {
     "data": {
      "text/html": [
       "<style type=\"text/css\">\n",
       "#T_bb7a8_row0_col0, #T_bb7a8_row0_col2, #T_bb7a8_row0_col3, #T_bb7a8_row0_col4, #T_bb7a8_row0_col5, #T_bb7a8_row0_col6, #T_bb7a8_row0_col7, #T_bb7a8_row0_col8, #T_bb7a8_row0_col9, #T_bb7a8_row0_col11 {\n",
       "  background-color: ;\n",
       "}\n",
       "#T_bb7a8_row0_col1, #T_bb7a8_row0_col10 {\n",
       "  background-color: green;\n",
       "}\n",
       "</style>\n",
       "<table id=\"T_bb7a8\">\n",
       "  <thead>\n",
       "    <tr>\n",
       "      <th class=\"blank level0\" >&nbsp;</th>\n",
       "      <th id=\"T_bb7a8_level0_col0\" class=\"col_heading level0 col0\" >workclass</th>\n",
       "      <th id=\"T_bb7a8_level0_col1\" class=\"col_heading level0 col1\" >education</th>\n",
       "      <th id=\"T_bb7a8_level0_col2\" class=\"col_heading level0 col2\" >marital-status</th>\n",
       "      <th id=\"T_bb7a8_level0_col3\" class=\"col_heading level0 col3\" >occupation</th>\n",
       "      <th id=\"T_bb7a8_level0_col4\" class=\"col_heading level0 col4\" >relationship</th>\n",
       "      <th id=\"T_bb7a8_level0_col5\" class=\"col_heading level0 col5\" >race</th>\n",
       "      <th id=\"T_bb7a8_level0_col6\" class=\"col_heading level0 col6\" >gender</th>\n",
       "      <th id=\"T_bb7a8_level0_col7\" class=\"col_heading level0 col7\" >native-country</th>\n",
       "      <th id=\"T_bb7a8_level0_col8\" class=\"col_heading level0 col8\" >capital-gain</th>\n",
       "      <th id=\"T_bb7a8_level0_col9\" class=\"col_heading level0 col9\" >capital-loss</th>\n",
       "      <th id=\"T_bb7a8_level0_col10\" class=\"col_heading level0 col10\" >hours-per-week</th>\n",
       "      <th id=\"T_bb7a8_level0_col11\" class=\"col_heading level0 col11\" >age</th>\n",
       "    </tr>\n",
       "  </thead>\n",
       "  <tbody>\n",
       "    <tr>\n",
       "      <th id=\"T_bb7a8_level0_row0\" class=\"row_heading level0 row0\" >0</th>\n",
       "      <td id=\"T_bb7a8_row0_col0\" class=\"data row0 col0\" >Self-emp-not-inc</td>\n",
       "      <td id=\"T_bb7a8_row0_col1\" class=\"data row0 col1\" >Bachelors</td>\n",
       "      <td id=\"T_bb7a8_row0_col2\" class=\"data row0 col2\" >Married-civ-spouse</td>\n",
       "      <td id=\"T_bb7a8_row0_col3\" class=\"data row0 col3\" >Craft-repair</td>\n",
       "      <td id=\"T_bb7a8_row0_col4\" class=\"data row0 col4\" >Husband</td>\n",
       "      <td id=\"T_bb7a8_row0_col5\" class=\"data row0 col5\" >White</td>\n",
       "      <td id=\"T_bb7a8_row0_col6\" class=\"data row0 col6\" >Male</td>\n",
       "      <td id=\"T_bb7a8_row0_col7\" class=\"data row0 col7\" >United-States</td>\n",
       "      <td id=\"T_bb7a8_row0_col8\" class=\"data row0 col8\" >0</td>\n",
       "      <td id=\"T_bb7a8_row0_col9\" class=\"data row0 col9\" >0</td>\n",
       "      <td id=\"T_bb7a8_row0_col10\" class=\"data row0 col10\" >45</td>\n",
       "      <td id=\"T_bb7a8_row0_col11\" class=\"data row0 col11\" >33</td>\n",
       "    </tr>\n",
       "  </tbody>\n",
       "</table>\n"
      ],
      "text/plain": [
       "<pandas.io.formats.style.Styler at 0x7fd398ea7b50>"
      ]
     },
     "metadata": {},
     "output_type": "display_data"
    },
    {
     "name": "stdout",
     "output_type": "stream",
     "text": [
      "\n",
      "Predicted:  tensor(1)  ||  Desired:  tensor(1)  ||  Orginal:  tensor(0)\n",
      "************************************************************************************************************************\n",
      "Kept counterfactual generation: \n"
     ]
    },
    {
     "data": {
      "text/html": [
       "<style type=\"text/css\">\n",
       "#T_f8645_row0_col0, #T_f8645_row0_col1 {\n",
       "  background-color: green;\n",
       "}\n",
       "#T_f8645_row0_col2, #T_f8645_row0_col3, #T_f8645_row0_col4, #T_f8645_row0_col5, #T_f8645_row0_col6, #T_f8645_row0_col7, #T_f8645_row0_col8, #T_f8645_row0_col9, #T_f8645_row0_col10, #T_f8645_row0_col11 {\n",
       "  background-color: ;\n",
       "}\n",
       "</style>\n",
       "<table id=\"T_f8645\">\n",
       "  <thead>\n",
       "    <tr>\n",
       "      <th class=\"blank level0\" >&nbsp;</th>\n",
       "      <th id=\"T_f8645_level0_col0\" class=\"col_heading level0 col0\" >workclass</th>\n",
       "      <th id=\"T_f8645_level0_col1\" class=\"col_heading level0 col1\" >education</th>\n",
       "      <th id=\"T_f8645_level0_col2\" class=\"col_heading level0 col2\" >marital-status</th>\n",
       "      <th id=\"T_f8645_level0_col3\" class=\"col_heading level0 col3\" >occupation</th>\n",
       "      <th id=\"T_f8645_level0_col4\" class=\"col_heading level0 col4\" >relationship</th>\n",
       "      <th id=\"T_f8645_level0_col5\" class=\"col_heading level0 col5\" >race</th>\n",
       "      <th id=\"T_f8645_level0_col6\" class=\"col_heading level0 col6\" >gender</th>\n",
       "      <th id=\"T_f8645_level0_col7\" class=\"col_heading level0 col7\" >native-country</th>\n",
       "      <th id=\"T_f8645_level0_col8\" class=\"col_heading level0 col8\" >capital-gain</th>\n",
       "      <th id=\"T_f8645_level0_col9\" class=\"col_heading level0 col9\" >capital-loss</th>\n",
       "      <th id=\"T_f8645_level0_col10\" class=\"col_heading level0 col10\" >hours-per-week</th>\n",
       "      <th id=\"T_f8645_level0_col11\" class=\"col_heading level0 col11\" >age</th>\n",
       "    </tr>\n",
       "  </thead>\n",
       "  <tbody>\n",
       "    <tr>\n",
       "      <th id=\"T_f8645_level0_row0\" class=\"row_heading level0 row0\" >0</th>\n",
       "      <td id=\"T_f8645_row0_col0\" class=\"data row0 col0\" >Federal-gov</td>\n",
       "      <td id=\"T_f8645_row0_col1\" class=\"data row0 col1\" >Masters</td>\n",
       "      <td id=\"T_f8645_row0_col2\" class=\"data row0 col2\" >Married-civ-spouse</td>\n",
       "      <td id=\"T_f8645_row0_col3\" class=\"data row0 col3\" >Craft-repair</td>\n",
       "      <td id=\"T_f8645_row0_col4\" class=\"data row0 col4\" >Husband</td>\n",
       "      <td id=\"T_f8645_row0_col5\" class=\"data row0 col5\" >White</td>\n",
       "      <td id=\"T_f8645_row0_col6\" class=\"data row0 col6\" >Male</td>\n",
       "      <td id=\"T_f8645_row0_col7\" class=\"data row0 col7\" >United-States</td>\n",
       "      <td id=\"T_f8645_row0_col8\" class=\"data row0 col8\" >0</td>\n",
       "      <td id=\"T_f8645_row0_col9\" class=\"data row0 col9\" >0</td>\n",
       "      <td id=\"T_f8645_row0_col10\" class=\"data row0 col10\" >40</td>\n",
       "      <td id=\"T_f8645_row0_col11\" class=\"data row0 col11\" >33</td>\n",
       "    </tr>\n",
       "  </tbody>\n",
       "</table>\n"
      ],
      "text/plain": [
       "<pandas.io.formats.style.Styler at 0x7fd38a35e1a0>"
      ]
     },
     "metadata": {},
     "output_type": "display_data"
    },
    {
     "name": "stdout",
     "output_type": "stream",
     "text": [
      "\n",
      "Predicted:  tensor(1)  ||  Desired:  tensor(1)  ||  Orginal:  tensor(0)\n",
      "************************************************************************************************************************\n",
      "Kept counterfactual generation: \n"
     ]
    },
    {
     "data": {
      "text/html": [
       "<style type=\"text/css\">\n",
       "#T_11c4a_row0_col0, #T_11c4a_row0_col1, #T_11c4a_row0_col10 {\n",
       "  background-color: green;\n",
       "}\n",
       "#T_11c4a_row0_col2, #T_11c4a_row0_col3, #T_11c4a_row0_col4, #T_11c4a_row0_col5, #T_11c4a_row0_col6, #T_11c4a_row0_col7, #T_11c4a_row0_col8, #T_11c4a_row0_col9, #T_11c4a_row0_col11 {\n",
       "  background-color: ;\n",
       "}\n",
       "</style>\n",
       "<table id=\"T_11c4a\">\n",
       "  <thead>\n",
       "    <tr>\n",
       "      <th class=\"blank level0\" >&nbsp;</th>\n",
       "      <th id=\"T_11c4a_level0_col0\" class=\"col_heading level0 col0\" >workclass</th>\n",
       "      <th id=\"T_11c4a_level0_col1\" class=\"col_heading level0 col1\" >education</th>\n",
       "      <th id=\"T_11c4a_level0_col2\" class=\"col_heading level0 col2\" >marital-status</th>\n",
       "      <th id=\"T_11c4a_level0_col3\" class=\"col_heading level0 col3\" >occupation</th>\n",
       "      <th id=\"T_11c4a_level0_col4\" class=\"col_heading level0 col4\" >relationship</th>\n",
       "      <th id=\"T_11c4a_level0_col5\" class=\"col_heading level0 col5\" >race</th>\n",
       "      <th id=\"T_11c4a_level0_col6\" class=\"col_heading level0 col6\" >gender</th>\n",
       "      <th id=\"T_11c4a_level0_col7\" class=\"col_heading level0 col7\" >native-country</th>\n",
       "      <th id=\"T_11c4a_level0_col8\" class=\"col_heading level0 col8\" >capital-gain</th>\n",
       "      <th id=\"T_11c4a_level0_col9\" class=\"col_heading level0 col9\" >capital-loss</th>\n",
       "      <th id=\"T_11c4a_level0_col10\" class=\"col_heading level0 col10\" >hours-per-week</th>\n",
       "      <th id=\"T_11c4a_level0_col11\" class=\"col_heading level0 col11\" >age</th>\n",
       "    </tr>\n",
       "  </thead>\n",
       "  <tbody>\n",
       "    <tr>\n",
       "      <th id=\"T_11c4a_level0_row0\" class=\"row_heading level0 row0\" >0</th>\n",
       "      <td id=\"T_11c4a_row0_col0\" class=\"data row0 col0\" >Federal-gov</td>\n",
       "      <td id=\"T_11c4a_row0_col1\" class=\"data row0 col1\" >Masters</td>\n",
       "      <td id=\"T_11c4a_row0_col2\" class=\"data row0 col2\" >Married-civ-spouse</td>\n",
       "      <td id=\"T_11c4a_row0_col3\" class=\"data row0 col3\" >Craft-repair</td>\n",
       "      <td id=\"T_11c4a_row0_col4\" class=\"data row0 col4\" >Husband</td>\n",
       "      <td id=\"T_11c4a_row0_col5\" class=\"data row0 col5\" >White</td>\n",
       "      <td id=\"T_11c4a_row0_col6\" class=\"data row0 col6\" >Male</td>\n",
       "      <td id=\"T_11c4a_row0_col7\" class=\"data row0 col7\" >United-States</td>\n",
       "      <td id=\"T_11c4a_row0_col8\" class=\"data row0 col8\" >0</td>\n",
       "      <td id=\"T_11c4a_row0_col9\" class=\"data row0 col9\" >0</td>\n",
       "      <td id=\"T_11c4a_row0_col10\" class=\"data row0 col10\" >43</td>\n",
       "      <td id=\"T_11c4a_row0_col11\" class=\"data row0 col11\" >33</td>\n",
       "    </tr>\n",
       "  </tbody>\n",
       "</table>\n"
      ],
      "text/plain": [
       "<pandas.io.formats.style.Styler at 0x7fd38a35cfa0>"
      ]
     },
     "metadata": {},
     "output_type": "display_data"
    },
    {
     "name": "stdout",
     "output_type": "stream",
     "text": [
      "\n",
      "Predicted:  tensor(1)  ||  Desired:  tensor(1)  ||  Orginal:  tensor(0)\n",
      "************************************************************************************************************************\n"
     ]
    }
   ],
   "source": [
    "cols = ['workclass', 'education', 'marital-status', 'occupation', \\\n",
    "       'relationship', 'race', 'gender', 'native-country', 'capital-gain', \\\n",
    "       'capital-loss', 'hours-per-week', 'age']\n",
    "\n",
    "display_tabular_cfs(cfs, model, x, desired_class, scaler, encoder, cols)"
   ]
  },
  {
   "cell_type": "code",
   "execution_count": 5,
   "id": "ef85de68-7df4-4b6e-9e2d-8151cea3ad9c",
   "metadata": {},
   "outputs": [
    {
     "name": "stdout",
     "output_type": "stream",
     "text": [
      "Original: \n"
     ]
    },
    {
     "data": {
      "text/html": [
       "<div>\n",
       "<style scoped>\n",
       "    .dataframe tbody tr th:only-of-type {\n",
       "        vertical-align: middle;\n",
       "    }\n",
       "\n",
       "    .dataframe tbody tr th {\n",
       "        vertical-align: top;\n",
       "    }\n",
       "\n",
       "    .dataframe thead th {\n",
       "        text-align: right;\n",
       "    }\n",
       "</style>\n",
       "<table border=\"1\" class=\"dataframe\">\n",
       "  <thead>\n",
       "    <tr style=\"text-align: right;\">\n",
       "      <th></th>\n",
       "      <th>workclass</th>\n",
       "      <th>education</th>\n",
       "      <th>marital-status</th>\n",
       "      <th>occupation</th>\n",
       "      <th>relationship</th>\n",
       "      <th>race</th>\n",
       "      <th>gender</th>\n",
       "      <th>native-country</th>\n",
       "      <th>capital-gain</th>\n",
       "      <th>capital-loss</th>\n",
       "      <th>hours-per-week</th>\n",
       "      <th>age</th>\n",
       "    </tr>\n",
       "  </thead>\n",
       "  <tbody>\n",
       "    <tr>\n",
       "      <th>0</th>\n",
       "      <td>Self-emp-not-inc</td>\n",
       "      <td>HS-grad</td>\n",
       "      <td>Married-civ-spouse</td>\n",
       "      <td>Craft-repair</td>\n",
       "      <td>Husband</td>\n",
       "      <td>White</td>\n",
       "      <td>Male</td>\n",
       "      <td>United-States</td>\n",
       "      <td>0</td>\n",
       "      <td>0</td>\n",
       "      <td>40</td>\n",
       "      <td>33</td>\n",
       "    </tr>\n",
       "  </tbody>\n",
       "</table>\n",
       "</div>"
      ],
      "text/plain": [
       "          workclass education      marital-status    occupation relationship  \\\n",
       "0  Self-emp-not-inc   HS-grad  Married-civ-spouse  Craft-repair      Husband   \n",
       "\n",
       "    race gender native-country  capital-gain  capital-loss  hours-per-week  \\\n",
       "0  White   Male  United-States             0             0              40   \n",
       "\n",
       "   age  \n",
       "0   33  "
      ]
     },
     "metadata": {},
     "output_type": "display_data"
    },
    {
     "name": "stdout",
     "output_type": "stream",
     "text": [
      "\n",
      "Kept counterfactual generation: \n"
     ]
    },
    {
     "data": {
      "text/html": [
       "<style type=\"text/css\">\n",
       "#T_a7168_row0_col0, #T_a7168_row0_col1, #T_a7168_row0_col3, #T_a7168_row0_col11 {\n",
       "  background-color: green;\n",
       "}\n",
       "#T_a7168_row0_col2, #T_a7168_row0_col4, #T_a7168_row0_col5, #T_a7168_row0_col6, #T_a7168_row0_col7, #T_a7168_row0_col8, #T_a7168_row0_col9, #T_a7168_row0_col10 {\n",
       "  background-color: ;\n",
       "}\n",
       "</style>\n",
       "<table id=\"T_a7168\">\n",
       "  <thead>\n",
       "    <tr>\n",
       "      <th class=\"blank level0\" >&nbsp;</th>\n",
       "      <th id=\"T_a7168_level0_col0\" class=\"col_heading level0 col0\" >workclass</th>\n",
       "      <th id=\"T_a7168_level0_col1\" class=\"col_heading level0 col1\" >education</th>\n",
       "      <th id=\"T_a7168_level0_col2\" class=\"col_heading level0 col2\" >marital-status</th>\n",
       "      <th id=\"T_a7168_level0_col3\" class=\"col_heading level0 col3\" >occupation</th>\n",
       "      <th id=\"T_a7168_level0_col4\" class=\"col_heading level0 col4\" >relationship</th>\n",
       "      <th id=\"T_a7168_level0_col5\" class=\"col_heading level0 col5\" >race</th>\n",
       "      <th id=\"T_a7168_level0_col6\" class=\"col_heading level0 col6\" >gender</th>\n",
       "      <th id=\"T_a7168_level0_col7\" class=\"col_heading level0 col7\" >native-country</th>\n",
       "      <th id=\"T_a7168_level0_col8\" class=\"col_heading level0 col8\" >capital-gain</th>\n",
       "      <th id=\"T_a7168_level0_col9\" class=\"col_heading level0 col9\" >capital-loss</th>\n",
       "      <th id=\"T_a7168_level0_col10\" class=\"col_heading level0 col10\" >hours-per-week</th>\n",
       "      <th id=\"T_a7168_level0_col11\" class=\"col_heading level0 col11\" >age</th>\n",
       "    </tr>\n",
       "  </thead>\n",
       "  <tbody>\n",
       "    <tr>\n",
       "      <th id=\"T_a7168_level0_row0\" class=\"row_heading level0 row0\" >0</th>\n",
       "      <td id=\"T_a7168_row0_col0\" class=\"data row0 col0\" >Local-gov</td>\n",
       "      <td id=\"T_a7168_row0_col1\" class=\"data row0 col1\" >Some-college</td>\n",
       "      <td id=\"T_a7168_row0_col2\" class=\"data row0 col2\" >Married-civ-spouse</td>\n",
       "      <td id=\"T_a7168_row0_col3\" class=\"data row0 col3\" >Exec-managerial</td>\n",
       "      <td id=\"T_a7168_row0_col4\" class=\"data row0 col4\" >Husband</td>\n",
       "      <td id=\"T_a7168_row0_col5\" class=\"data row0 col5\" >White</td>\n",
       "      <td id=\"T_a7168_row0_col6\" class=\"data row0 col6\" >Male</td>\n",
       "      <td id=\"T_a7168_row0_col7\" class=\"data row0 col7\" >United-States</td>\n",
       "      <td id=\"T_a7168_row0_col8\" class=\"data row0 col8\" >0</td>\n",
       "      <td id=\"T_a7168_row0_col9\" class=\"data row0 col9\" >0</td>\n",
       "      <td id=\"T_a7168_row0_col10\" class=\"data row0 col10\" >40</td>\n",
       "      <td id=\"T_a7168_row0_col11\" class=\"data row0 col11\" >52</td>\n",
       "    </tr>\n",
       "  </tbody>\n",
       "</table>\n"
      ],
      "text/plain": [
       "<pandas.io.formats.style.Styler at 0x7fd38a35e1a0>"
      ]
     },
     "metadata": {},
     "output_type": "display_data"
    },
    {
     "name": "stdout",
     "output_type": "stream",
     "text": [
      "\n",
      "Predicted:  tensor(1)  ||  Desired:  tensor(1)  ||  Orginal:  tensor(0)\n",
      "************************************************************************************************************************\n"
     ]
    }
   ],
   "source": [
    "display_tabular_cfs(baseline_cfs, model, x, desired_class, scaler, encoder, cols)"
   ]
  },
  {
   "cell_type": "code",
   "execution_count": null,
   "id": "f2817624-0ce3-4836-a9b5-df3222204aae",
   "metadata": {},
   "outputs": [],
   "source": []
  }
 ],
 "metadata": {
  "kernelspec": {
   "display_name": "molformer",
   "language": "python",
   "name": "molformer"
  },
  "language_info": {
   "codemirror_mode": {
    "name": "ipython",
    "version": 3
   },
   "file_extension": ".py",
   "mimetype": "text/x-python",
   "name": "python",
   "nbconvert_exporter": "python",
   "pygments_lexer": "ipython3",
   "version": "3.10.6"
  }
 },
 "nbformat": 4,
 "nbformat_minor": 5
}
